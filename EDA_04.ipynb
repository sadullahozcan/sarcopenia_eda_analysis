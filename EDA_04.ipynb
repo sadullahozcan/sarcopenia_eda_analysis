{
  "nbformat": 4,
  "nbformat_minor": 0,
  "metadata": {
    "colab": {
      "provenance": [],
      "mount_file_id": "10ko2OJDDv--tDPxN1R2Hm9L_xspXP-sF",
      "authorship_tag": "ABX9TyN0m+3dkIqyMB/JG6C8X5Sh",
      "include_colab_link": true
    },
    "kernelspec": {
      "name": "python3",
      "display_name": "Python 3"
    },
    "language_info": {
      "name": "python"
    }
  },
  "cells": [
    {
      "cell_type": "markdown",
      "metadata": {
        "id": "view-in-github",
        "colab_type": "text"
      },
      "source": [
        "<a href=\"https://colab.research.google.com/github/sadullahozcan/sarcopenia_eda_analysis/blob/main/EDA_04.ipynb\" target=\"_parent\"><img src=\"https://colab.research.google.com/assets/colab-badge.svg\" alt=\"Open In Colab\"/></a>"
      ]
    },
    {
      "cell_type": "code",
      "execution_count": null,
      "metadata": {
        "id": "mjB9mHEAI09V"
      },
      "outputs": [],
      "source": [
        "import pandas as pd\n",
        "import numpy as np\n",
        "import matplotlib.pyplot as plt\n",
        "import seaborn as sns"
      ]
    },
    {
      "cell_type": "code",
      "source": [
        "from google.colab import drive\n",
        "drive.mount('/content/drive')"
      ],
      "metadata": {
        "colab": {
          "base_uri": "https://localhost:8080/"
        },
        "id": "G7uQegsYJfgb",
        "outputId": "9678e7d5-24a6-419c-fcae-ce4d5805d0eb"
      },
      "execution_count": null,
      "outputs": [
        {
          "output_type": "stream",
          "name": "stdout",
          "text": [
            "Drive already mounted at /content/drive; to attempt to forcibly remount, call drive.mount(\"/content/drive\", force_remount=True).\n"
          ]
        }
      ]
    },
    {
      "cell_type": "code",
      "source": [
        "df = pd.read_excel(\"/content/drive/MyDrive/SARCOPENIA_PROJECT/sarcopenia-data-set_columns_corrected_3_final.xlsx\")"
      ],
      "metadata": {
        "id": "AfVquYIzJr_D"
      },
      "execution_count": null,
      "outputs": []
    },
    {
      "cell_type": "code",
      "source": [
        "df.columns"
      ],
      "metadata": {
        "colab": {
          "base_uri": "https://localhost:8080/"
        },
        "id": "la2Y9qGSKyOE",
        "outputId": "4a568a19-8057-4090-b6f7-eff955b9ae27"
      },
      "execution_count": null,
      "outputs": [
        {
          "output_type": "execute_result",
          "data": {
            "text/plain": [
              "Index(['Unnamed: 0.2', 'Unnamed: 0.1', 'Unnamed: 0', 'Name', 'Order', 'Gender',\n",
              "       'Age', 'Weight', 'Height', 'Waist', 'Hip', 'Smoking',\n",
              "       'Smoking_packet_per_year', 'Alcohol', 'DM_Type2', 'DM_Type2_Duration',\n",
              "       'Insulin', 'DM_Type2_Drug', 'DM_Type2_Drug_Usage', 'Dyslipidemia',\n",
              "       'Dyslipidemia_duration', 'KAH', 'KAH_Duration', 'Hipotiroidi', 'Asthma',\n",
              "       'COPD', 'OP', 'HT', 'Duration_of_HT', 'N_HT', 'HT_drugs',\n",
              "       'HT_Drug_Usage', 'Duration_of_1HT', 'Education', 'Job', 'Status',\n",
              "       'Work_Status', 'Exercise', 'Exercise_Status', 'AT', 'CST', 'Gait_Speed',\n",
              "       'Grip_Str', 'STAR', 'BMI', 'MMSE', 'Sarcopenia'],\n",
              "      dtype='object')"
            ]
          },
          "metadata": {},
          "execution_count": 4
        }
      ]
    },
    {
      "cell_type": "code",
      "source": [
        "df.head(n=5)"
      ],
      "metadata": {
        "colab": {
          "base_uri": "https://localhost:8080/",
          "height": 359
        },
        "id": "q8YGE3-UK1ZH",
        "outputId": "01e4a2a3-c6c7-42f5-bd12-1588d1c51185"
      },
      "execution_count": null,
      "outputs": [
        {
          "output_type": "execute_result",
          "data": {
            "text/plain": [
              "   Unnamed: 0.2  Unnamed: 0.1  Unnamed: 0        Name  Order Gender   Age  \\\n",
              "0             0             0           0  beyzanur 0      1      M  74.0   \n",
              "1             1             1           1  beyzanur 1      2      M  62.0   \n",
              "2             2             2           2  beyzanur 2      3      M  65.0   \n",
              "3             3             3           3  beyzanur 3      4      F  71.0   \n",
              "4             4             4           4  beyzanur 4      5      F  61.0   \n",
              "\n",
              "   Weight  Height  Waist  ...  Exercise  Exercise_Status    AT   CST  \\\n",
              "0    88.0   178.0  113.0  ...  3-4/week                1  50.2  12.5   \n",
              "1   105.0   172.0  125.0  ...         0                0  49.0  12.1   \n",
              "2    89.0   169.0  110.0  ...  3-4/week                1  37.3   8.7   \n",
              "3    68.0   160.0  103.0  ...  1-2/week                1  29.5   8.3   \n",
              "4    80.0   160.0  102.0  ...  1-2/week                1  39.5  11.0   \n",
              "\n",
              "   Gait_Speed  Grip_Str  STAR   BMI  MMSE  Sarcopenia  \n",
              "0        1.21      32.0  1.81  27.8    29           0  \n",
              "1        1.42      47.0  1.38  35.5    30           1  \n",
              "2        1.18      33.0  1.20  31.2    28           0  \n",
              "3        1.23      25.0  1.11  26.6    29           0  \n",
              "4        1.31      31.0  1.26  31.3    27           0  \n",
              "\n",
              "[5 rows x 47 columns]"
            ],
            "text/html": [
              "\n",
              "  <div id=\"df-31fd2dd5-0d00-4f0f-a7cf-158b83517974\" class=\"colab-df-container\">\n",
              "    <div>\n",
              "<style scoped>\n",
              "    .dataframe tbody tr th:only-of-type {\n",
              "        vertical-align: middle;\n",
              "    }\n",
              "\n",
              "    .dataframe tbody tr th {\n",
              "        vertical-align: top;\n",
              "    }\n",
              "\n",
              "    .dataframe thead th {\n",
              "        text-align: right;\n",
              "    }\n",
              "</style>\n",
              "<table border=\"1\" class=\"dataframe\">\n",
              "  <thead>\n",
              "    <tr style=\"text-align: right;\">\n",
              "      <th></th>\n",
              "      <th>Unnamed: 0.2</th>\n",
              "      <th>Unnamed: 0.1</th>\n",
              "      <th>Unnamed: 0</th>\n",
              "      <th>Name</th>\n",
              "      <th>Order</th>\n",
              "      <th>Gender</th>\n",
              "      <th>Age</th>\n",
              "      <th>Weight</th>\n",
              "      <th>Height</th>\n",
              "      <th>Waist</th>\n",
              "      <th>...</th>\n",
              "      <th>Exercise</th>\n",
              "      <th>Exercise_Status</th>\n",
              "      <th>AT</th>\n",
              "      <th>CST</th>\n",
              "      <th>Gait_Speed</th>\n",
              "      <th>Grip_Str</th>\n",
              "      <th>STAR</th>\n",
              "      <th>BMI</th>\n",
              "      <th>MMSE</th>\n",
              "      <th>Sarcopenia</th>\n",
              "    </tr>\n",
              "  </thead>\n",
              "  <tbody>\n",
              "    <tr>\n",
              "      <th>0</th>\n",
              "      <td>0</td>\n",
              "      <td>0</td>\n",
              "      <td>0</td>\n",
              "      <td>beyzanur 0</td>\n",
              "      <td>1</td>\n",
              "      <td>M</td>\n",
              "      <td>74.0</td>\n",
              "      <td>88.0</td>\n",
              "      <td>178.0</td>\n",
              "      <td>113.0</td>\n",
              "      <td>...</td>\n",
              "      <td>3-4/week</td>\n",
              "      <td>1</td>\n",
              "      <td>50.2</td>\n",
              "      <td>12.5</td>\n",
              "      <td>1.21</td>\n",
              "      <td>32.0</td>\n",
              "      <td>1.81</td>\n",
              "      <td>27.8</td>\n",
              "      <td>29</td>\n",
              "      <td>0</td>\n",
              "    </tr>\n",
              "    <tr>\n",
              "      <th>1</th>\n",
              "      <td>1</td>\n",
              "      <td>1</td>\n",
              "      <td>1</td>\n",
              "      <td>beyzanur 1</td>\n",
              "      <td>2</td>\n",
              "      <td>M</td>\n",
              "      <td>62.0</td>\n",
              "      <td>105.0</td>\n",
              "      <td>172.0</td>\n",
              "      <td>125.0</td>\n",
              "      <td>...</td>\n",
              "      <td>0</td>\n",
              "      <td>0</td>\n",
              "      <td>49.0</td>\n",
              "      <td>12.1</td>\n",
              "      <td>1.42</td>\n",
              "      <td>47.0</td>\n",
              "      <td>1.38</td>\n",
              "      <td>35.5</td>\n",
              "      <td>30</td>\n",
              "      <td>1</td>\n",
              "    </tr>\n",
              "    <tr>\n",
              "      <th>2</th>\n",
              "      <td>2</td>\n",
              "      <td>2</td>\n",
              "      <td>2</td>\n",
              "      <td>beyzanur 2</td>\n",
              "      <td>3</td>\n",
              "      <td>M</td>\n",
              "      <td>65.0</td>\n",
              "      <td>89.0</td>\n",
              "      <td>169.0</td>\n",
              "      <td>110.0</td>\n",
              "      <td>...</td>\n",
              "      <td>3-4/week</td>\n",
              "      <td>1</td>\n",
              "      <td>37.3</td>\n",
              "      <td>8.7</td>\n",
              "      <td>1.18</td>\n",
              "      <td>33.0</td>\n",
              "      <td>1.20</td>\n",
              "      <td>31.2</td>\n",
              "      <td>28</td>\n",
              "      <td>0</td>\n",
              "    </tr>\n",
              "    <tr>\n",
              "      <th>3</th>\n",
              "      <td>3</td>\n",
              "      <td>3</td>\n",
              "      <td>3</td>\n",
              "      <td>beyzanur 3</td>\n",
              "      <td>4</td>\n",
              "      <td>F</td>\n",
              "      <td>71.0</td>\n",
              "      <td>68.0</td>\n",
              "      <td>160.0</td>\n",
              "      <td>103.0</td>\n",
              "      <td>...</td>\n",
              "      <td>1-2/week</td>\n",
              "      <td>1</td>\n",
              "      <td>29.5</td>\n",
              "      <td>8.3</td>\n",
              "      <td>1.23</td>\n",
              "      <td>25.0</td>\n",
              "      <td>1.11</td>\n",
              "      <td>26.6</td>\n",
              "      <td>29</td>\n",
              "      <td>0</td>\n",
              "    </tr>\n",
              "    <tr>\n",
              "      <th>4</th>\n",
              "      <td>4</td>\n",
              "      <td>4</td>\n",
              "      <td>4</td>\n",
              "      <td>beyzanur 4</td>\n",
              "      <td>5</td>\n",
              "      <td>F</td>\n",
              "      <td>61.0</td>\n",
              "      <td>80.0</td>\n",
              "      <td>160.0</td>\n",
              "      <td>102.0</td>\n",
              "      <td>...</td>\n",
              "      <td>1-2/week</td>\n",
              "      <td>1</td>\n",
              "      <td>39.5</td>\n",
              "      <td>11.0</td>\n",
              "      <td>1.31</td>\n",
              "      <td>31.0</td>\n",
              "      <td>1.26</td>\n",
              "      <td>31.3</td>\n",
              "      <td>27</td>\n",
              "      <td>0</td>\n",
              "    </tr>\n",
              "  </tbody>\n",
              "</table>\n",
              "<p>5 rows × 47 columns</p>\n",
              "</div>\n",
              "    <div class=\"colab-df-buttons\">\n",
              "\n",
              "  <div class=\"colab-df-container\">\n",
              "    <button class=\"colab-df-convert\" onclick=\"convertToInteractive('df-31fd2dd5-0d00-4f0f-a7cf-158b83517974')\"\n",
              "            title=\"Convert this dataframe to an interactive table.\"\n",
              "            style=\"display:none;\">\n",
              "\n",
              "  <svg xmlns=\"http://www.w3.org/2000/svg\" height=\"24px\" viewBox=\"0 -960 960 960\">\n",
              "    <path d=\"M120-120v-720h720v720H120Zm60-500h600v-160H180v160Zm220 220h160v-160H400v160Zm0 220h160v-160H400v160ZM180-400h160v-160H180v160Zm440 0h160v-160H620v160ZM180-180h160v-160H180v160Zm440 0h160v-160H620v160Z\"/>\n",
              "  </svg>\n",
              "    </button>\n",
              "\n",
              "  <style>\n",
              "    .colab-df-container {\n",
              "      display:flex;\n",
              "      gap: 12px;\n",
              "    }\n",
              "\n",
              "    .colab-df-convert {\n",
              "      background-color: #E8F0FE;\n",
              "      border: none;\n",
              "      border-radius: 50%;\n",
              "      cursor: pointer;\n",
              "      display: none;\n",
              "      fill: #1967D2;\n",
              "      height: 32px;\n",
              "      padding: 0 0 0 0;\n",
              "      width: 32px;\n",
              "    }\n",
              "\n",
              "    .colab-df-convert:hover {\n",
              "      background-color: #E2EBFA;\n",
              "      box-shadow: 0px 1px 2px rgba(60, 64, 67, 0.3), 0px 1px 3px 1px rgba(60, 64, 67, 0.15);\n",
              "      fill: #174EA6;\n",
              "    }\n",
              "\n",
              "    .colab-df-buttons div {\n",
              "      margin-bottom: 4px;\n",
              "    }\n",
              "\n",
              "    [theme=dark] .colab-df-convert {\n",
              "      background-color: #3B4455;\n",
              "      fill: #D2E3FC;\n",
              "    }\n",
              "\n",
              "    [theme=dark] .colab-df-convert:hover {\n",
              "      background-color: #434B5C;\n",
              "      box-shadow: 0px 1px 3px 1px rgba(0, 0, 0, 0.15);\n",
              "      filter: drop-shadow(0px 1px 2px rgba(0, 0, 0, 0.3));\n",
              "      fill: #FFFFFF;\n",
              "    }\n",
              "  </style>\n",
              "\n",
              "    <script>\n",
              "      const buttonEl =\n",
              "        document.querySelector('#df-31fd2dd5-0d00-4f0f-a7cf-158b83517974 button.colab-df-convert');\n",
              "      buttonEl.style.display =\n",
              "        google.colab.kernel.accessAllowed ? 'block' : 'none';\n",
              "\n",
              "      async function convertToInteractive(key) {\n",
              "        const element = document.querySelector('#df-31fd2dd5-0d00-4f0f-a7cf-158b83517974');\n",
              "        const dataTable =\n",
              "          await google.colab.kernel.invokeFunction('convertToInteractive',\n",
              "                                                    [key], {});\n",
              "        if (!dataTable) return;\n",
              "\n",
              "        const docLinkHtml = 'Like what you see? Visit the ' +\n",
              "          '<a target=\"_blank\" href=https://colab.research.google.com/notebooks/data_table.ipynb>data table notebook</a>'\n",
              "          + ' to learn more about interactive tables.';\n",
              "        element.innerHTML = '';\n",
              "        dataTable['output_type'] = 'display_data';\n",
              "        await google.colab.output.renderOutput(dataTable, element);\n",
              "        const docLink = document.createElement('div');\n",
              "        docLink.innerHTML = docLinkHtml;\n",
              "        element.appendChild(docLink);\n",
              "      }\n",
              "    </script>\n",
              "  </div>\n",
              "\n",
              "\n",
              "    <div id=\"df-82429815-b26c-4c93-9c30-cfb088b0fd1a\">\n",
              "      <button class=\"colab-df-quickchart\" onclick=\"quickchart('df-82429815-b26c-4c93-9c30-cfb088b0fd1a')\"\n",
              "                title=\"Suggest charts\"\n",
              "                style=\"display:none;\">\n",
              "\n",
              "<svg xmlns=\"http://www.w3.org/2000/svg\" height=\"24px\"viewBox=\"0 0 24 24\"\n",
              "     width=\"24px\">\n",
              "    <g>\n",
              "        <path d=\"M19 3H5c-1.1 0-2 .9-2 2v14c0 1.1.9 2 2 2h14c1.1 0 2-.9 2-2V5c0-1.1-.9-2-2-2zM9 17H7v-7h2v7zm4 0h-2V7h2v10zm4 0h-2v-4h2v4z\"/>\n",
              "    </g>\n",
              "</svg>\n",
              "      </button>\n",
              "\n",
              "<style>\n",
              "  .colab-df-quickchart {\n",
              "      --bg-color: #E8F0FE;\n",
              "      --fill-color: #1967D2;\n",
              "      --hover-bg-color: #E2EBFA;\n",
              "      --hover-fill-color: #174EA6;\n",
              "      --disabled-fill-color: #AAA;\n",
              "      --disabled-bg-color: #DDD;\n",
              "  }\n",
              "\n",
              "  [theme=dark] .colab-df-quickchart {\n",
              "      --bg-color: #3B4455;\n",
              "      --fill-color: #D2E3FC;\n",
              "      --hover-bg-color: #434B5C;\n",
              "      --hover-fill-color: #FFFFFF;\n",
              "      --disabled-bg-color: #3B4455;\n",
              "      --disabled-fill-color: #666;\n",
              "  }\n",
              "\n",
              "  .colab-df-quickchart {\n",
              "    background-color: var(--bg-color);\n",
              "    border: none;\n",
              "    border-radius: 50%;\n",
              "    cursor: pointer;\n",
              "    display: none;\n",
              "    fill: var(--fill-color);\n",
              "    height: 32px;\n",
              "    padding: 0;\n",
              "    width: 32px;\n",
              "  }\n",
              "\n",
              "  .colab-df-quickchart:hover {\n",
              "    background-color: var(--hover-bg-color);\n",
              "    box-shadow: 0 1px 2px rgba(60, 64, 67, 0.3), 0 1px 3px 1px rgba(60, 64, 67, 0.15);\n",
              "    fill: var(--button-hover-fill-color);\n",
              "  }\n",
              "\n",
              "  .colab-df-quickchart-complete:disabled,\n",
              "  .colab-df-quickchart-complete:disabled:hover {\n",
              "    background-color: var(--disabled-bg-color);\n",
              "    fill: var(--disabled-fill-color);\n",
              "    box-shadow: none;\n",
              "  }\n",
              "\n",
              "  .colab-df-spinner {\n",
              "    border: 2px solid var(--fill-color);\n",
              "    border-color: transparent;\n",
              "    border-bottom-color: var(--fill-color);\n",
              "    animation:\n",
              "      spin 1s steps(1) infinite;\n",
              "  }\n",
              "\n",
              "  @keyframes spin {\n",
              "    0% {\n",
              "      border-color: transparent;\n",
              "      border-bottom-color: var(--fill-color);\n",
              "      border-left-color: var(--fill-color);\n",
              "    }\n",
              "    20% {\n",
              "      border-color: transparent;\n",
              "      border-left-color: var(--fill-color);\n",
              "      border-top-color: var(--fill-color);\n",
              "    }\n",
              "    30% {\n",
              "      border-color: transparent;\n",
              "      border-left-color: var(--fill-color);\n",
              "      border-top-color: var(--fill-color);\n",
              "      border-right-color: var(--fill-color);\n",
              "    }\n",
              "    40% {\n",
              "      border-color: transparent;\n",
              "      border-right-color: var(--fill-color);\n",
              "      border-top-color: var(--fill-color);\n",
              "    }\n",
              "    60% {\n",
              "      border-color: transparent;\n",
              "      border-right-color: var(--fill-color);\n",
              "    }\n",
              "    80% {\n",
              "      border-color: transparent;\n",
              "      border-right-color: var(--fill-color);\n",
              "      border-bottom-color: var(--fill-color);\n",
              "    }\n",
              "    90% {\n",
              "      border-color: transparent;\n",
              "      border-bottom-color: var(--fill-color);\n",
              "    }\n",
              "  }\n",
              "</style>\n",
              "\n",
              "      <script>\n",
              "        async function quickchart(key) {\n",
              "          const quickchartButtonEl =\n",
              "            document.querySelector('#' + key + ' button');\n",
              "          quickchartButtonEl.disabled = true;  // To prevent multiple clicks.\n",
              "          quickchartButtonEl.classList.add('colab-df-spinner');\n",
              "          try {\n",
              "            const charts = await google.colab.kernel.invokeFunction(\n",
              "                'suggestCharts', [key], {});\n",
              "          } catch (error) {\n",
              "            console.error('Error during call to suggestCharts:', error);\n",
              "          }\n",
              "          quickchartButtonEl.classList.remove('colab-df-spinner');\n",
              "          quickchartButtonEl.classList.add('colab-df-quickchart-complete');\n",
              "        }\n",
              "        (() => {\n",
              "          let quickchartButtonEl =\n",
              "            document.querySelector('#df-82429815-b26c-4c93-9c30-cfb088b0fd1a button');\n",
              "          quickchartButtonEl.style.display =\n",
              "            google.colab.kernel.accessAllowed ? 'block' : 'none';\n",
              "        })();\n",
              "      </script>\n",
              "    </div>\n",
              "\n",
              "    </div>\n",
              "  </div>\n"
            ],
            "application/vnd.google.colaboratory.intrinsic+json": {
              "type": "dataframe",
              "variable_name": "df"
            }
          },
          "metadata": {},
          "execution_count": 5
        }
      ]
    },
    {
      "cell_type": "code",
      "source": [
        "df.drop('Unnamed: 0', axis=1, inplace=True)"
      ],
      "metadata": {
        "id": "QijokEG4OS8M"
      },
      "execution_count": null,
      "outputs": []
    },
    {
      "cell_type": "code",
      "source": [
        "df.drop('Unnamed: 0.1', axis=1, inplace=True)"
      ],
      "metadata": {
        "id": "pJ0nKU9pOSwv"
      },
      "execution_count": null,
      "outputs": []
    },
    {
      "cell_type": "code",
      "source": [
        "df.drop('Unnamed: 0.2', axis=1, inplace=True)"
      ],
      "metadata": {
        "id": "8gwtnnsDOo0W"
      },
      "execution_count": null,
      "outputs": []
    },
    {
      "cell_type": "code",
      "source": [
        "df.drop('Order',axis=1, inplace=True)"
      ],
      "metadata": {
        "colab": {
          "base_uri": "https://localhost:8080/",
          "height": 298
        },
        "id": "27BSwVypO4qV",
        "outputId": "ae760184-d6b2-4b06-a63e-3916790454d8"
      },
      "execution_count": null,
      "outputs": [
        {
          "output_type": "error",
          "ename": "KeyError",
          "evalue": "\"['Order'] not found in axis\"",
          "traceback": [
            "\u001b[0;31m---------------------------------------------------------------------------\u001b[0m",
            "\u001b[0;31mKeyError\u001b[0m                                  Traceback (most recent call last)",
            "\u001b[0;32m<ipython-input-22-1040869886>\u001b[0m in \u001b[0;36m<cell line: 0>\u001b[0;34m()\u001b[0m\n\u001b[0;32m----> 1\u001b[0;31m \u001b[0mdf\u001b[0m\u001b[0;34m.\u001b[0m\u001b[0mdrop\u001b[0m\u001b[0;34m(\u001b[0m\u001b[0;34m'Order'\u001b[0m\u001b[0;34m,\u001b[0m\u001b[0maxis\u001b[0m\u001b[0;34m=\u001b[0m\u001b[0;36m1\u001b[0m\u001b[0;34m,\u001b[0m \u001b[0minplace\u001b[0m\u001b[0;34m=\u001b[0m\u001b[0;32mTrue\u001b[0m\u001b[0;34m)\u001b[0m\u001b[0;34m\u001b[0m\u001b[0;34m\u001b[0m\u001b[0m\n\u001b[0m",
            "\u001b[0;32m/usr/local/lib/python3.11/dist-packages/pandas/core/frame.py\u001b[0m in \u001b[0;36mdrop\u001b[0;34m(self, labels, axis, index, columns, level, inplace, errors)\u001b[0m\n\u001b[1;32m   5579\u001b[0m                 \u001b[0mweight\u001b[0m  \u001b[0;36m1.0\u001b[0m     \u001b[0;36m0.8\u001b[0m\u001b[0;34m\u001b[0m\u001b[0;34m\u001b[0m\u001b[0m\n\u001b[1;32m   5580\u001b[0m         \"\"\"\n\u001b[0;32m-> 5581\u001b[0;31m         return super().drop(\n\u001b[0m\u001b[1;32m   5582\u001b[0m             \u001b[0mlabels\u001b[0m\u001b[0;34m=\u001b[0m\u001b[0mlabels\u001b[0m\u001b[0;34m,\u001b[0m\u001b[0;34m\u001b[0m\u001b[0;34m\u001b[0m\u001b[0m\n\u001b[1;32m   5583\u001b[0m             \u001b[0maxis\u001b[0m\u001b[0;34m=\u001b[0m\u001b[0maxis\u001b[0m\u001b[0;34m,\u001b[0m\u001b[0;34m\u001b[0m\u001b[0;34m\u001b[0m\u001b[0m\n",
            "\u001b[0;32m/usr/local/lib/python3.11/dist-packages/pandas/core/generic.py\u001b[0m in \u001b[0;36mdrop\u001b[0;34m(self, labels, axis, index, columns, level, inplace, errors)\u001b[0m\n\u001b[1;32m   4786\u001b[0m         \u001b[0;32mfor\u001b[0m \u001b[0maxis\u001b[0m\u001b[0;34m,\u001b[0m \u001b[0mlabels\u001b[0m \u001b[0;32min\u001b[0m \u001b[0maxes\u001b[0m\u001b[0;34m.\u001b[0m\u001b[0mitems\u001b[0m\u001b[0;34m(\u001b[0m\u001b[0;34m)\u001b[0m\u001b[0;34m:\u001b[0m\u001b[0;34m\u001b[0m\u001b[0;34m\u001b[0m\u001b[0m\n\u001b[1;32m   4787\u001b[0m             \u001b[0;32mif\u001b[0m \u001b[0mlabels\u001b[0m \u001b[0;32mis\u001b[0m \u001b[0;32mnot\u001b[0m \u001b[0;32mNone\u001b[0m\u001b[0;34m:\u001b[0m\u001b[0;34m\u001b[0m\u001b[0;34m\u001b[0m\u001b[0m\n\u001b[0;32m-> 4788\u001b[0;31m                 \u001b[0mobj\u001b[0m \u001b[0;34m=\u001b[0m \u001b[0mobj\u001b[0m\u001b[0;34m.\u001b[0m\u001b[0m_drop_axis\u001b[0m\u001b[0;34m(\u001b[0m\u001b[0mlabels\u001b[0m\u001b[0;34m,\u001b[0m \u001b[0maxis\u001b[0m\u001b[0;34m,\u001b[0m \u001b[0mlevel\u001b[0m\u001b[0;34m=\u001b[0m\u001b[0mlevel\u001b[0m\u001b[0;34m,\u001b[0m \u001b[0merrors\u001b[0m\u001b[0;34m=\u001b[0m\u001b[0merrors\u001b[0m\u001b[0;34m)\u001b[0m\u001b[0;34m\u001b[0m\u001b[0;34m\u001b[0m\u001b[0m\n\u001b[0m\u001b[1;32m   4789\u001b[0m \u001b[0;34m\u001b[0m\u001b[0m\n\u001b[1;32m   4790\u001b[0m         \u001b[0;32mif\u001b[0m \u001b[0minplace\u001b[0m\u001b[0;34m:\u001b[0m\u001b[0;34m\u001b[0m\u001b[0;34m\u001b[0m\u001b[0m\n",
            "\u001b[0;32m/usr/local/lib/python3.11/dist-packages/pandas/core/generic.py\u001b[0m in \u001b[0;36m_drop_axis\u001b[0;34m(self, labels, axis, level, errors, only_slice)\u001b[0m\n\u001b[1;32m   4828\u001b[0m                 \u001b[0mnew_axis\u001b[0m \u001b[0;34m=\u001b[0m \u001b[0maxis\u001b[0m\u001b[0;34m.\u001b[0m\u001b[0mdrop\u001b[0m\u001b[0;34m(\u001b[0m\u001b[0mlabels\u001b[0m\u001b[0;34m,\u001b[0m \u001b[0mlevel\u001b[0m\u001b[0;34m=\u001b[0m\u001b[0mlevel\u001b[0m\u001b[0;34m,\u001b[0m \u001b[0merrors\u001b[0m\u001b[0;34m=\u001b[0m\u001b[0merrors\u001b[0m\u001b[0;34m)\u001b[0m\u001b[0;34m\u001b[0m\u001b[0;34m\u001b[0m\u001b[0m\n\u001b[1;32m   4829\u001b[0m             \u001b[0;32melse\u001b[0m\u001b[0;34m:\u001b[0m\u001b[0;34m\u001b[0m\u001b[0;34m\u001b[0m\u001b[0m\n\u001b[0;32m-> 4830\u001b[0;31m                 \u001b[0mnew_axis\u001b[0m \u001b[0;34m=\u001b[0m \u001b[0maxis\u001b[0m\u001b[0;34m.\u001b[0m\u001b[0mdrop\u001b[0m\u001b[0;34m(\u001b[0m\u001b[0mlabels\u001b[0m\u001b[0;34m,\u001b[0m \u001b[0merrors\u001b[0m\u001b[0;34m=\u001b[0m\u001b[0merrors\u001b[0m\u001b[0;34m)\u001b[0m\u001b[0;34m\u001b[0m\u001b[0;34m\u001b[0m\u001b[0m\n\u001b[0m\u001b[1;32m   4831\u001b[0m             \u001b[0mindexer\u001b[0m \u001b[0;34m=\u001b[0m \u001b[0maxis\u001b[0m\u001b[0;34m.\u001b[0m\u001b[0mget_indexer\u001b[0m\u001b[0;34m(\u001b[0m\u001b[0mnew_axis\u001b[0m\u001b[0;34m)\u001b[0m\u001b[0;34m\u001b[0m\u001b[0;34m\u001b[0m\u001b[0m\n\u001b[1;32m   4832\u001b[0m \u001b[0;34m\u001b[0m\u001b[0m\n",
            "\u001b[0;32m/usr/local/lib/python3.11/dist-packages/pandas/core/indexes/base.py\u001b[0m in \u001b[0;36mdrop\u001b[0;34m(self, labels, errors)\u001b[0m\n\u001b[1;32m   7068\u001b[0m         \u001b[0;32mif\u001b[0m \u001b[0mmask\u001b[0m\u001b[0;34m.\u001b[0m\u001b[0many\u001b[0m\u001b[0;34m(\u001b[0m\u001b[0;34m)\u001b[0m\u001b[0;34m:\u001b[0m\u001b[0;34m\u001b[0m\u001b[0;34m\u001b[0m\u001b[0m\n\u001b[1;32m   7069\u001b[0m             \u001b[0;32mif\u001b[0m \u001b[0merrors\u001b[0m \u001b[0;34m!=\u001b[0m \u001b[0;34m\"ignore\"\u001b[0m\u001b[0;34m:\u001b[0m\u001b[0;34m\u001b[0m\u001b[0;34m\u001b[0m\u001b[0m\n\u001b[0;32m-> 7070\u001b[0;31m                 \u001b[0;32mraise\u001b[0m \u001b[0mKeyError\u001b[0m\u001b[0;34m(\u001b[0m\u001b[0;34mf\"{labels[mask].tolist()} not found in axis\"\u001b[0m\u001b[0;34m)\u001b[0m\u001b[0;34m\u001b[0m\u001b[0;34m\u001b[0m\u001b[0m\n\u001b[0m\u001b[1;32m   7071\u001b[0m             \u001b[0mindexer\u001b[0m \u001b[0;34m=\u001b[0m \u001b[0mindexer\u001b[0m\u001b[0;34m[\u001b[0m\u001b[0;34m~\u001b[0m\u001b[0mmask\u001b[0m\u001b[0;34m]\u001b[0m\u001b[0;34m\u001b[0m\u001b[0;34m\u001b[0m\u001b[0m\n\u001b[1;32m   7072\u001b[0m         \u001b[0;32mreturn\u001b[0m \u001b[0mself\u001b[0m\u001b[0;34m.\u001b[0m\u001b[0mdelete\u001b[0m\u001b[0;34m(\u001b[0m\u001b[0mindexer\u001b[0m\u001b[0;34m)\u001b[0m\u001b[0;34m\u001b[0m\u001b[0;34m\u001b[0m\u001b[0m\n",
            "\u001b[0;31mKeyError\u001b[0m: \"['Order'] not found in axis\""
          ]
        }
      ]
    },
    {
      "cell_type": "code",
      "source": [
        "df.Job.value_counts()"
      ],
      "metadata": {
        "colab": {
          "base_uri": "https://localhost:8080/",
          "height": 489
        },
        "id": "-TbaTz1GLD-e",
        "outputId": "d9a95935-e33d-4562-8333-212bb651dfc8"
      },
      "execution_count": null,
      "outputs": [
        {
          "output_type": "execute_result",
          "data": {
            "text/plain": [
              "Job\n",
              "housewife                 2256\n",
              "worker                     432\n",
              "public officer             315\n",
              "retired or not working     307\n",
              "retired                    163\n",
              "                          ... \n",
              "babysitter                   1\n",
              "modelist                     1\n",
              "general store                1\n",
              "pastry maker                 1\n",
              "printer                      1\n",
              "Name: count, Length: 141, dtype: int64"
            ],
            "text/html": [
              "<div>\n",
              "<style scoped>\n",
              "    .dataframe tbody tr th:only-of-type {\n",
              "        vertical-align: middle;\n",
              "    }\n",
              "\n",
              "    .dataframe tbody tr th {\n",
              "        vertical-align: top;\n",
              "    }\n",
              "\n",
              "    .dataframe thead th {\n",
              "        text-align: right;\n",
              "    }\n",
              "</style>\n",
              "<table border=\"1\" class=\"dataframe\">\n",
              "  <thead>\n",
              "    <tr style=\"text-align: right;\">\n",
              "      <th></th>\n",
              "      <th>count</th>\n",
              "    </tr>\n",
              "    <tr>\n",
              "      <th>Job</th>\n",
              "      <th></th>\n",
              "    </tr>\n",
              "  </thead>\n",
              "  <tbody>\n",
              "    <tr>\n",
              "      <th>housewife</th>\n",
              "      <td>2256</td>\n",
              "    </tr>\n",
              "    <tr>\n",
              "      <th>worker</th>\n",
              "      <td>432</td>\n",
              "    </tr>\n",
              "    <tr>\n",
              "      <th>public officer</th>\n",
              "      <td>315</td>\n",
              "    </tr>\n",
              "    <tr>\n",
              "      <th>retired or not working</th>\n",
              "      <td>307</td>\n",
              "    </tr>\n",
              "    <tr>\n",
              "      <th>retired</th>\n",
              "      <td>163</td>\n",
              "    </tr>\n",
              "    <tr>\n",
              "      <th>...</th>\n",
              "      <td>...</td>\n",
              "    </tr>\n",
              "    <tr>\n",
              "      <th>babysitter</th>\n",
              "      <td>1</td>\n",
              "    </tr>\n",
              "    <tr>\n",
              "      <th>modelist</th>\n",
              "      <td>1</td>\n",
              "    </tr>\n",
              "    <tr>\n",
              "      <th>general store</th>\n",
              "      <td>1</td>\n",
              "    </tr>\n",
              "    <tr>\n",
              "      <th>pastry maker</th>\n",
              "      <td>1</td>\n",
              "    </tr>\n",
              "    <tr>\n",
              "      <th>printer</th>\n",
              "      <td>1</td>\n",
              "    </tr>\n",
              "  </tbody>\n",
              "</table>\n",
              "<p>141 rows × 1 columns</p>\n",
              "</div><br><label><b>dtype:</b> int64</label>"
            ]
          },
          "metadata": {},
          "execution_count": 10
        }
      ]
    },
    {
      "cell_type": "code",
      "source": [
        "df.Status.value_counts()"
      ],
      "metadata": {
        "colab": {
          "base_uri": "https://localhost:8080/",
          "height": 209
        },
        "id": "EaYhrWKrLxB3",
        "outputId": "5b70c822-c72b-4716-e395-f271bef6038b"
      },
      "execution_count": null,
      "outputs": [
        {
          "output_type": "execute_result",
          "data": {
            "text/plain": [
              "Status\n",
              "not working    4046\n",
              "working         797\n",
              "unknown         173\n",
              "Name: count, dtype: int64"
            ],
            "text/html": [
              "<div>\n",
              "<style scoped>\n",
              "    .dataframe tbody tr th:only-of-type {\n",
              "        vertical-align: middle;\n",
              "    }\n",
              "\n",
              "    .dataframe tbody tr th {\n",
              "        vertical-align: top;\n",
              "    }\n",
              "\n",
              "    .dataframe thead th {\n",
              "        text-align: right;\n",
              "    }\n",
              "</style>\n",
              "<table border=\"1\" class=\"dataframe\">\n",
              "  <thead>\n",
              "    <tr style=\"text-align: right;\">\n",
              "      <th></th>\n",
              "      <th>count</th>\n",
              "    </tr>\n",
              "    <tr>\n",
              "      <th>Status</th>\n",
              "      <th></th>\n",
              "    </tr>\n",
              "  </thead>\n",
              "  <tbody>\n",
              "    <tr>\n",
              "      <th>not working</th>\n",
              "      <td>4046</td>\n",
              "    </tr>\n",
              "    <tr>\n",
              "      <th>working</th>\n",
              "      <td>797</td>\n",
              "    </tr>\n",
              "    <tr>\n",
              "      <th>unknown</th>\n",
              "      <td>173</td>\n",
              "    </tr>\n",
              "  </tbody>\n",
              "</table>\n",
              "</div><br><label><b>dtype:</b> int64</label>"
            ]
          },
          "metadata": {},
          "execution_count": 11
        }
      ]
    },
    {
      "cell_type": "markdown",
      "source": [
        "# **Feature Engineering**"
      ],
      "metadata": {
        "id": "AIVGJAIUMYv1"
      }
    },
    {
      "cell_type": "markdown",
      "source": [
        "**Age Column Binning**"
      ],
      "metadata": {
        "id": "n7ncOIaYMddk"
      }
    },
    {
      "cell_type": "code",
      "source": [
        "df['Age_Group'] = pd.cut(df['Age'], bins=[0,20, 40, 60, 80, 100], labels=['AGE 0-20', 'AGE 20-40', 'AGE 40-60', 'AGE 60-80','AGE 80-100'])"
      ],
      "metadata": {
        "id": "yfoudBJ3L_jj"
      },
      "execution_count": null,
      "outputs": []
    },
    {
      "cell_type": "code",
      "source": [
        "df.columns"
      ],
      "metadata": {
        "colab": {
          "base_uri": "https://localhost:8080/"
        },
        "id": "j2_ndlC7Psat",
        "outputId": "8b2562c8-5419-4441-ba9d-14ead447a9c2"
      },
      "execution_count": null,
      "outputs": [
        {
          "output_type": "execute_result",
          "data": {
            "text/plain": [
              "Index(['Name', 'Gender', 'Age', 'Age_Group', 'Weight', 'Height', 'Waist',\n",
              "       'Hip', 'Smoking', 'Smoking_packet_per_year', 'Alcohol', 'DM_Type2',\n",
              "       'DM_Type2_Duration', 'Insulin', 'DM_Type2_Drug', 'DM_Type2_Drug_Usage',\n",
              "       'Dyslipidemia', 'Dyslipidemia_duration', 'KAH', 'KAH_Duration',\n",
              "       'Hipotiroidi', 'Asthma', 'COPD', 'OP', 'HT', 'Duration_of_HT', 'N_HT',\n",
              "       'HT_drugs', 'HT_Drug_Usage', 'Duration_of_1HT', 'Education', 'Job',\n",
              "       'Status', 'Work_Status', 'Exercise', 'Exercise_Status', 'AT', 'CST',\n",
              "       'Gait_Speed', 'Grip_Str', 'STAR', 'BMI', 'MMSE', 'Sarcopenia'],\n",
              "      dtype='object')"
            ]
          },
          "metadata": {},
          "execution_count": 33
        }
      ]
    },
    {
      "cell_type": "code",
      "source": [
        "df.insert(3, 'Age_Group', df.pop('Age_Group'))"
      ],
      "metadata": {
        "id": "MK7AeunZOJkN"
      },
      "execution_count": null,
      "outputs": []
    },
    {
      "cell_type": "code",
      "source": [
        "df.columns"
      ],
      "metadata": {
        "colab": {
          "base_uri": "https://localhost:8080/"
        },
        "id": "ZwK4DWGxPvVe",
        "outputId": "a259d5a4-7be0-4876-b398-436cf424f5fa"
      },
      "execution_count": null,
      "outputs": [
        {
          "output_type": "execute_result",
          "data": {
            "text/plain": [
              "Index(['Name', 'Gender', 'Age', 'Age_Group', 'Weight', 'Height', 'Waist',\n",
              "       'Hip', 'Smoking', 'Smoking_packet_per_year', 'Alcohol', 'DM_Type2',\n",
              "       'DM_Type2_Duration', 'Insulin', 'DM_Type2_Drug', 'DM_Type2_Drug_Usage',\n",
              "       'Dyslipidemia', 'Dyslipidemia_duration', 'KAH', 'KAH_Duration',\n",
              "       'Hipotiroidi', 'Asthma', 'COPD', 'OP', 'HT', 'Duration_of_HT', 'N_HT',\n",
              "       'HT_drugs', 'HT_Drug_Usage', 'Duration_of_1HT', 'Education', 'Job',\n",
              "       'Status', 'Work_Status', 'Exercise', 'Exercise_Status', 'AT', 'CST',\n",
              "       'Gait_Speed', 'Grip_Str', 'STAR', 'BMI', 'MMSE', 'Sarcopenia'],\n",
              "      dtype='object')"
            ]
          },
          "metadata": {},
          "execution_count": 35
        }
      ]
    },
    {
      "cell_type": "code",
      "source": [
        "df.Age_Group.value_counts()"
      ],
      "metadata": {
        "colab": {
          "base_uri": "https://localhost:8080/",
          "height": 272
        },
        "id": "G4fYoZhAPwsP",
        "outputId": "d896bc4b-ff52-42a0-be7b-1daa04bdd2ab"
      },
      "execution_count": null,
      "outputs": [
        {
          "output_type": "execute_result",
          "data": {
            "text/plain": [
              "Age_Group\n",
              "AGE 60-80     2596\n",
              "AGE 40-60     2252\n",
              "AGE 80-100     168\n",
              "AGE 0-20         0\n",
              "AGE 20-40        0\n",
              "Name: count, dtype: int64"
            ],
            "text/html": [
              "<div>\n",
              "<style scoped>\n",
              "    .dataframe tbody tr th:only-of-type {\n",
              "        vertical-align: middle;\n",
              "    }\n",
              "\n",
              "    .dataframe tbody tr th {\n",
              "        vertical-align: top;\n",
              "    }\n",
              "\n",
              "    .dataframe thead th {\n",
              "        text-align: right;\n",
              "    }\n",
              "</style>\n",
              "<table border=\"1\" class=\"dataframe\">\n",
              "  <thead>\n",
              "    <tr style=\"text-align: right;\">\n",
              "      <th></th>\n",
              "      <th>count</th>\n",
              "    </tr>\n",
              "    <tr>\n",
              "      <th>Age_Group</th>\n",
              "      <th></th>\n",
              "    </tr>\n",
              "  </thead>\n",
              "  <tbody>\n",
              "    <tr>\n",
              "      <th>AGE 60-80</th>\n",
              "      <td>2596</td>\n",
              "    </tr>\n",
              "    <tr>\n",
              "      <th>AGE 40-60</th>\n",
              "      <td>2252</td>\n",
              "    </tr>\n",
              "    <tr>\n",
              "      <th>AGE 80-100</th>\n",
              "      <td>168</td>\n",
              "    </tr>\n",
              "    <tr>\n",
              "      <th>AGE 0-20</th>\n",
              "      <td>0</td>\n",
              "    </tr>\n",
              "    <tr>\n",
              "      <th>AGE 20-40</th>\n",
              "      <td>0</td>\n",
              "    </tr>\n",
              "  </tbody>\n",
              "</table>\n",
              "</div><br><label><b>dtype:</b> int64</label>"
            ]
          },
          "metadata": {},
          "execution_count": 36
        }
      ]
    },
    {
      "cell_type": "code",
      "source": [
        "df.loc[(df['Smoking'] == 0) & (df['Smoking_packet_per_year'] > 0), 'Smoking'] = 1"
      ],
      "metadata": {
        "id": "N9qYi2F2PyfM"
      },
      "execution_count": null,
      "outputs": []
    },
    {
      "cell_type": "code",
      "source": [
        "df.loc[(df['Smoking_packet_per_year'] == 0) & (df['Smoking'] == 1), 'Smoking'] = 0"
      ],
      "metadata": {
        "id": "OwkcVnRodTN_"
      },
      "execution_count": null,
      "outputs": []
    },
    {
      "cell_type": "code",
      "source": [
        "df.loc[(df['Smoking'] == 1) & (df['Smoking_packet_per_year'].isnull()), 'Smoking_packet_per_year'] = df.Smoking_packet_per_year.mean()"
      ],
      "metadata": {
        "id": "VDvxMIvQdrVS"
      },
      "execution_count": null,
      "outputs": []
    },
    {
      "cell_type": "code",
      "source": [
        "df.to_excel('/content/drive/MyDrive/SARCOPENIA_PROJECT/sarcopenia-data-set_columns_corrected_4.xlsx')"
      ],
      "metadata": {
        "id": "k-yENJkSaNuB"
      },
      "execution_count": null,
      "outputs": []
    },
    {
      "cell_type": "code",
      "source": [
        "df = pd.read_excel(\"/content/drive/MyDrive/SARCOPENIA_PROJECT/Data_Set_Files/sarcopenia-data-set_columns_corrected_4.xlsx\")"
      ],
      "metadata": {
        "id": "uoDFXrR6ahu-"
      },
      "execution_count": null,
      "outputs": []
    },
    {
      "cell_type": "code",
      "source": [
        "def bivariate_crosstab (column1, column2):\n",
        "  # Categorical vs. Sarcopenia\n",
        "  # Calculate the cross-tabulation and normalize by index (rows)\n",
        "  crosstab_result = pd.crosstab(column1, column2, normalize='index')\n",
        "  # Plot the result as a stacked bar chart\n",
        "  crosstab_result.plot(kind='bar', stacked=True)\n",
        "\n",
        "  # Add titles and labels for clarity\n",
        "  plt.title(f'{column1.name} vs {column2.name} Distribution (Normalized by Sarcopenia Status)', fontsize=16)\n",
        "  plt.xlabel(f'{column1.name} Status', fontsize=12)\n",
        "  # Removed the redundant ylabel as normalize='index' implies proportion within the index categories\n",
        "  plt.ylabel('Proportion within Sarcopenia Status', fontsize=12)\n",
        "  plt.xticks(rotation=0) # Keep x-axis labels horizontal\n",
        "\n",
        "  # Display the plot\n",
        "  plt.show()"
      ],
      "metadata": {
        "id": "6bMlXUiwHJDr"
      },
      "execution_count": null,
      "outputs": []
    },
    {
      "cell_type": "code",
      "source": [
        "bivariate_crosstab  (df.Sarcopenia,df.Smoking)"
      ],
      "metadata": {
        "id": "dqfO2hfUal1j",
        "colab": {
          "base_uri": "https://localhost:8080/",
          "height": 478
        },
        "outputId": "adaa1adb-1b0e-4cce-d2b3-82b9d39af99f"
      },
      "execution_count": null,
      "outputs": [
        {
          "output_type": "display_data",
          "data": {
            "text/plain": [
              "<Figure size 640x480 with 1 Axes>"
            ],
            "image/png": "[encoded data removed]"
          },
          "metadata": {}
        }
      ]
    },
    {
      "cell_type": "code",
      "source": [
        "def bivariate (column1,column2):\n",
        "  # Use the .name attribute to get the column names as strings\n",
        "  sns.boxplot(x=column1.name, y=column2.name, data=df, hue='Sarcopenia', palette=['skyblue', 'orange'])\n",
        "  plt.title(f'{column1.name} vs {column2.name} Distribution', fontsize=16)\n",
        "  plt.xlabel(f'{column1.name} Durumu', fontsize=12)\n",
        "  plt.ylabel(f'{column2.name}', fontsize=12)\n",
        "\n",
        "  # Izgara ekleyelim\n",
        "  plt.grid(axis='y', linestyle='--', alpha=0.7)\n",
        "\n",
        "  # Grafiği göster\n",
        "  plt.tight_layout()\n",
        "  plt.show()"
      ],
      "metadata": {
        "id": "fBgPE9-CG-y6"
      },
      "execution_count": null,
      "outputs": []
    },
    {
      "cell_type": "code",
      "source": [
        "bivariate (df.Sarcopenia,df.Smoking_packet_per_year)"
      ],
      "metadata": {
        "colab": {
          "base_uri": "https://localhost:8080/",
          "height": 487
        },
        "id": "JiK_XWLwHQZ3",
        "outputId": "00639d20-d867-426e-d305-080767efff11"
      },
      "execution_count": null,
      "outputs": [
        {
          "output_type": "display_data",
          "data": {
            "text/plain": [
              "<Figure size 640x480 with 1 Axes>"
            ],
            "image/png": "[encoded data removed]"
          },
          "metadata": {}
        }
      ]
    },
    {
      "cell_type": "code",
      "source": [
        "bivariate (df.Sarcopenia,df.DM_Type2_Duration)"
      ],
      "metadata": {
        "colab": {
          "base_uri": "https://localhost:8080/",
          "height": 487
        },
        "id": "insExBNVHwG6",
        "outputId": "281c6c0d-00a7-410b-a336-9d9b2a89995f"
      },
      "execution_count": null,
      "outputs": [
        {
          "output_type": "display_data",
          "data": {
            "text/plain": [
              "<Figure size 640x480 with 1 Axes>"
            ],
            "image/png": "[encoded data removed]"
          },
          "metadata": {}
        }
      ]
    },
    {
      "cell_type": "code",
      "source": [
        "bivariate_crosstab  (df.Sarcopenia,df.DM_Type2_Duration)"
      ],
      "metadata": {
        "colab": {
          "base_uri": "https://localhost:8080/",
          "height": 493
        },
        "id": "6_SPiUASK4W0",
        "outputId": "05be4c75-abec-45ba-80c8-485d40b4c075"
      },
      "execution_count": null,
      "outputs": [
        {
          "output_type": "display_data",
          "data": {
            "text/plain": [
              "<Figure size 640x480 with 1 Axes>"
            ],
            "image/png": "[encoded data removed]"
          },
          "metadata": {}
        }
      ]
    },
    {
      "cell_type": "code",
      "source": [
        "bivariate (df.Sarcopenia,df.Duration_of_HT),bivariate (df.Sarcopenia,df.HT)"
      ],
      "metadata": {
        "colab": {
          "base_uri": "https://localhost:8080/",
          "height": 975
        },
        "id": "bDYVzaZdLFgD",
        "outputId": "d4ece99c-675a-4ab3-9f18-c356976ca402"
      },
      "execution_count": null,
      "outputs": [
        {
          "output_type": "display_data",
          "data": {
            "text/plain": [
              "<Figure size 640x480 with 1 Axes>"
            ],
            "image/png": "[encoded data removed]"
          },
          "metadata": {}
        },
        {
          "output_type": "display_data",
          "data": {
            "text/plain": [
              "<Figure size 640x480 with 1 Axes>"
            ],
            "image/png": "[encoded data removed]"
          },
          "metadata": {}
        },
        {
          "output_type": "execute_result",
          "data": {
            "text/plain": [
              "(None, None)"
            ]
          },
          "metadata": {},
          "execution_count": 22
        }
      ]
    },
    {
      "cell_type": "code",
      "source": [
        "bivariate (df.Sarcopenia,df.N_HT)"
      ],
      "metadata": {
        "colab": {
          "base_uri": "https://localhost:8080/",
          "height": 487
        },
        "id": "dVN7_S9JPR07",
        "outputId": "fc5b0260-1540-41a9-f905-d1ed1112c68b"
      },
      "execution_count": null,
      "outputs": [
        {
          "output_type": "display_data",
          "data": {
            "text/plain": [
              "<Figure size 640x480 with 1 Axes>"
            ],
            "image/png": "[encoded data removed]"
          },
          "metadata": {}
        }
      ]
    },
    {
      "cell_type": "code",
      "source": [
        "bivariate (df.Sarcopenia,df.Duration_of_1HT)"
      ],
      "metadata": {
        "colab": {
          "base_uri": "https://localhost:8080/",
          "height": 487
        },
        "id": "ngMt2B-qQfHQ",
        "outputId": "373f6517-4274-48f2-e5cf-de1b755a571e"
      },
      "execution_count": null,
      "outputs": [
        {
          "output_type": "display_data",
          "data": {
            "text/plain": [
              "<Figure size 640x480 with 1 Axes>"
            ],
            "image/png": "[encoded data removed]"
          },
          "metadata": {}
        }
      ]
    },
    {
      "cell_type": "code",
      "source": [
        "df[\"Total_Duration_of_HT\"] = np.where(\n",
        "    df[\"Duration_of_HT\"] >= df[\"Duration_of_1HT\"],\n",
        "    df[\"Duration_of_HT\"],  # Value if True\n",
        "    df[\"Duration_of_1HT\"]   # Value if False (you can change this to something else)\n",
        ")"
      ],
      "metadata": {
        "id": "DcxQczkgRKBV"
      },
      "execution_count": null,
      "outputs": []
    },
    {
      "cell_type": "code",
      "source": [
        "df.columns"
      ],
      "metadata": {
        "colab": {
          "base_uri": "https://localhost:8080/"
        },
        "id": "_8rV36xShCk4",
        "outputId": "2a551f88-b48f-45c0-b792-735be6c43860"
      },
      "execution_count": null,
      "outputs": [
        {
          "output_type": "execute_result",
          "data": {
            "text/plain": [
              "Index(['Unnamed: 0.1', 'Unnamed: 0', 'Name', 'Gender', 'Age', 'Age_Group',\n",
              "       'Weight', 'Height', 'Waist', 'Hip', 'Smoking',\n",
              "       'Smoking_packet_per_year', 'Alcohol', 'DM_Type2', 'DM_Type2_Duration',\n",
              "       'Insulin', 'DM_Type2_Drug', 'DM_Type2_Drug_Usage', 'Dyslipidemia',\n",
              "       'Dyslipidemia_duration', 'KAH', 'KAH_Duration', 'Hipotiroidi', 'Asthma',\n",
              "       'COPD', 'OP', 'HT', 'Duration_of_HT', 'N_HT', 'HT_drugs',\n",
              "       'HT_Drug_Usage', 'Duration_of_1HT', 'Education', 'Job', 'Status',\n",
              "       'Work_Status', 'Exercise', 'Exercise_Status', 'AT', 'CST', 'Gait_Speed',\n",
              "       'Grip_Str', 'STAR', 'BMI', 'MMSE', 'Sarcopenia',\n",
              "       'Total_Duration_of_HT'],\n",
              "      dtype='object')"
            ]
          },
          "metadata": {},
          "execution_count": 29
        }
      ]
    },
    {
      "cell_type": "code",
      "source": [
        "df.Total_Duration_of_HT.value_counts()"
      ],
      "metadata": {
        "colab": {
          "base_uri": "https://localhost:8080/",
          "height": 1000
        },
        "id": "4HGUGbUXhDww",
        "outputId": "cdba035e-8ca0-4a6d-d706-574281266c14"
      },
      "execution_count": null,
      "outputs": [
        {
          "output_type": "execute_result",
          "data": {
            "text/plain": [
              "Total_Duration_of_HT\n",
              "0.00     2151\n",
              "10.00     489\n",
              "15.00     303\n",
              "5.00      274\n",
              "20.00     270\n",
              "2.00      227\n",
              "5.83      180\n",
              "3.00      151\n",
              "1.00      148\n",
              "4.00      135\n",
              "6.00      119\n",
              "8.00       92\n",
              "7.00       77\n",
              "12.00      54\n",
              "25.00      54\n",
              "13.00      29\n",
              "9.00       27\n",
              "17.00      26\n",
              "0.10       25\n",
              "16.00      25\n",
              "0.50       25\n",
              "14.00      21\n",
              "0.30       18\n",
              "0.20       15\n",
              "11.00      13\n",
              "18.00      12\n",
              "1.50       10\n",
              "22.00       9\n",
              "21.00       9\n",
              "19.00       6\n",
              "23.00       5\n",
              "0.01        5\n",
              "0.40        3\n",
              "2.50        2\n",
              "0.80        2\n",
              "24.00       2\n",
              "0.70        2\n",
              "3.50        1\n",
              "Name: count, dtype: int64"
            ],
            "text/html": [
              "<div>\n",
              "<style scoped>\n",
              "    .dataframe tbody tr th:only-of-type {\n",
              "        vertical-align: middle;\n",
              "    }\n",
              "\n",
              "    .dataframe tbody tr th {\n",
              "        vertical-align: top;\n",
              "    }\n",
              "\n",
              "    .dataframe thead th {\n",
              "        text-align: right;\n",
              "    }\n",
              "</style>\n",
              "<table border=\"1\" class=\"dataframe\">\n",
              "  <thead>\n",
              "    <tr style=\"text-align: right;\">\n",
              "      <th></th>\n",
              "      <th>count</th>\n",
              "    </tr>\n",
              "    <tr>\n",
              "      <th>Total_Duration_of_HT</th>\n",
              "      <th></th>\n",
              "    </tr>\n",
              "  </thead>\n",
              "  <tbody>\n",
              "    <tr>\n",
              "      <th>0.00</th>\n",
              "      <td>2151</td>\n",
              "    </tr>\n",
              "    <tr>\n",
              "      <th>10.00</th>\n",
              "      <td>489</td>\n",
              "    </tr>\n",
              "    <tr>\n",
              "      <th>15.00</th>\n",
              "      <td>303</td>\n",
              "    </tr>\n",
              "    <tr>\n",
              "      <th>5.00</th>\n",
              "      <td>274</td>\n",
              "    </tr>\n",
              "    <tr>\n",
              "      <th>20.00</th>\n",
              "      <td>270</td>\n",
              "    </tr>\n",
              "    <tr>\n",
              "      <th>2.00</th>\n",
              "      <td>227</td>\n",
              "    </tr>\n",
              "    <tr>\n",
              "      <th>5.83</th>\n",
              "      <td>180</td>\n",
              "    </tr>\n",
              "    <tr>\n",
              "      <th>3.00</th>\n",
              "      <td>151</td>\n",
              "    </tr>\n",
              "    <tr>\n",
              "      <th>1.00</th>\n",
              "      <td>148</td>\n",
              "    </tr>\n",
              "    <tr>\n",
              "      <th>4.00</th>\n",
              "      <td>135</td>\n",
              "    </tr>\n",
              "    <tr>\n",
              "      <th>6.00</th>\n",
              "      <td>119</td>\n",
              "    </tr>\n",
              "    <tr>\n",
              "      <th>8.00</th>\n",
              "      <td>92</td>\n",
              "    </tr>\n",
              "    <tr>\n",
              "      <th>7.00</th>\n",
              "      <td>77</td>\n",
              "    </tr>\n",
              "    <tr>\n",
              "      <th>12.00</th>\n",
              "      <td>54</td>\n",
              "    </tr>\n",
              "    <tr>\n",
              "      <th>25.00</th>\n",
              "      <td>54</td>\n",
              "    </tr>\n",
              "    <tr>\n",
              "      <th>13.00</th>\n",
              "      <td>29</td>\n",
              "    </tr>\n",
              "    <tr>\n",
              "      <th>9.00</th>\n",
              "      <td>27</td>\n",
              "    </tr>\n",
              "    <tr>\n",
              "      <th>17.00</th>\n",
              "      <td>26</td>\n",
              "    </tr>\n",
              "    <tr>\n",
              "      <th>0.10</th>\n",
              "      <td>25</td>\n",
              "    </tr>\n",
              "    <tr>\n",
              "      <th>16.00</th>\n",
              "      <td>25</td>\n",
              "    </tr>\n",
              "    <tr>\n",
              "      <th>0.50</th>\n",
              "      <td>25</td>\n",
              "    </tr>\n",
              "    <tr>\n",
              "      <th>14.00</th>\n",
              "      <td>21</td>\n",
              "    </tr>\n",
              "    <tr>\n",
              "      <th>0.30</th>\n",
              "      <td>18</td>\n",
              "    </tr>\n",
              "    <tr>\n",
              "      <th>0.20</th>\n",
              "      <td>15</td>\n",
              "    </tr>\n",
              "    <tr>\n",
              "      <th>11.00</th>\n",
              "      <td>13</td>\n",
              "    </tr>\n",
              "    <tr>\n",
              "      <th>18.00</th>\n",
              "      <td>12</td>\n",
              "    </tr>\n",
              "    <tr>\n",
              "      <th>1.50</th>\n",
              "      <td>10</td>\n",
              "    </tr>\n",
              "    <tr>\n",
              "      <th>22.00</th>\n",
              "      <td>9</td>\n",
              "    </tr>\n",
              "    <tr>\n",
              "      <th>21.00</th>\n",
              "      <td>9</td>\n",
              "    </tr>\n",
              "    <tr>\n",
              "      <th>19.00</th>\n",
              "      <td>6</td>\n",
              "    </tr>\n",
              "    <tr>\n",
              "      <th>23.00</th>\n",
              "      <td>5</td>\n",
              "    </tr>\n",
              "    <tr>\n",
              "      <th>0.01</th>\n",
              "      <td>5</td>\n",
              "    </tr>\n",
              "    <tr>\n",
              "      <th>0.40</th>\n",
              "      <td>3</td>\n",
              "    </tr>\n",
              "    <tr>\n",
              "      <th>2.50</th>\n",
              "      <td>2</td>\n",
              "    </tr>\n",
              "    <tr>\n",
              "      <th>0.80</th>\n",
              "      <td>2</td>\n",
              "    </tr>\n",
              "    <tr>\n",
              "      <th>24.00</th>\n",
              "      <td>2</td>\n",
              "    </tr>\n",
              "    <tr>\n",
              "      <th>0.70</th>\n",
              "      <td>2</td>\n",
              "    </tr>\n",
              "    <tr>\n",
              "      <th>3.50</th>\n",
              "      <td>1</td>\n",
              "    </tr>\n",
              "  </tbody>\n",
              "</table>\n",
              "</div><br><label><b>dtype:</b> int64</label>"
            ]
          },
          "metadata": {},
          "execution_count": 30
        }
      ]
    },
    {
      "cell_type": "code",
      "source": [
        "bivariate (df.Sarcopenia,df.Total_Duration_of_HT)"
      ],
      "metadata": {
        "colab": {
          "base_uri": "https://localhost:8080/",
          "height": 487
        },
        "id": "O6LuHL6ohGsw",
        "outputId": "cb3f33fb-fa9a-4897-9abb-2b34bc9f2d11"
      },
      "execution_count": null,
      "outputs": [
        {
          "output_type": "display_data",
          "data": {
            "text/plain": [
              "<Figure size 640x480 with 1 Axes>"
            ],
            "image/png": "[encoded data removed]"
          },
          "metadata": {}
        }
      ]
    },
    {
      "cell_type": "code",
      "source": [
        "df.drop('Duration_of_HT', axis=1, inplace=True)"
      ],
      "metadata": {
        "id": "4yvPyusWhPB9"
      },
      "execution_count": null,
      "outputs": []
    },
    {
      "cell_type": "code",
      "source": [
        "df.drop('Duration_of_1HT', axis=1, inplace=True)"
      ],
      "metadata": {
        "id": "Ti_V_27lh2DY"
      },
      "execution_count": null,
      "outputs": []
    },
    {
      "cell_type": "code",
      "source": [
        "df.drop('Unnamed: 0.1', axis=1, inplace=True)"
      ],
      "metadata": {
        "id": "P3IPU_nGh46p"
      },
      "execution_count": null,
      "outputs": []
    },
    {
      "cell_type": "code",
      "source": [
        "df.columns"
      ],
      "metadata": {
        "colab": {
          "base_uri": "https://localhost:8080/"
        },
        "id": "p_Nq_m06h_jO",
        "outputId": "44cb26d7-5614-422e-b7a7-982be94dcacc"
      },
      "execution_count": null,
      "outputs": [
        {
          "output_type": "execute_result",
          "data": {
            "text/plain": [
              "Index(['Name', 'Gender', 'Age', 'Age_Group', 'Weight', 'Height', 'Waist',\n",
              "       'Hip', 'Smoking', 'Smoking_packet_per_year', 'Alcohol', 'DM_Type2',\n",
              "       'DM_Type2_Duration', 'Insulin', 'DM_Type2_Drug', 'DM_Type2_Drug_Usage',\n",
              "       'Dyslipidemia', 'Dyslipidemia_duration', 'KAH', 'KAH_Duration',\n",
              "       'Hipotiroidi', 'Asthma', 'COPD', 'OP', 'HT', 'N_HT', 'HT_drugs',\n",
              "       'HT_Drug_Usage', 'Education', 'Job', 'Status', 'Work_Status',\n",
              "       'Exercise', 'Exercise_Status', 'AT', 'CST', 'Gait_Speed', 'Grip_Str',\n",
              "       'STAR', 'BMI', 'MMSE', 'Sarcopenia', 'Total_Duration_of_HT'],\n",
              "      dtype='object')"
            ]
          },
          "metadata": {},
          "execution_count": 40
        }
      ]
    },
    {
      "cell_type": "code",
      "source": [
        "df.insert(27, 'Total_Duration_of_HT', df.pop('Total_Duration_of_HT'))"
      ],
      "metadata": {
        "id": "M2ZNvNb4iAkD"
      },
      "execution_count": null,
      "outputs": []
    },
    {
      "cell_type": "code",
      "source": [
        "df.columns"
      ],
      "metadata": {
        "colab": {
          "base_uri": "https://localhost:8080/"
        },
        "id": "v1PFod3TiUWp",
        "outputId": "6d074e50-7f3a-4e36-eb30-5bd6282638ea"
      },
      "execution_count": null,
      "outputs": [
        {
          "output_type": "execute_result",
          "data": {
            "text/plain": [
              "Index(['Name', 'Gender', 'Age', 'Age_Group', 'Weight', 'Height', 'Waist',\n",
              "       'Hip', 'Smoking', 'Smoking_packet_per_year', 'Alcohol', 'DM_Type2',\n",
              "       'DM_Type2_Duration', 'Insulin', 'DM_Type2_Drug', 'DM_Type2_Drug_Usage',\n",
              "       'Dyslipidemia', 'Dyslipidemia_duration', 'KAH', 'KAH_Duration',\n",
              "       'Hipotiroidi', 'Asthma', 'COPD', 'OP', 'HT', 'N_HT', 'HT_drugs',\n",
              "       'Total_Duration_of_HT', 'HT_Drug_Usage', 'Education', 'Job', 'Status',\n",
              "       'Work_Status', 'Exercise', 'Exercise_Status', 'AT', 'CST', 'Gait_Speed',\n",
              "       'Grip_Str', 'STAR', 'BMI', 'MMSE', 'Sarcopenia'],\n",
              "      dtype='object')"
            ]
          },
          "metadata": {},
          "execution_count": 42
        }
      ]
    },
    {
      "cell_type": "code",
      "source": [
        "df.drop(\"Waist\", axis=1, inplace=True)"
      ],
      "metadata": {
        "id": "5B3Wtd3iindS"
      },
      "execution_count": null,
      "outputs": []
    },
    {
      "cell_type": "code",
      "source": [
        "df.drop(\"Hip\", axis=1, inplace=True)"
      ],
      "metadata": {
        "id": "5_aQX01ZjEqJ"
      },
      "execution_count": null,
      "outputs": []
    },
    {
      "cell_type": "code",
      "source": [
        "df.drop(\"Height\", axis=1, inplace=True)"
      ],
      "metadata": {
        "id": "jFyXGZAOjGoK"
      },
      "execution_count": null,
      "outputs": []
    },
    {
      "cell_type": "code",
      "source": [
        "df.drop(\"Smoking\", axis=1, inplace=True)"
      ],
      "metadata": {
        "id": "0qoiM2LFjJVi"
      },
      "execution_count": null,
      "outputs": []
    },
    {
      "cell_type": "code",
      "source": [
        "df.drop(\"Smoking_packet_per_year\", axis=1, inplace=True)"
      ],
      "metadata": {
        "id": "EGNRd-AxjPLF"
      },
      "execution_count": null,
      "outputs": []
    },
    {
      "cell_type": "code",
      "source": [
        "df.drop(\"DM_Type2_Drug_Usage\", axis=1, inplace=True)"
      ],
      "metadata": {
        "id": "s-6BGgzrjQ6S"
      },
      "execution_count": null,
      "outputs": []
    },
    {
      "cell_type": "code",
      "source": [
        "df.drop(\"HT_Drug_Usage\", axis=1, inplace=True)"
      ],
      "metadata": {
        "id": "4Ehe5fUpjaP_"
      },
      "execution_count": null,
      "outputs": []
    },
    {
      "cell_type": "code",
      "source": [
        "df.columns"
      ],
      "metadata": {
        "colab": {
          "base_uri": "https://localhost:8080/"
        },
        "id": "EisgKbCUjhBt",
        "outputId": "bbd59f2c-1b5b-4d6c-eab9-400baa50ce80"
      },
      "execution_count": null,
      "outputs": [
        {
          "output_type": "execute_result",
          "data": {
            "text/plain": [
              "Index(['Name', 'Gender', 'Age', 'Age_Group', 'Weight', 'Alcohol', 'DM_Type2',\n",
              "       'DM_Type2_Duration', 'Insulin', 'DM_Type2_Drug', 'Dyslipidemia',\n",
              "       'Dyslipidemia_duration', 'KAH', 'KAH_Duration', 'Hipotiroidi', 'Asthma',\n",
              "       'COPD', 'OP', 'HT', 'N_HT', 'HT_drugs', 'Total_Duration_of_HT',\n",
              "       'Education', 'Job', 'Status', 'Work_Status', 'Exercise',\n",
              "       'Exercise_Status', 'AT', 'CST', 'Gait_Speed', 'Grip_Str', 'STAR', 'BMI',\n",
              "       'MMSE', 'Sarcopenia'],\n",
              "      dtype='object')"
            ]
          },
          "metadata": {},
          "execution_count": 51
        }
      ]
    },
    {
      "cell_type": "code",
      "source": [
        "df.HT.dtype, df.N_HT.dtype"
      ],
      "metadata": {
        "colab": {
          "base_uri": "https://localhost:8080/"
        },
        "id": "aGxPX6q6jiIk",
        "outputId": "9e511c51-fc4f-432c-ccc3-daa18413ed50"
      },
      "execution_count": null,
      "outputs": [
        {
          "output_type": "execute_result",
          "data": {
            "text/plain": [
              "(dtype('int64'), dtype('int64'))"
            ]
          },
          "metadata": {},
          "execution_count": 55
        }
      ]
    },
    {
      "cell_type": "code",
      "source": [
        "df[\"Number_of_HT\"] = np.where(\n",
        "    df[\"N_HT\"] >= df[\"HT\"],\n",
        "    df[\"N_HT\"],  # Value if True\n",
        "    df[\"HT\"]   # Value if False (you can change this to something else)\n",
        ")"
      ],
      "metadata": {
        "id": "yu3hF_wukeBb"
      },
      "execution_count": null,
      "outputs": []
    },
    {
      "cell_type": "code",
      "source": [
        "df.Number_of_HT.value_counts()"
      ],
      "metadata": {
        "colab": {
          "base_uri": "https://localhost:8080/",
          "height": 335
        },
        "id": "Tif1lE2K298G",
        "outputId": "bc563dd7-8003-4d2e-b335-5ef789d6396d"
      },
      "execution_count": null,
      "outputs": [
        {
          "output_type": "execute_result",
          "data": {
            "text/plain": [
              "Number_of_HT\n",
              "0    2150\n",
              "1    1171\n",
              "2    1160\n",
              "3     388\n",
              "4     135\n",
              "5      11\n",
              "6       1\n",
              "Name: count, dtype: int64"
            ],
            "text/html": [
              "<div>\n",
              "<style scoped>\n",
              "    .dataframe tbody tr th:only-of-type {\n",
              "        vertical-align: middle;\n",
              "    }\n",
              "\n",
              "    .dataframe tbody tr th {\n",
              "        vertical-align: top;\n",
              "    }\n",
              "\n",
              "    .dataframe thead th {\n",
              "        text-align: right;\n",
              "    }\n",
              "</style>\n",
              "<table border=\"1\" class=\"dataframe\">\n",
              "  <thead>\n",
              "    <tr style=\"text-align: right;\">\n",
              "      <th></th>\n",
              "      <th>count</th>\n",
              "    </tr>\n",
              "    <tr>\n",
              "      <th>Number_of_HT</th>\n",
              "      <th></th>\n",
              "    </tr>\n",
              "  </thead>\n",
              "  <tbody>\n",
              "    <tr>\n",
              "      <th>0</th>\n",
              "      <td>2150</td>\n",
              "    </tr>\n",
              "    <tr>\n",
              "      <th>1</th>\n",
              "      <td>1171</td>\n",
              "    </tr>\n",
              "    <tr>\n",
              "      <th>2</th>\n",
              "      <td>1160</td>\n",
              "    </tr>\n",
              "    <tr>\n",
              "      <th>3</th>\n",
              "      <td>388</td>\n",
              "    </tr>\n",
              "    <tr>\n",
              "      <th>4</th>\n",
              "      <td>135</td>\n",
              "    </tr>\n",
              "    <tr>\n",
              "      <th>5</th>\n",
              "      <td>11</td>\n",
              "    </tr>\n",
              "    <tr>\n",
              "      <th>6</th>\n",
              "      <td>1</td>\n",
              "    </tr>\n",
              "  </tbody>\n",
              "</table>\n",
              "</div><br><label><b>dtype:</b> int64</label>"
            ]
          },
          "metadata": {},
          "execution_count": 57
        }
      ]
    },
    {
      "cell_type": "code",
      "source": [
        "df.Number_of_HT.isnull().sum()"
      ],
      "metadata": {
        "colab": {
          "base_uri": "https://localhost:8080/"
        },
        "id": "bImvx9gn3Cdn",
        "outputId": "e541829c-29f3-45f3-ae91-d42c00614a44"
      },
      "execution_count": null,
      "outputs": [
        {
          "output_type": "execute_result",
          "data": {
            "text/plain": [
              "np.int64(0)"
            ]
          },
          "metadata": {},
          "execution_count": 59
        }
      ]
    },
    {
      "cell_type": "code",
      "source": [
        "df.drop(\"HT\", axis=1, inplace=True)"
      ],
      "metadata": {
        "id": "MwJzpopN3H4d"
      },
      "execution_count": null,
      "outputs": []
    },
    {
      "cell_type": "code",
      "source": [
        "df.drop(\"N_HT\", axis=1, inplace=True)"
      ],
      "metadata": {
        "id": "qUalCILq3Yqs"
      },
      "execution_count": null,
      "outputs": []
    },
    {
      "cell_type": "code",
      "source": [
        "df.drop('Alcohol', axis=1, inplace=True)"
      ],
      "metadata": {
        "id": "biORpkIO3bPQ"
      },
      "execution_count": null,
      "outputs": []
    },
    {
      "cell_type": "code",
      "source": [
        "df.columns"
      ],
      "metadata": {
        "colab": {
          "base_uri": "https://localhost:8080/"
        },
        "id": "6_Kz6fh930bl",
        "outputId": "ff871103-3e76-4f99-ff06-bdb26933c96f"
      },
      "execution_count": null,
      "outputs": [
        {
          "output_type": "execute_result",
          "data": {
            "text/plain": [
              "Index(['Name', 'Gender', 'Age', 'Age_Group', 'Weight', 'DM_Type2',\n",
              "       'DM_Type2_Duration', 'Insulin', 'DM_Type2_Drug', 'Dyslipidemia',\n",
              "       'Dyslipidemia_duration', 'KAH', 'KAH_Duration', 'Hipotiroidi', 'Asthma',\n",
              "       'COPD', 'OP', 'HT_drugs', 'Total_Duration_of_HT', 'Education', 'Job',\n",
              "       'Status', 'Work_Status', 'Exercise', 'Exercise_Status', 'AT', 'CST',\n",
              "       'Gait_Speed', 'Grip_Str', 'STAR', 'BMI', 'MMSE', 'Sarcopenia',\n",
              "       'Number_of_HT'],\n",
              "      dtype='object')"
            ]
          },
          "metadata": {},
          "execution_count": 64
        }
      ]
    },
    {
      "cell_type": "code",
      "source": [
        "columns_to_check = [\n",
        "    'DM_Type2',\n",
        "    'Insulin',\n",
        "    'Dyslipidemia',\n",
        "    'KAH',\n",
        "    'Hipotiroidi',\n",
        "    'Asthma',\n",
        "    'COPD'\n",
        "\n",
        "]\n",
        "\n",
        "df['Chronic_Diseases'] = df.apply(\n",
        "    lambda row: ', '.join([\n",
        "        col for col in columns_to_check\n",
        "        if pd.notna(row[col]) and row[col] != 0\n",
        "    ]),\n",
        "    axis=1\n",
        ")"
      ],
      "metadata": {
        "id": "1_vurElQ33NP"
      },
      "execution_count": null,
      "outputs": []
    },
    {
      "cell_type": "code",
      "source": [
        "df.columns"
      ],
      "metadata": {
        "colab": {
          "base_uri": "https://localhost:8080/"
        },
        "id": "u9yK1Kfl70sK",
        "outputId": "c036f32f-2125-45fd-eea5-7757d054a951"
      },
      "execution_count": null,
      "outputs": [
        {
          "output_type": "execute_result",
          "data": {
            "text/plain": [
              "Index(['Name', 'Gender', 'Age', 'Age_Group', 'Weight', 'DM_Type2',\n",
              "       'DM_Type2_Duration', 'Insulin', 'DM_Type2_Drug', 'Dyslipidemia',\n",
              "       'Dyslipidemia_duration', 'KAH', 'KAH_Duration', 'Hipotiroidi', 'Asthma',\n",
              "       'COPD', 'OP', 'HT_drugs', 'Total_Duration_of_HT', 'Education', 'Job',\n",
              "       'Status', 'Work_Status', 'Exercise', 'Exercise_Status', 'AT', 'CST',\n",
              "       'Gait_Speed', 'Grip_Str', 'STAR', 'BMI', 'MMSE', 'Sarcopenia',\n",
              "       'Number_of_HT', 'Chronic_Diseases'],\n",
              "      dtype='object')"
            ]
          },
          "metadata": {},
          "execution_count": 66
        }
      ]
    },
    {
      "cell_type": "code",
      "source": [
        "df.Chronic_Diseases.value_counts()"
      ],
      "metadata": {
        "colab": {
          "base_uri": "https://localhost:8080/",
          "height": 489
        },
        "id": "zZi_oEfn72JI",
        "outputId": "759c5bea-f249-487b-e68d-9984b249092e"
      },
      "execution_count": null,
      "outputs": [
        {
          "output_type": "execute_result",
          "data": {
            "text/plain": [
              "Chronic_Diseases\n",
              "                                             2410\n",
              "DM_Type2                                      557\n",
              "Hipotiroidi                                   404\n",
              "DM_Type2, Dyslipidemia                        190\n",
              "Dyslipidemia                                  159\n",
              "                                             ... \n",
              "DM_Type2, KAH, COPD                             1\n",
              "DM_Type2, Dyslipidemia, Hipotiroidi, COPD       1\n",
              "DM_Type2, Dyslipidemia, KAH, COPD               1\n",
              "DM_Type2, KAH, Asthma                           1\n",
              "Dyslipidemia, Hipotiroidi, Asthma, COPD         1\n",
              "Name: count, Length: 63, dtype: int64"
            ],
            "text/html": [
              "<div>\n",
              "<style scoped>\n",
              "    .dataframe tbody tr th:only-of-type {\n",
              "        vertical-align: middle;\n",
              "    }\n",
              "\n",
              "    .dataframe tbody tr th {\n",
              "        vertical-align: top;\n",
              "    }\n",
              "\n",
              "    .dataframe thead th {\n",
              "        text-align: right;\n",
              "    }\n",
              "</style>\n",
              "<table border=\"1\" class=\"dataframe\">\n",
              "  <thead>\n",
              "    <tr style=\"text-align: right;\">\n",
              "      <th></th>\n",
              "      <th>count</th>\n",
              "    </tr>\n",
              "    <tr>\n",
              "      <th>Chronic_Diseases</th>\n",
              "      <th></th>\n",
              "    </tr>\n",
              "  </thead>\n",
              "  <tbody>\n",
              "    <tr>\n",
              "      <th></th>\n",
              "      <td>2410</td>\n",
              "    </tr>\n",
              "    <tr>\n",
              "      <th>DM_Type2</th>\n",
              "      <td>557</td>\n",
              "    </tr>\n",
              "    <tr>\n",
              "      <th>Hipotiroidi</th>\n",
              "      <td>404</td>\n",
              "    </tr>\n",
              "    <tr>\n",
              "      <th>DM_Type2, Dyslipidemia</th>\n",
              "      <td>190</td>\n",
              "    </tr>\n",
              "    <tr>\n",
              "      <th>Dyslipidemia</th>\n",
              "      <td>159</td>\n",
              "    </tr>\n",
              "    <tr>\n",
              "      <th>...</th>\n",
              "      <td>...</td>\n",
              "    </tr>\n",
              "    <tr>\n",
              "      <th>DM_Type2, KAH, COPD</th>\n",
              "      <td>1</td>\n",
              "    </tr>\n",
              "    <tr>\n",
              "      <th>DM_Type2, Dyslipidemia, Hipotiroidi, COPD</th>\n",
              "      <td>1</td>\n",
              "    </tr>\n",
              "    <tr>\n",
              "      <th>DM_Type2, Dyslipidemia, KAH, COPD</th>\n",
              "      <td>1</td>\n",
              "    </tr>\n",
              "    <tr>\n",
              "      <th>DM_Type2, KAH, Asthma</th>\n",
              "      <td>1</td>\n",
              "    </tr>\n",
              "    <tr>\n",
              "      <th>Dyslipidemia, Hipotiroidi, Asthma, COPD</th>\n",
              "      <td>1</td>\n",
              "    </tr>\n",
              "  </tbody>\n",
              "</table>\n",
              "<p>63 rows × 1 columns</p>\n",
              "</div><br><label><b>dtype:</b> int64</label>"
            ]
          },
          "metadata": {},
          "execution_count": 67
        }
      ]
    },
    {
      "cell_type": "code",
      "source": [
        "df.Chronic_Diseases.isnull().sum()"
      ],
      "metadata": {
        "colab": {
          "base_uri": "https://localhost:8080/"
        },
        "id": "Kif50DDz74QA",
        "outputId": "e2396759-f906-4e5f-e521-54d15b9b90e7"
      },
      "execution_count": null,
      "outputs": [
        {
          "output_type": "execute_result",
          "data": {
            "text/plain": [
              "np.int64(0)"
            ]
          },
          "metadata": {},
          "execution_count": 68
        }
      ]
    },
    {
      "cell_type": "code",
      "source": [
        "df.Chronic_Diseases.replace(\"\", np.nan, inplace=True)"
      ],
      "metadata": {
        "id": "oWZUBqo67_x1"
      },
      "execution_count": null,
      "outputs": []
    },
    {
      "cell_type": "code",
      "source": [
        "df.Chronic_Diseases.value_counts(dropna=False)"
      ],
      "metadata": {
        "colab": {
          "base_uri": "https://localhost:8080/",
          "height": 489
        },
        "id": "iFXFv3lL8XiD",
        "outputId": "69f376f5-4510-4530-d940-9f4c6a513a68"
      },
      "execution_count": null,
      "outputs": [
        {
          "output_type": "execute_result",
          "data": {
            "text/plain": [
              "Chronic_Diseases\n",
              "NaN                                          2410\n",
              "DM_Type2                                      557\n",
              "Hipotiroidi                                   404\n",
              "DM_Type2, Dyslipidemia                        190\n",
              "Dyslipidemia                                  159\n",
              "                                             ... \n",
              "DM_Type2, KAH, COPD                             1\n",
              "DM_Type2, Dyslipidemia, Hipotiroidi, COPD       1\n",
              "DM_Type2, Dyslipidemia, KAH, COPD               1\n",
              "DM_Type2, KAH, Asthma                           1\n",
              "Dyslipidemia, Hipotiroidi, Asthma, COPD         1\n",
              "Name: count, Length: 63, dtype: int64"
            ],
            "text/html": [
              "<div>\n",
              "<style scoped>\n",
              "    .dataframe tbody tr th:only-of-type {\n",
              "        vertical-align: middle;\n",
              "    }\n",
              "\n",
              "    .dataframe tbody tr th {\n",
              "        vertical-align: top;\n",
              "    }\n",
              "\n",
              "    .dataframe thead th {\n",
              "        text-align: right;\n",
              "    }\n",
              "</style>\n",
              "<table border=\"1\" class=\"dataframe\">\n",
              "  <thead>\n",
              "    <tr style=\"text-align: right;\">\n",
              "      <th></th>\n",
              "      <th>count</th>\n",
              "    </tr>\n",
              "    <tr>\n",
              "      <th>Chronic_Diseases</th>\n",
              "      <th></th>\n",
              "    </tr>\n",
              "  </thead>\n",
              "  <tbody>\n",
              "    <tr>\n",
              "      <th>NaN</th>\n",
              "      <td>2410</td>\n",
              "    </tr>\n",
              "    <tr>\n",
              "      <th>DM_Type2</th>\n",
              "      <td>557</td>\n",
              "    </tr>\n",
              "    <tr>\n",
              "      <th>Hipotiroidi</th>\n",
              "      <td>404</td>\n",
              "    </tr>\n",
              "    <tr>\n",
              "      <th>DM_Type2, Dyslipidemia</th>\n",
              "      <td>190</td>\n",
              "    </tr>\n",
              "    <tr>\n",
              "      <th>Dyslipidemia</th>\n",
              "      <td>159</td>\n",
              "    </tr>\n",
              "    <tr>\n",
              "      <th>...</th>\n",
              "      <td>...</td>\n",
              "    </tr>\n",
              "    <tr>\n",
              "      <th>DM_Type2, KAH, COPD</th>\n",
              "      <td>1</td>\n",
              "    </tr>\n",
              "    <tr>\n",
              "      <th>DM_Type2, Dyslipidemia, Hipotiroidi, COPD</th>\n",
              "      <td>1</td>\n",
              "    </tr>\n",
              "    <tr>\n",
              "      <th>DM_Type2, Dyslipidemia, KAH, COPD</th>\n",
              "      <td>1</td>\n",
              "    </tr>\n",
              "    <tr>\n",
              "      <th>DM_Type2, KAH, Asthma</th>\n",
              "      <td>1</td>\n",
              "    </tr>\n",
              "    <tr>\n",
              "      <th>Dyslipidemia, Hipotiroidi, Asthma, COPD</th>\n",
              "      <td>1</td>\n",
              "    </tr>\n",
              "  </tbody>\n",
              "</table>\n",
              "<p>63 rows × 1 columns</p>\n",
              "</div><br><label><b>dtype:</b> int64</label>"
            ]
          },
          "metadata": {},
          "execution_count": 85
        }
      ]
    },
    {
      "cell_type": "code",
      "source": [
        "df.to_excel('/content/drive/MyDrive/SARCOPENIA_PROJECT/sarcopenia-data-set_columns_corrected_5.xlsx')"
      ],
      "metadata": {
        "id": "R7oxdnWH8xL4"
      },
      "execution_count": null,
      "outputs": []
    },
    {
      "cell_type": "code",
      "source": [
        "df = pd.read_excel(\"/content/drive/MyDrive/SARCOPENIA_PROJECT/sarcopenia-data-set_columns_corrected_5.xlsx\")"
      ],
      "metadata": {
        "id": "qv0sENjkpmKq"
      },
      "execution_count": null,
      "outputs": []
    },
    {
      "cell_type": "code",
      "source": [
        "def create_conditional_sum_column(df: pd.DataFrame, columns_to_sum: list, new_column_name: str = 'Total_Non_Zero_Values') -> pd.DataFrame:\n",
        "\n",
        "    # Initialize the new column with zeros.\n",
        "    df[new_column_name] = 0\n",
        "\n",
        "    # Iterate over each column specified for summation\n",
        "    for col in columns_to_sum:\n",
        "        # Check if the column exists in the DataFrame\n",
        "        if col in df.columns:\n",
        "            # Add the column's value to the new_column_name ONLY if it's not 0 and not NaN.\n",
        "            # Using .loc for efficient conditional assignment.\n",
        "            # (df[col].notna() & (df[col] != 0)) creates a boolean mask.\n",
        "            # .fillna(0) is used before addition to treat any NaN values in the\n",
        "            # columns_to_sum as 0, ensuring they don't propagate NaN to the sum.\n",
        "            df.loc[(df[col].notna()) & (df[col] != 0), new_column_name] += df[col]\n",
        "        else:\n",
        "            print(f\"Warning: Column '{col}' not found in the DataFrame. Skipping this column.\")\n",
        "\n",
        "    return df"
      ],
      "metadata": {
        "id": "_YhLD9mf-Yb0"
      },
      "execution_count": null,
      "outputs": []
    },
    {
      "cell_type": "code",
      "source": [
        "  columns_to_sum = ['DM_Type2', 'Insulin', 'Dyslipidemia', 'KAH', 'Hipotiroidi', 'Asthma', 'COPD']\n",
        "\n",
        "    # Call the function to create the new column\n",
        "  df_result = create_conditional_sum_column(df.copy(), columns_to_sum, 'Total_Number_of_Chronic_Diseases')"
      ],
      "metadata": {
        "id": "OluR5-hOqKbq"
      },
      "execution_count": null,
      "outputs": []
    },
    {
      "cell_type": "code",
      "source": [
        "df_result.columns"
      ],
      "metadata": {
        "colab": {
          "base_uri": "https://localhost:8080/"
        },
        "id": "g3EcL-QMrDrH",
        "outputId": "fd532f3f-d159-4c5e-8139-a09d4605789b"
      },
      "execution_count": null,
      "outputs": [
        {
          "output_type": "execute_result",
          "data": {
            "text/plain": [
              "Index(['Unnamed: 0', 'Name', 'Gender', 'Age', 'Age_Group', 'Weight',\n",
              "       'DM_Type2', 'DM_Type2_Duration', 'Insulin', 'DM_Type2_Drug',\n",
              "       'Dyslipidemia', 'Dyslipidemia_duration', 'KAH', 'KAH_Duration',\n",
              "       'Hipotiroidi', 'Asthma', 'COPD', 'OP', 'HT_drugs',\n",
              "       'Total_Duration_of_HT', 'Education', 'Job', 'Status', 'Work_Status',\n",
              "       'Exercise', 'Exercise_Status', 'AT', 'CST', 'Gait_Speed', 'Grip_Str',\n",
              "       'STAR', 'BMI', 'MMSE', 'Sarcopenia', 'Number_of_HT', 'Chronic_Diseases',\n",
              "       'Total_Number_of_Chronic_Diseases'],\n",
              "      dtype='object')"
            ]
          },
          "metadata": {},
          "execution_count": 8
        }
      ]
    },
    {
      "cell_type": "code",
      "source": [
        "df_result.Total_Number_of_Chronic_Diseases.value_counts()"
      ],
      "metadata": {
        "colab": {
          "base_uri": "https://localhost:8080/",
          "height": 335
        },
        "id": "Z61E82OZrLI3",
        "outputId": "2cc6de13-a5c8-40af-ac82-c807c4c1b9d6"
      },
      "execution_count": null,
      "outputs": [
        {
          "output_type": "execute_result",
          "data": {
            "text/plain": [
              "Total_Number_of_Chronic_Diseases\n",
              "0    2410\n",
              "1    1378\n",
              "2     742\n",
              "3     363\n",
              "4     104\n",
              "5      18\n",
              "6       1\n",
              "Name: count, dtype: int64"
            ],
            "text/html": [
              "<div>\n",
              "<style scoped>\n",
              "    .dataframe tbody tr th:only-of-type {\n",
              "        vertical-align: middle;\n",
              "    }\n",
              "\n",
              "    .dataframe tbody tr th {\n",
              "        vertical-align: top;\n",
              "    }\n",
              "\n",
              "    .dataframe thead th {\n",
              "        text-align: right;\n",
              "    }\n",
              "</style>\n",
              "<table border=\"1\" class=\"dataframe\">\n",
              "  <thead>\n",
              "    <tr style=\"text-align: right;\">\n",
              "      <th></th>\n",
              "      <th>count</th>\n",
              "    </tr>\n",
              "    <tr>\n",
              "      <th>Total_Number_of_Chronic_Diseases</th>\n",
              "      <th></th>\n",
              "    </tr>\n",
              "  </thead>\n",
              "  <tbody>\n",
              "    <tr>\n",
              "      <th>0</th>\n",
              "      <td>2410</td>\n",
              "    </tr>\n",
              "    <tr>\n",
              "      <th>1</th>\n",
              "      <td>1378</td>\n",
              "    </tr>\n",
              "    <tr>\n",
              "      <th>2</th>\n",
              "      <td>742</td>\n",
              "    </tr>\n",
              "    <tr>\n",
              "      <th>3</th>\n",
              "      <td>363</td>\n",
              "    </tr>\n",
              "    <tr>\n",
              "      <th>4</th>\n",
              "      <td>104</td>\n",
              "    </tr>\n",
              "    <tr>\n",
              "      <th>5</th>\n",
              "      <td>18</td>\n",
              "    </tr>\n",
              "    <tr>\n",
              "      <th>6</th>\n",
              "      <td>1</td>\n",
              "    </tr>\n",
              "  </tbody>\n",
              "</table>\n",
              "</div><br><label><b>dtype:</b> int64</label>"
            ]
          },
          "metadata": {},
          "execution_count": 9
        }
      ]
    },
    {
      "cell_type": "code",
      "source": [
        "df_result.Total_Number_of_Chronic_Diseases.isnull().sum()"
      ],
      "metadata": {
        "colab": {
          "base_uri": "https://localhost:8080/"
        },
        "id": "t7IQJYl4rPKC",
        "outputId": "6c3259ef-2c9b-44c0-d55a-e078cc5bb614"
      },
      "execution_count": null,
      "outputs": [
        {
          "output_type": "execute_result",
          "data": {
            "text/plain": [
              "np.int64(0)"
            ]
          },
          "metadata": {},
          "execution_count": 10
        }
      ]
    },
    {
      "cell_type": "code",
      "source": [
        "df = df_result"
      ],
      "metadata": {
        "id": "3oIdimCerbzx"
      },
      "execution_count": null,
      "outputs": []
    },
    {
      "cell_type": "code",
      "source": [
        "df.dtypes"
      ],
      "metadata": {
        "colab": {
          "base_uri": "https://localhost:8080/",
          "height": 1000
        },
        "id": "QnwtJ6BHrwZY",
        "outputId": "e80657a1-b6cc-4825-9b49-504e3363b2de"
      },
      "execution_count": null,
      "outputs": [
        {
          "output_type": "execute_result",
          "data": {
            "text/plain": [
              "Unnamed: 0                            int64\n",
              "Name                                 object\n",
              "Gender                               object\n",
              "Age                                 float64\n",
              "Age_Group                            object\n",
              "Weight                              float64\n",
              "DM_Type2                              int64\n",
              "DM_Type2_Duration                   float64\n",
              "Insulin                               int64\n",
              "DM_Type2_Drug                        object\n",
              "Dyslipidemia                          int64\n",
              "Dyslipidemia_duration               float64\n",
              "KAH                                   int64\n",
              "KAH_Duration                        float64\n",
              "Hipotiroidi                           int64\n",
              "Asthma                                int64\n",
              "COPD                                  int64\n",
              "OP                                  float64\n",
              "HT_drugs                             object\n",
              "Total_Duration_of_HT                float64\n",
              "Education                            object\n",
              "Job                                  object\n",
              "Status                               object\n",
              "Work_Status                           int64\n",
              "Exercise                             object\n",
              "Exercise_Status                       int64\n",
              "AT                                  float64\n",
              "CST                                 float64\n",
              "Gait_Speed                          float64\n",
              "Grip_Str                            float64\n",
              "STAR                                float64\n",
              "BMI                                 float64\n",
              "MMSE                                  int64\n",
              "Sarcopenia                            int64\n",
              "Number_of_HT                          int64\n",
              "Chronic_Diseases                     object\n",
              "Total_Number_of_Chronic_Diseases      int64\n",
              "dtype: object"
            ],
            "text/html": [
              "<div>\n",
              "<style scoped>\n",
              "    .dataframe tbody tr th:only-of-type {\n",
              "        vertical-align: middle;\n",
              "    }\n",
              "\n",
              "    .dataframe tbody tr th {\n",
              "        vertical-align: top;\n",
              "    }\n",
              "\n",
              "    .dataframe thead th {\n",
              "        text-align: right;\n",
              "    }\n",
              "</style>\n",
              "<table border=\"1\" class=\"dataframe\">\n",
              "  <thead>\n",
              "    <tr style=\"text-align: right;\">\n",
              "      <th></th>\n",
              "      <th>0</th>\n",
              "    </tr>\n",
              "  </thead>\n",
              "  <tbody>\n",
              "    <tr>\n",
              "      <th>Unnamed: 0</th>\n",
              "      <td>int64</td>\n",
              "    </tr>\n",
              "    <tr>\n",
              "      <th>Name</th>\n",
              "      <td>object</td>\n",
              "    </tr>\n",
              "    <tr>\n",
              "      <th>Gender</th>\n",
              "      <td>object</td>\n",
              "    </tr>\n",
              "    <tr>\n",
              "      <th>Age</th>\n",
              "      <td>float64</td>\n",
              "    </tr>\n",
              "    <tr>\n",
              "      <th>Age_Group</th>\n",
              "      <td>object</td>\n",
              "    </tr>\n",
              "    <tr>\n",
              "      <th>Weight</th>\n",
              "      <td>float64</td>\n",
              "    </tr>\n",
              "    <tr>\n",
              "      <th>DM_Type2</th>\n",
              "      <td>int64</td>\n",
              "    </tr>\n",
              "    <tr>\n",
              "      <th>DM_Type2_Duration</th>\n",
              "      <td>float64</td>\n",
              "    </tr>\n",
              "    <tr>\n",
              "      <th>Insulin</th>\n",
              "      <td>int64</td>\n",
              "    </tr>\n",
              "    <tr>\n",
              "      <th>DM_Type2_Drug</th>\n",
              "      <td>object</td>\n",
              "    </tr>\n",
              "    <tr>\n",
              "      <th>Dyslipidemia</th>\n",
              "      <td>int64</td>\n",
              "    </tr>\n",
              "    <tr>\n",
              "      <th>Dyslipidemia_duration</th>\n",
              "      <td>float64</td>\n",
              "    </tr>\n",
              "    <tr>\n",
              "      <th>KAH</th>\n",
              "      <td>int64</td>\n",
              "    </tr>\n",
              "    <tr>\n",
              "      <th>KAH_Duration</th>\n",
              "      <td>float64</td>\n",
              "    </tr>\n",
              "    <tr>\n",
              "      <th>Hipotiroidi</th>\n",
              "      <td>int64</td>\n",
              "    </tr>\n",
              "    <tr>\n",
              "      <th>Asthma</th>\n",
              "      <td>int64</td>\n",
              "    </tr>\n",
              "    <tr>\n",
              "      <th>COPD</th>\n",
              "      <td>int64</td>\n",
              "    </tr>\n",
              "    <tr>\n",
              "      <th>OP</th>\n",
              "      <td>float64</td>\n",
              "    </tr>\n",
              "    <tr>\n",
              "      <th>HT_drugs</th>\n",
              "      <td>object</td>\n",
              "    </tr>\n",
              "    <tr>\n",
              "      <th>Total_Duration_of_HT</th>\n",
              "      <td>float64</td>\n",
              "    </tr>\n",
              "    <tr>\n",
              "      <th>Education</th>\n",
              "      <td>object</td>\n",
              "    </tr>\n",
              "    <tr>\n",
              "      <th>Job</th>\n",
              "      <td>object</td>\n",
              "    </tr>\n",
              "    <tr>\n",
              "      <th>Status</th>\n",
              "      <td>object</td>\n",
              "    </tr>\n",
              "    <tr>\n",
              "      <th>Work_Status</th>\n",
              "      <td>int64</td>\n",
              "    </tr>\n",
              "    <tr>\n",
              "      <th>Exercise</th>\n",
              "      <td>object</td>\n",
              "    </tr>\n",
              "    <tr>\n",
              "      <th>Exercise_Status</th>\n",
              "      <td>int64</td>\n",
              "    </tr>\n",
              "    <tr>\n",
              "      <th>AT</th>\n",
              "      <td>float64</td>\n",
              "    </tr>\n",
              "    <tr>\n",
              "      <th>CST</th>\n",
              "      <td>float64</td>\n",
              "    </tr>\n",
              "    <tr>\n",
              "      <th>Gait_Speed</th>\n",
              "      <td>float64</td>\n",
              "    </tr>\n",
              "    <tr>\n",
              "      <th>Grip_Str</th>\n",
              "      <td>float64</td>\n",
              "    </tr>\n",
              "    <tr>\n",
              "      <th>STAR</th>\n",
              "      <td>float64</td>\n",
              "    </tr>\n",
              "    <tr>\n",
              "      <th>BMI</th>\n",
              "      <td>float64</td>\n",
              "    </tr>\n",
              "    <tr>\n",
              "      <th>MMSE</th>\n",
              "      <td>int64</td>\n",
              "    </tr>\n",
              "    <tr>\n",
              "      <th>Sarcopenia</th>\n",
              "      <td>int64</td>\n",
              "    </tr>\n",
              "    <tr>\n",
              "      <th>Number_of_HT</th>\n",
              "      <td>int64</td>\n",
              "    </tr>\n",
              "    <tr>\n",
              "      <th>Chronic_Diseases</th>\n",
              "      <td>object</td>\n",
              "    </tr>\n",
              "    <tr>\n",
              "      <th>Total_Number_of_Chronic_Diseases</th>\n",
              "      <td>int64</td>\n",
              "    </tr>\n",
              "  </tbody>\n",
              "</table>\n",
              "</div><br><label><b>dtype:</b> object</label>"
            ]
          },
          "metadata": {},
          "execution_count": 15
        }
      ]
    },
    {
      "cell_type": "code",
      "source": [
        "df.columns"
      ],
      "metadata": {
        "id": "5JM21RNOzEoE",
        "colab": {
          "base_uri": "https://localhost:8080/"
        },
        "outputId": "e6f1d806-2f4f-46a7-a0b3-ec4bfa420b24"
      },
      "execution_count": null,
      "outputs": [
        {
          "output_type": "execute_result",
          "data": {
            "text/plain": [
              "Index(['Unnamed: 0', 'Name', 'Gender', 'Age', 'Age_Group', 'Weight',\n",
              "       'DM_Type2', 'DM_Type2_Duration', 'Insulin', 'DM_Type2_Drug',\n",
              "       'Dyslipidemia', 'Dyslipidemia_duration', 'KAH', 'KAH_Duration',\n",
              "       'Hipotiroidi', 'Asthma', 'COPD', 'OP', 'HT_drugs',\n",
              "       'Total_Duration_of_HT', 'Education', 'Job', 'Status', 'Work_Status',\n",
              "       'Exercise', 'Exercise_Status', 'AT', 'CST', 'Gait_Speed', 'Grip_Str',\n",
              "       'STAR', 'BMI', 'MMSE', 'Sarcopenia', 'Number_of_HT', 'Chronic_Diseases',\n",
              "       'Total_Number_of_Chronic_Diseases'],\n",
              "      dtype='object')"
            ]
          },
          "metadata": {},
          "execution_count": 23
        }
      ]
    },
    {
      "cell_type": "code",
      "source": [
        "def highest_value_column(df: pd.DataFrame, columns_to_combine: list, new_column_name: str) -> pd.DataFrame:\n",
        "    \"\"\"\n",
        "    Creates a new column in the DataFrame containing the highest value among\n",
        "    specified columns for each row.\n",
        "\n",
        "    - If all values in the specified columns for a row are NaN, the new column\n",
        "      will have 0 for that row.\n",
        "    - NaN values are ignored during comparison.\n",
        "    - If all values are 0, the new column will have 0.\n",
        "\n",
        "    Args:\n",
        "        df (pd.DataFrame): The input pandas DataFrame.\n",
        "        columns_to_combine (list): A list of column names (strings) to compare.\n",
        "                                   These columns are expected to be of float type.\n",
        "        new_column_name (str): The name for the new column to be created.\n",
        "\n",
        "    Returns:\n",
        "        pd.DataFrame: The DataFrame with the new column added.\n",
        "    \"\"\"\n",
        "    if not all(col in df.columns for col in columns_to_combine):\n",
        "        missing_cols = [col for col in columns_to_combine if col not in df.columns]\n",
        "        print(f\"Warning: The following columns were not found in the DataFrame: {missing_cols}\")\n",
        "\n",
        "        columns_to_combine = [col for col in columns_to_combine if col in df.columns]\n",
        "        if not columns_to_combine:\n",
        "            print(\"Error: No valid columns to combine. Returning original DataFrame.\")\n",
        "            return df\n",
        "\n",
        "    # Ensure the columns are numeric, coercing errors to NaN\n",
        "    for col in columns_to_combine:\n",
        "        df[col] = pd.to_numeric(df[col], errors='coerce')\n",
        "\n",
        "    # Calculate the maximum value across the specified columns for each row.\n",
        "    # skipna=True ensures that NaN values are ignored in the comparison.\n",
        "    # If all values in a row are NaN, the result will be NaN.\n",
        "    df[new_column_name] = df[columns_to_combine].max(axis=1, skipna=True)\n",
        "\n",
        "    # Fill NaN values (which occur when all original values were NaN) with 0.\n",
        "    df[new_column_name] = df[new_column_name].fillna(0).astype(float)\n",
        "\n",
        "    return df"
      ],
      "metadata": {
        "id": "rnGb3GkV1Ln-"
      },
      "execution_count": null,
      "outputs": []
    },
    {
      "cell_type": "code",
      "source": [
        "columns_to_combine = ['DM_Type2_Duration', 'Dyslipidemia_duration', 'KAH_Duration', 'Total_Duration_of_HT']\n",
        "new_column_name = 'Total_Duration_of_Chronic_Diseases'\n",
        "\n",
        "df_result2 = highest_value_column(df.copy(), columns_to_combine, 'Total_Duration_of_Chronic_Diseases')"
      ],
      "metadata": {
        "id": "nJV-payO1K3P"
      },
      "execution_count": null,
      "outputs": []
    },
    {
      "cell_type": "code",
      "source": [
        "df_result2.Total_Duration_of_Chronic_Diseases.value_counts()"
      ],
      "metadata": {
        "colab": {
          "base_uri": "https://localhost:8080/",
          "height": 1000
        },
        "id": "nITbL9Az3Ebu",
        "outputId": "56c38eba-d40c-4d22-85aa-b83441375058"
      },
      "execution_count": null,
      "outputs": [
        {
          "output_type": "execute_result",
          "data": {
            "text/plain": [
              "Total_Duration_of_Chronic_Diseases\n",
              "0.00     1691\n",
              "10.00     489\n",
              "5.00      312\n",
              "15.00     303\n",
              "0.01      276\n",
              "20.00     270\n",
              "2.00      243\n",
              "5.83      177\n",
              "3.00      168\n",
              "1.00      166\n",
              "6.00      153\n",
              "4.00      151\n",
              "8.00       92\n",
              "7.00       90\n",
              "12.00      54\n",
              "25.00      54\n",
              "3.11       35\n",
              "13.00      29\n",
              "9.00       27\n",
              "0.10       26\n",
              "17.00      26\n",
              "0.50       25\n",
              "16.00      25\n",
              "14.00      21\n",
              "0.30       19\n",
              "0.20       15\n",
              "11.00      13\n",
              "18.00      12\n",
              "1.50       11\n",
              "22.00       9\n",
              "21.00       9\n",
              "19.00       6\n",
              "23.00       5\n",
              "0.40        4\n",
              "0.80        3\n",
              "2.50        2\n",
              "24.00       2\n",
              "0.70        2\n",
              "3.50        1\n",
              "Name: count, dtype: int64"
            ],
            "text/html": [
              "<div>\n",
              "<style scoped>\n",
              "    .dataframe tbody tr th:only-of-type {\n",
              "        vertical-align: middle;\n",
              "    }\n",
              "\n",
              "    .dataframe tbody tr th {\n",
              "        vertical-align: top;\n",
              "    }\n",
              "\n",
              "    .dataframe thead th {\n",
              "        text-align: right;\n",
              "    }\n",
              "</style>\n",
              "<table border=\"1\" class=\"dataframe\">\n",
              "  <thead>\n",
              "    <tr style=\"text-align: right;\">\n",
              "      <th></th>\n",
              "      <th>count</th>\n",
              "    </tr>\n",
              "    <tr>\n",
              "      <th>Total_Duration_of_Chronic_Diseases</th>\n",
              "      <th></th>\n",
              "    </tr>\n",
              "  </thead>\n",
              "  <tbody>\n",
              "    <tr>\n",
              "      <th>0.00</th>\n",
              "      <td>1691</td>\n",
              "    </tr>\n",
              "    <tr>\n",
              "      <th>10.00</th>\n",
              "      <td>489</td>\n",
              "    </tr>\n",
              "    <tr>\n",
              "      <th>5.00</th>\n",
              "      <td>312</td>\n",
              "    </tr>\n",
              "    <tr>\n",
              "      <th>15.00</th>\n",
              "      <td>303</td>\n",
              "    </tr>\n",
              "    <tr>\n",
              "      <th>0.01</th>\n",
              "      <td>276</td>\n",
              "    </tr>\n",
              "    <tr>\n",
              "      <th>20.00</th>\n",
              "      <td>270</td>\n",
              "    </tr>\n",
              "    <tr>\n",
              "      <th>2.00</th>\n",
              "      <td>243</td>\n",
              "    </tr>\n",
              "    <tr>\n",
              "      <th>5.83</th>\n",
              "      <td>177</td>\n",
              "    </tr>\n",
              "    <tr>\n",
              "      <th>3.00</th>\n",
              "      <td>168</td>\n",
              "    </tr>\n",
              "    <tr>\n",
              "      <th>1.00</th>\n",
              "      <td>166</td>\n",
              "    </tr>\n",
              "    <tr>\n",
              "      <th>6.00</th>\n",
              "      <td>153</td>\n",
              "    </tr>\n",
              "    <tr>\n",
              "      <th>4.00</th>\n",
              "      <td>151</td>\n",
              "    </tr>\n",
              "    <tr>\n",
              "      <th>8.00</th>\n",
              "      <td>92</td>\n",
              "    </tr>\n",
              "    <tr>\n",
              "      <th>7.00</th>\n",
              "      <td>90</td>\n",
              "    </tr>\n",
              "    <tr>\n",
              "      <th>12.00</th>\n",
              "      <td>54</td>\n",
              "    </tr>\n",
              "    <tr>\n",
              "      <th>25.00</th>\n",
              "      <td>54</td>\n",
              "    </tr>\n",
              "    <tr>\n",
              "      <th>3.11</th>\n",
              "      <td>35</td>\n",
              "    </tr>\n",
              "    <tr>\n",
              "      <th>13.00</th>\n",
              "      <td>29</td>\n",
              "    </tr>\n",
              "    <tr>\n",
              "      <th>9.00</th>\n",
              "      <td>27</td>\n",
              "    </tr>\n",
              "    <tr>\n",
              "      <th>0.10</th>\n",
              "      <td>26</td>\n",
              "    </tr>\n",
              "    <tr>\n",
              "      <th>17.00</th>\n",
              "      <td>26</td>\n",
              "    </tr>\n",
              "    <tr>\n",
              "      <th>0.50</th>\n",
              "      <td>25</td>\n",
              "    </tr>\n",
              "    <tr>\n",
              "      <th>16.00</th>\n",
              "      <td>25</td>\n",
              "    </tr>\n",
              "    <tr>\n",
              "      <th>14.00</th>\n",
              "      <td>21</td>\n",
              "    </tr>\n",
              "    <tr>\n",
              "      <th>0.30</th>\n",
              "      <td>19</td>\n",
              "    </tr>\n",
              "    <tr>\n",
              "      <th>0.20</th>\n",
              "      <td>15</td>\n",
              "    </tr>\n",
              "    <tr>\n",
              "      <th>11.00</th>\n",
              "      <td>13</td>\n",
              "    </tr>\n",
              "    <tr>\n",
              "      <th>18.00</th>\n",
              "      <td>12</td>\n",
              "    </tr>\n",
              "    <tr>\n",
              "      <th>1.50</th>\n",
              "      <td>11</td>\n",
              "    </tr>\n",
              "    <tr>\n",
              "      <th>22.00</th>\n",
              "      <td>9</td>\n",
              "    </tr>\n",
              "    <tr>\n",
              "      <th>21.00</th>\n",
              "      <td>9</td>\n",
              "    </tr>\n",
              "    <tr>\n",
              "      <th>19.00</th>\n",
              "      <td>6</td>\n",
              "    </tr>\n",
              "    <tr>\n",
              "      <th>23.00</th>\n",
              "      <td>5</td>\n",
              "    </tr>\n",
              "    <tr>\n",
              "      <th>0.40</th>\n",
              "      <td>4</td>\n",
              "    </tr>\n",
              "    <tr>\n",
              "      <th>0.80</th>\n",
              "      <td>3</td>\n",
              "    </tr>\n",
              "    <tr>\n",
              "      <th>2.50</th>\n",
              "      <td>2</td>\n",
              "    </tr>\n",
              "    <tr>\n",
              "      <th>24.00</th>\n",
              "      <td>2</td>\n",
              "    </tr>\n",
              "    <tr>\n",
              "      <th>0.70</th>\n",
              "      <td>2</td>\n",
              "    </tr>\n",
              "    <tr>\n",
              "      <th>3.50</th>\n",
              "      <td>1</td>\n",
              "    </tr>\n",
              "  </tbody>\n",
              "</table>\n",
              "</div><br><label><b>dtype:</b> int64</label>"
            ]
          },
          "metadata": {},
          "execution_count": 27
        }
      ]
    },
    {
      "cell_type": "code",
      "source": [
        "df.to_excel('/content/drive/MyDrive/SARCOPENIA_PROJECT/sarcopenia-data-set_columns_corrected_6.xlsx')"
      ],
      "metadata": {
        "id": "wX20FCtS3G0j"
      },
      "execution_count": null,
      "outputs": []
    },
    {
      "cell_type": "code",
      "source": [
        "df = pd.read_excel(\"/content/drive/MyDrive/SARCOPENIA_PROJECT/Data_Set_Files/sarcopenia-data-set_columns_corrected_6.xlsx\")"
      ],
      "metadata": {
        "id": "mS1mzher4PLt"
      },
      "execution_count": null,
      "outputs": []
    },
    {
      "cell_type": "code",
      "source": [
        "df.boxplot(column='Gait_Speed')"
      ],
      "metadata": {
        "colab": {
          "base_uri": "https://localhost:8080/",
          "height": 448
        },
        "id": "9jgK3cL6KdYU",
        "outputId": "e91a8c14-23c6-48e7-eec3-8f1c69e11f38"
      },
      "execution_count": null,
      "outputs": [
        {
          "output_type": "execute_result",
          "data": {
            "text/plain": [
              "<Axes: >"
            ]
          },
          "metadata": {},
          "execution_count": 11
        },
        {
          "output_type": "display_data",
          "data": {
            "text/plain": [
              "<Figure size 640x480 with 1 Axes>"
            ],
            "image/png": "[encoded data removed]"
          },
          "metadata": {}
        }
      ]
    },
    {
      "cell_type": "code",
      "source": [
        "def cap_outliers_iqr(df, column_name):\n",
        "\n",
        "    if column_name not in df.columns:\n",
        "        raise ValueError(f\"Column '{column_name}' not found in the DataFrame.\")\n",
        "    if not pd.api.types.is_numeric_dtype(df[column_name]):\n",
        "        raise TypeError(f\"Column '{column_name}' is not numeric. IQR method requires numeric data.\")\n",
        "\n",
        "    # Calculate Q1 (25th percentile) and Q3 (75th percentile)\n",
        "    Q1 = df[column_name].quantile(0.25)\n",
        "    Q3 = df[column_name].quantile(0.75)\n",
        "\n",
        "    # Calculate IQR (Interquartile Range)\n",
        "    IQR = Q3 - Q1\n",
        "\n",
        "    # Calculate Upper and Lower Bounds\n",
        "    lower_bound = Q1 - 1.5 * IQR\n",
        "    upper_bound = Q3 + 1.5 * IQR\n",
        "\n",
        "    print(f\"--- Outlier Capping for '{column_name}' ---\")\n",
        "    print(f\"Q1: {Q1:.2f}\")\n",
        "    print(f\"Q3: {Q3:.2f}\")\n",
        "    print(f\"IQR: {IQR:.2f}\")\n",
        "    print(f\"Lower Bound (Q1 - 1.5*IQR): {lower_bound:.2f}\")\n",
        "    print(f\"Upper Bound (Q3 + 1.5*IQR): {upper_bound:.2f}\")\n",
        "\n",
        "    # Identify and replace outliers\n",
        "    # Replace values below the lower_bound with the lower_bound\n",
        "    df.loc[df[column_name] < lower_bound, column_name] = lower_bound\n",
        "    # Replace values above the upper_bound with the upper_bound\n",
        "    df.loc[df[column_name] > upper_bound, column_name] = upper_bound\n",
        "\n",
        "    return df"
      ],
      "metadata": {
        "id": "0sMibY9DU4El"
      },
      "execution_count": null,
      "outputs": []
    },
    {
      "cell_type": "code",
      "source": [
        "cap_outliers_iqr(df, \"Gait_Speed\")"
      ],
      "metadata": {
        "colab": {
          "base_uri": "https://localhost:8080/",
          "height": 744
        },
        "id": "vWphhYqKV1Du",
        "outputId": "ab48247d-fe91-4242-98d7-800c73f21a4f"
      },
      "execution_count": null,
      "outputs": [
        {
          "output_type": "stream",
          "name": "stdout",
          "text": [
            "--- Outlier Capping for 'Gait_Speed' ---\n",
            "Q1: 0.79\n",
            "Q3: 1.18\n",
            "IQR: 0.39\n",
            "Lower Bound (Q1 - 1.5*IQR): 0.21\n",
            "Upper Bound (Q3 + 1.5*IQR): 1.76\n"
          ]
        },
        {
          "output_type": "execute_result",
          "data": {
            "text/plain": [
              "      Unnamed: 0.1  Unnamed: 0        Name Gender   Age   Age_Group  Weight  \\\n",
              "0                0           0  beyzanur 0      M  74.0   AGE 60-80    88.0   \n",
              "1                1           1  beyzanur 1      M  62.0   AGE 60-80   105.0   \n",
              "2                2           2  beyzanur 2      M  65.0   AGE 60-80    89.0   \n",
              "3                3           3  beyzanur 3      F  71.0   AGE 60-80    68.0   \n",
              "4                4           4  beyzanur 4      F  61.0   AGE 60-80    80.0   \n",
              "...            ...         ...         ...    ...   ...         ...     ...   \n",
              "5011          5011        5011    ÖZDEN 77      F  70.0   AGE 60-80    73.0   \n",
              "5012          5012        5012    ÖZDEN 78      F  72.0   AGE 60-80    78.0   \n",
              "5013          5013        5013    ÖZDEN 79      M  79.0   AGE 60-80    95.0   \n",
              "5014          5014        5014    ÖZDEN 80      M  85.0  AGE 80-100    96.0   \n",
              "5015          5015        5015    ÖZDEN 81      F  83.0  AGE 80-100    78.0   \n",
              "\n",
              "      DM_Type2  DM_Type2_Duration  Insulin  ...    CST  Gait_Speed  Grip_Str  \\\n",
              "0            1               0.01        0  ...  12.50       1.210      32.0   \n",
              "1            0               0.00        0  ...  12.10       1.420      47.0   \n",
              "2            0               0.00        0  ...   8.70       1.180      33.0   \n",
              "3            0               0.00        0  ...   8.30       1.230      25.0   \n",
              "4            0               0.00        0  ...  11.00       1.310      31.0   \n",
              "...        ...                ...      ...  ...    ...         ...       ...   \n",
              "5011         1               3.11        0  ...  14.67       0.810      19.5   \n",
              "5012         0               0.00        0  ...   9.14       1.230      18.7   \n",
              "5013         0               0.00        0  ...  11.86       1.160      29.5   \n",
              "5014         0               0.00        0  ...  17.12       0.900      17.9   \n",
              "5015         0               0.00        0  ...  18.75       0.205      14.9   \n",
              "\n",
              "      STAR    BMI  MMSE  Sarcopenia  Number_of_HT   Chronic_Diseases  \\\n",
              "0     1.81  27.80    29           0             1      DM_Type2, KAH   \n",
              "1     1.38  35.50    30           1             0                NaN   \n",
              "2     1.20  31.20    28           0             0                NaN   \n",
              "3     1.11  26.60    29           0             3             Asthma   \n",
              "4     1.26  31.30    27           0             2             Asthma   \n",
              "...    ...    ...   ...         ...           ...                ...   \n",
              "5011  0.79  35.70    30           1             2           DM_Type2   \n",
              "5012  1.24  30.47    29           0             2       Dyslipidemia   \n",
              "5013  1.47  29.32    30           0             3  Dyslipidemia, KAH   \n",
              "5014  1.05  37.04    30           1             2       Dyslipidemia   \n",
              "5015  0.89  29.36    26           1             2                NaN   \n",
              "\n",
              "     Total_Number_of_Chronic_Diseases  \n",
              "0                                   2  \n",
              "1                                   0  \n",
              "2                                   0  \n",
              "3                                   1  \n",
              "4                                   1  \n",
              "...                               ...  \n",
              "5011                                1  \n",
              "5012                                1  \n",
              "5013                                2  \n",
              "5014                                1  \n",
              "5015                                0  \n",
              "\n",
              "[5016 rows x 38 columns]"
            ],
            "text/html": [
              "\n",
              "  <div id=\"df-9e21118f-18ee-47bd-b7d1-4a0507cc1326\" class=\"colab-df-container\">\n",
              "    <div>\n",
              "<style scoped>\n",
              "    .dataframe tbody tr th:only-of-type {\n",
              "        vertical-align: middle;\n",
              "    }\n",
              "\n",
              "    .dataframe tbody tr th {\n",
              "        vertical-align: top;\n",
              "    }\n",
              "\n",
              "    .dataframe thead th {\n",
              "        text-align: right;\n",
              "    }\n",
              "</style>\n",
              "<table border=\"1\" class=\"dataframe\">\n",
              "  <thead>\n",
              "    <tr style=\"text-align: right;\">\n",
              "      <th></th>\n",
              "      <th>Unnamed: 0.1</th>\n",
              "      <th>Unnamed: 0</th>\n",
              "      <th>Name</th>\n",
              "      <th>Gender</th>\n",
              "      <th>Age</th>\n",
              "      <th>Age_Group</th>\n",
              "      <th>Weight</th>\n",
              "      <th>DM_Type2</th>\n",
              "      <th>DM_Type2_Duration</th>\n",
              "      <th>Insulin</th>\n",
              "      <th>...</th>\n",
              "      <th>CST</th>\n",
              "      <th>Gait_Speed</th>\n",
              "      <th>Grip_Str</th>\n",
              "      <th>STAR</th>\n",
              "      <th>BMI</th>\n",
              "      <th>MMSE</th>\n",
              "      <th>Sarcopenia</th>\n",
              "      <th>Number_of_HT</th>\n",
              "      <th>Chronic_Diseases</th>\n",
              "      <th>Total_Number_of_Chronic_Diseases</th>\n",
              "    </tr>\n",
              "  </thead>\n",
              "  <tbody>\n",
              "    <tr>\n",
              "      <th>0</th>\n",
              "      <td>0</td>\n",
              "      <td>0</td>\n",
              "      <td>beyzanur 0</td>\n",
              "      <td>M</td>\n",
              "      <td>74.0</td>\n",
              "      <td>AGE 60-80</td>\n",
              "      <td>88.0</td>\n",
              "      <td>1</td>\n",
              "      <td>0.01</td>\n",
              "      <td>0</td>\n",
              "      <td>...</td>\n",
              "      <td>12.50</td>\n",
              "      <td>1.210</td>\n",
              "      <td>32.0</td>\n",
              "      <td>1.81</td>\n",
              "      <td>27.80</td>\n",
              "      <td>29</td>\n",
              "      <td>0</td>\n",
              "      <td>1</td>\n",
              "      <td>DM_Type2, KAH</td>\n",
              "      <td>2</td>\n",
              "    </tr>\n",
              "    <tr>\n",
              "      <th>1</th>\n",
              "      <td>1</td>\n",
              "      <td>1</td>\n",
              "      <td>beyzanur 1</td>\n",
              "      <td>M</td>\n",
              "      <td>62.0</td>\n",
              "      <td>AGE 60-80</td>\n",
              "      <td>105.0</td>\n",
              "      <td>0</td>\n",
              "      <td>0.00</td>\n",
              "      <td>0</td>\n",
              "      <td>...</td>\n",
              "      <td>12.10</td>\n",
              "      <td>1.420</td>\n",
              "      <td>47.0</td>\n",
              "      <td>1.38</td>\n",
              "      <td>35.50</td>\n",
              "      <td>30</td>\n",
              "      <td>1</td>\n",
              "      <td>0</td>\n",
              "      <td>NaN</td>\n",
              "      <td>0</td>\n",
              "    </tr>\n",
              "    <tr>\n",
              "      <th>2</th>\n",
              "      <td>2</td>\n",
              "      <td>2</td>\n",
              "      <td>beyzanur 2</td>\n",
              "      <td>M</td>\n",
              "      <td>65.0</td>\n",
              "      <td>AGE 60-80</td>\n",
              "      <td>89.0</td>\n",
              "      <td>0</td>\n",
              "      <td>0.00</td>\n",
              "      <td>0</td>\n",
              "      <td>...</td>\n",
              "      <td>8.70</td>\n",
              "      <td>1.180</td>\n",
              "      <td>33.0</td>\n",
              "      <td>1.20</td>\n",
              "      <td>31.20</td>\n",
              "      <td>28</td>\n",
              "      <td>0</td>\n",
              "      <td>0</td>\n",
              "      <td>NaN</td>\n",
              "      <td>0</td>\n",
              "    </tr>\n",
              "    <tr>\n",
              "      <th>3</th>\n",
              "      <td>3</td>\n",
              "      <td>3</td>\n",
              "      <td>beyzanur 3</td>\n",
              "      <td>F</td>\n",
              "      <td>71.0</td>\n",
              "      <td>AGE 60-80</td>\n",
              "      <td>68.0</td>\n",
              "      <td>0</td>\n",
              "      <td>0.00</td>\n",
              "      <td>0</td>\n",
              "      <td>...</td>\n",
              "      <td>8.30</td>\n",
              "      <td>1.230</td>\n",
              "      <td>25.0</td>\n",
              "      <td>1.11</td>\n",
              "      <td>26.60</td>\n",
              "      <td>29</td>\n",
              "      <td>0</td>\n",
              "      <td>3</td>\n",
              "      <td>Asthma</td>\n",
              "      <td>1</td>\n",
              "    </tr>\n",
              "    <tr>\n",
              "      <th>4</th>\n",
              "      <td>4</td>\n",
              "      <td>4</td>\n",
              "      <td>beyzanur 4</td>\n",
              "      <td>F</td>\n",
              "      <td>61.0</td>\n",
              "      <td>AGE 60-80</td>\n",
              "      <td>80.0</td>\n",
              "      <td>0</td>\n",
              "      <td>0.00</td>\n",
              "      <td>0</td>\n",
              "      <td>...</td>\n",
              "      <td>11.00</td>\n",
              "      <td>1.310</td>\n",
              "      <td>31.0</td>\n",
              "      <td>1.26</td>\n",
              "      <td>31.30</td>\n",
              "      <td>27</td>\n",
              "      <td>0</td>\n",
              "      <td>2</td>\n",
              "      <td>Asthma</td>\n",
              "      <td>1</td>\n",
              "    </tr>\n",
              "    <tr>\n",
              "      <th>...</th>\n",
              "      <td>...</td>\n",
              "      <td>...</td>\n",
              "      <td>...</td>\n",
              "      <td>...</td>\n",
              "      <td>...</td>\n",
              "      <td>...</td>\n",
              "      <td>...</td>\n",
              "      <td>...</td>\n",
              "      <td>...</td>\n",
              "      <td>...</td>\n",
              "      <td>...</td>\n",
              "      <td>...</td>\n",
              "      <td>...</td>\n",
              "      <td>...</td>\n",
              "      <td>...</td>\n",
              "      <td>...</td>\n",
              "      <td>...</td>\n",
              "      <td>...</td>\n",
              "      <td>...</td>\n",
              "      <td>...</td>\n",
              "      <td>...</td>\n",
              "    </tr>\n",
              "    <tr>\n",
              "      <th>5011</th>\n",
              "      <td>5011</td>\n",
              "      <td>5011</td>\n",
              "      <td>ÖZDEN 77</td>\n",
              "      <td>F</td>\n",
              "      <td>70.0</td>\n",
              "      <td>AGE 60-80</td>\n",
              "      <td>73.0</td>\n",
              "      <td>1</td>\n",
              "      <td>3.11</td>\n",
              "      <td>0</td>\n",
              "      <td>...</td>\n",
              "      <td>14.67</td>\n",
              "      <td>0.810</td>\n",
              "      <td>19.5</td>\n",
              "      <td>0.79</td>\n",
              "      <td>35.70</td>\n",
              "      <td>30</td>\n",
              "      <td>1</td>\n",
              "      <td>2</td>\n",
              "      <td>DM_Type2</td>\n",
              "      <td>1</td>\n",
              "    </tr>\n",
              "    <tr>\n",
              "      <th>5012</th>\n",
              "      <td>5012</td>\n",
              "      <td>5012</td>\n",
              "      <td>ÖZDEN 78</td>\n",
              "      <td>F</td>\n",
              "      <td>72.0</td>\n",
              "      <td>AGE 60-80</td>\n",
              "      <td>78.0</td>\n",
              "      <td>0</td>\n",
              "      <td>0.00</td>\n",
              "      <td>0</td>\n",
              "      <td>...</td>\n",
              "      <td>9.14</td>\n",
              "      <td>1.230</td>\n",
              "      <td>18.7</td>\n",
              "      <td>1.24</td>\n",
              "      <td>30.47</td>\n",
              "      <td>29</td>\n",
              "      <td>0</td>\n",
              "      <td>2</td>\n",
              "      <td>Dyslipidemia</td>\n",
              "      <td>1</td>\n",
              "    </tr>\n",
              "    <tr>\n",
              "      <th>5013</th>\n",
              "      <td>5013</td>\n",
              "      <td>5013</td>\n",
              "      <td>ÖZDEN 79</td>\n",
              "      <td>M</td>\n",
              "      <td>79.0</td>\n",
              "      <td>AGE 60-80</td>\n",
              "      <td>95.0</td>\n",
              "      <td>0</td>\n",
              "      <td>0.00</td>\n",
              "      <td>0</td>\n",
              "      <td>...</td>\n",
              "      <td>11.86</td>\n",
              "      <td>1.160</td>\n",
              "      <td>29.5</td>\n",
              "      <td>1.47</td>\n",
              "      <td>29.32</td>\n",
              "      <td>30</td>\n",
              "      <td>0</td>\n",
              "      <td>3</td>\n",
              "      <td>Dyslipidemia, KAH</td>\n",
              "      <td>2</td>\n",
              "    </tr>\n",
              "    <tr>\n",
              "      <th>5014</th>\n",
              "      <td>5014</td>\n",
              "      <td>5014</td>\n",
              "      <td>ÖZDEN 80</td>\n",
              "      <td>M</td>\n",
              "      <td>85.0</td>\n",
              "      <td>AGE 80-100</td>\n",
              "      <td>96.0</td>\n",
              "      <td>0</td>\n",
              "      <td>0.00</td>\n",
              "      <td>0</td>\n",
              "      <td>...</td>\n",
              "      <td>17.12</td>\n",
              "      <td>0.900</td>\n",
              "      <td>17.9</td>\n",
              "      <td>1.05</td>\n",
              "      <td>37.04</td>\n",
              "      <td>30</td>\n",
              "      <td>1</td>\n",
              "      <td>2</td>\n",
              "      <td>Dyslipidemia</td>\n",
              "      <td>1</td>\n",
              "    </tr>\n",
              "    <tr>\n",
              "      <th>5015</th>\n",
              "      <td>5015</td>\n",
              "      <td>5015</td>\n",
              "      <td>ÖZDEN 81</td>\n",
              "      <td>F</td>\n",
              "      <td>83.0</td>\n",
              "      <td>AGE 80-100</td>\n",
              "      <td>78.0</td>\n",
              "      <td>0</td>\n",
              "      <td>0.00</td>\n",
              "      <td>0</td>\n",
              "      <td>...</td>\n",
              "      <td>18.75</td>\n",
              "      <td>0.205</td>\n",
              "      <td>14.9</td>\n",
              "      <td>0.89</td>\n",
              "      <td>29.36</td>\n",
              "      <td>26</td>\n",
              "      <td>1</td>\n",
              "      <td>2</td>\n",
              "      <td>NaN</td>\n",
              "      <td>0</td>\n",
              "    </tr>\n",
              "  </tbody>\n",
              "</table>\n",
              "<p>5016 rows × 38 columns</p>\n",
              "</div>\n",
              "    <div class=\"colab-df-buttons\">\n",
              "\n",
              "  <div class=\"colab-df-container\">\n",
              "    <button class=\"colab-df-convert\" onclick=\"convertToInteractive('df-9e21118f-18ee-47bd-b7d1-4a0507cc1326')\"\n",
              "            title=\"Convert this dataframe to an interactive table.\"\n",
              "            style=\"display:none;\">\n",
              "\n",
              "  <svg xmlns=\"http://www.w3.org/2000/svg\" height=\"24px\" viewBox=\"0 -960 960 960\">\n",
              "    <path d=\"M120-120v-720h720v720H120Zm60-500h600v-160H180v160Zm220 220h160v-160H400v160Zm0 220h160v-160H400v160ZM180-400h160v-160H180v160Zm440 0h160v-160H620v160ZM180-180h160v-160H180v160Zm440 0h160v-160H620v160Z\"/>\n",
              "  </svg>\n",
              "    </button>\n",
              "\n",
              "  <style>\n",
              "    .colab-df-container {\n",
              "      display:flex;\n",
              "      gap: 12px;\n",
              "    }\n",
              "\n",
              "    .colab-df-convert {\n",
              "      background-color: #E8F0FE;\n",
              "      border: none;\n",
              "      border-radius: 50%;\n",
              "      cursor: pointer;\n",
              "      display: none;\n",
              "      fill: #1967D2;\n",
              "      height: 32px;\n",
              "      padding: 0 0 0 0;\n",
              "      width: 32px;\n",
              "    }\n",
              "\n",
              "    .colab-df-convert:hover {\n",
              "      background-color: #E2EBFA;\n",
              "      box-shadow: 0px 1px 2px rgba(60, 64, 67, 0.3), 0px 1px 3px 1px rgba(60, 64, 67, 0.15);\n",
              "      fill: #174EA6;\n",
              "    }\n",
              "\n",
              "    .colab-df-buttons div {\n",
              "      margin-bottom: 4px;\n",
              "    }\n",
              "\n",
              "    [theme=dark] .colab-df-convert {\n",
              "      background-color: #3B4455;\n",
              "      fill: #D2E3FC;\n",
              "    }\n",
              "\n",
              "    [theme=dark] .colab-df-convert:hover {\n",
              "      background-color: #434B5C;\n",
              "      box-shadow: 0px 1px 3px 1px rgba(0, 0, 0, 0.15);\n",
              "      filter: drop-shadow(0px 1px 2px rgba(0, 0, 0, 0.3));\n",
              "      fill: #FFFFFF;\n",
              "    }\n",
              "  </style>\n",
              "\n",
              "    <script>\n",
              "      const buttonEl =\n",
              "        document.querySelector('#df-9e21118f-18ee-47bd-b7d1-4a0507cc1326 button.colab-df-convert');\n",
              "      buttonEl.style.display =\n",
              "        google.colab.kernel.accessAllowed ? 'block' : 'none';\n",
              "\n",
              "      async function convertToInteractive(key) {\n",
              "        const element = document.querySelector('#df-9e21118f-18ee-47bd-b7d1-4a0507cc1326');\n",
              "        const dataTable =\n",
              "          await google.colab.kernel.invokeFunction('convertToInteractive',\n",
              "                                                    [key], {});\n",
              "        if (!dataTable) return;\n",
              "\n",
              "        const docLinkHtml = 'Like what you see? Visit the ' +\n",
              "          '<a target=\"_blank\" href=https://colab.research.google.com/notebooks/data_table.ipynb>data table notebook</a>'\n",
              "          + ' to learn more about interactive tables.';\n",
              "        element.innerHTML = '';\n",
              "        dataTable['output_type'] = 'display_data';\n",
              "        await google.colab.output.renderOutput(dataTable, element);\n",
              "        const docLink = document.createElement('div');\n",
              "        docLink.innerHTML = docLinkHtml;\n",
              "        element.appendChild(docLink);\n",
              "      }\n",
              "    </script>\n",
              "  </div>\n",
              "\n",
              "\n",
              "    <div id=\"df-cd102638-53f9-4ca1-b562-e966b31239c2\">\n",
              "      <button class=\"colab-df-quickchart\" onclick=\"quickchart('df-cd102638-53f9-4ca1-b562-e966b31239c2')\"\n",
              "                title=\"Suggest charts\"\n",
              "                style=\"display:none;\">\n",
              "\n",
              "<svg xmlns=\"http://www.w3.org/2000/svg\" height=\"24px\"viewBox=\"0 0 24 24\"\n",
              "     width=\"24px\">\n",
              "    <g>\n",
              "        <path d=\"M19 3H5c-1.1 0-2 .9-2 2v14c0 1.1.9 2 2 2h14c1.1 0 2-.9 2-2V5c0-1.1-.9-2-2-2zM9 17H7v-7h2v7zm4 0h-2V7h2v10zm4 0h-2v-4h2v4z\"/>\n",
              "    </g>\n",
              "</svg>\n",
              "      </button>\n",
              "\n",
              "<style>\n",
              "  .colab-df-quickchart {\n",
              "      --bg-color: #E8F0FE;\n",
              "      --fill-color: #1967D2;\n",
              "      --hover-bg-color: #E2EBFA;\n",
              "      --hover-fill-color: #174EA6;\n",
              "      --disabled-fill-color: #AAA;\n",
              "      --disabled-bg-color: #DDD;\n",
              "  }\n",
              "\n",
              "  [theme=dark] .colab-df-quickchart {\n",
              "      --bg-color: #3B4455;\n",
              "      --fill-color: #D2E3FC;\n",
              "      --hover-bg-color: #434B5C;\n",
              "      --hover-fill-color: #FFFFFF;\n",
              "      --disabled-bg-color: #3B4455;\n",
              "      --disabled-fill-color: #666;\n",
              "  }\n",
              "\n",
              "  .colab-df-quickchart {\n",
              "    background-color: var(--bg-color);\n",
              "    border: none;\n",
              "    border-radius: 50%;\n",
              "    cursor: pointer;\n",
              "    display: none;\n",
              "    fill: var(--fill-color);\n",
              "    height: 32px;\n",
              "    padding: 0;\n",
              "    width: 32px;\n",
              "  }\n",
              "\n",
              "  .colab-df-quickchart:hover {\n",
              "    background-color: var(--hover-bg-color);\n",
              "    box-shadow: 0 1px 2px rgba(60, 64, 67, 0.3), 0 1px 3px 1px rgba(60, 64, 67, 0.15);\n",
              "    fill: var(--button-hover-fill-color);\n",
              "  }\n",
              "\n",
              "  .colab-df-quickchart-complete:disabled,\n",
              "  .colab-df-quickchart-complete:disabled:hover {\n",
              "    background-color: var(--disabled-bg-color);\n",
              "    fill: var(--disabled-fill-color);\n",
              "    box-shadow: none;\n",
              "  }\n",
              "\n",
              "  .colab-df-spinner {\n",
              "    border: 2px solid var(--fill-color);\n",
              "    border-color: transparent;\n",
              "    border-bottom-color: var(--fill-color);\n",
              "    animation:\n",
              "      spin 1s steps(1) infinite;\n",
              "  }\n",
              "\n",
              "  @keyframes spin {\n",
              "    0% {\n",
              "      border-color: transparent;\n",
              "      border-bottom-color: var(--fill-color);\n",
              "      border-left-color: var(--fill-color);\n",
              "    }\n",
              "    20% {\n",
              "      border-color: transparent;\n",
              "      border-left-color: var(--fill-color);\n",
              "      border-top-color: var(--fill-color);\n",
              "    }\n",
              "    30% {\n",
              "      border-color: transparent;\n",
              "      border-left-color: var(--fill-color);\n",
              "      border-top-color: var(--fill-color);\n",
              "      border-right-color: var(--fill-color);\n",
              "    }\n",
              "    40% {\n",
              "      border-color: transparent;\n",
              "      border-right-color: var(--fill-color);\n",
              "      border-top-color: var(--fill-color);\n",
              "    }\n",
              "    60% {\n",
              "      border-color: transparent;\n",
              "      border-right-color: var(--fill-color);\n",
              "    }\n",
              "    80% {\n",
              "      border-color: transparent;\n",
              "      border-right-color: var(--fill-color);\n",
              "      border-bottom-color: var(--fill-color);\n",
              "    }\n",
              "    90% {\n",
              "      border-color: transparent;\n",
              "      border-bottom-color: var(--fill-color);\n",
              "    }\n",
              "  }\n",
              "</style>\n",
              "\n",
              "      <script>\n",
              "        async function quickchart(key) {\n",
              "          const quickchartButtonEl =\n",
              "            document.querySelector('#' + key + ' button');\n",
              "          quickchartButtonEl.disabled = true;  // To prevent multiple clicks.\n",
              "          quickchartButtonEl.classList.add('colab-df-spinner');\n",
              "          try {\n",
              "            const charts = await google.colab.kernel.invokeFunction(\n",
              "                'suggestCharts', [key], {});\n",
              "          } catch (error) {\n",
              "            console.error('Error during call to suggestCharts:', error);\n",
              "          }\n",
              "          quickchartButtonEl.classList.remove('colab-df-spinner');\n",
              "          quickchartButtonEl.classList.add('colab-df-quickchart-complete');\n",
              "        }\n",
              "        (() => {\n",
              "          let quickchartButtonEl =\n",
              "            document.querySelector('#df-cd102638-53f9-4ca1-b562-e966b31239c2 button');\n",
              "          quickchartButtonEl.style.display =\n",
              "            google.colab.kernel.accessAllowed ? 'block' : 'none';\n",
              "        })();\n",
              "      </script>\n",
              "    </div>\n",
              "\n",
              "  <div id=\"id_00faff05-46e3-4c3e-8ebf-70c321774c26\">\n",
              "    <style>\n",
              "      .colab-df-generate {\n",
              "        background-color: #E8F0FE;\n",
              "        border: none;\n",
              "        border-radius: 50%;\n",
              "        cursor: pointer;\n",
              "        display: none;\n",
              "        fill: #1967D2;\n",
              "        height: 32px;\n",
              "        padding: 0 0 0 0;\n",
              "        width: 32px;\n",
              "      }\n",
              "\n",
              "      .colab-df-generate:hover {\n",
              "        background-color: #E2EBFA;\n",
              "        box-shadow: 0px 1px 2px rgba(60, 64, 67, 0.3), 0px 1px 3px 1px rgba(60, 64, 67, 0.15);\n",
              "        fill: #174EA6;\n",
              "      }\n",
              "\n",
              "      [theme=dark] .colab-df-generate {\n",
              "        background-color: #3B4455;\n",
              "        fill: #D2E3FC;\n",
              "      }\n",
              "\n",
              "      [theme=dark] .colab-df-generate:hover {\n",
              "        background-color: #434B5C;\n",
              "        box-shadow: 0px 1px 3px 1px rgba(0, 0, 0, 0.15);\n",
              "        filter: drop-shadow(0px 1px 2px rgba(0, 0, 0, 0.3));\n",
              "        fill: #FFFFFF;\n",
              "      }\n",
              "    </style>\n",
              "    <button class=\"colab-df-generate\" onclick=\"generateWithVariable('df')\"\n",
              "            title=\"Generate code using this dataframe.\"\n",
              "            style=\"display:none;\">\n",
              "\n",
              "  <svg xmlns=\"http://www.w3.org/2000/svg\" height=\"24px\"viewBox=\"0 0 24 24\"\n",
              "       width=\"24px\">\n",
              "    <path d=\"M7,19H8.4L18.45,9,17,7.55,7,17.6ZM5,21V16.75L18.45,3.32a2,2,0,0,1,2.83,0l1.4,1.43a1.91,1.91,0,0,1,.58,1.4,1.91,1.91,0,0,1-.58,1.4L9.25,21ZM18.45,9,17,7.55Zm-12,3A5.31,5.31,0,0,0,4.9,8.1,5.31,5.31,0,0,0,1,6.5,5.31,5.31,0,0,0,4.9,4.9,5.31,5.31,0,0,0,6.5,1,5.31,5.31,0,0,0,8.1,4.9,5.31,5.31,0,0,0,12,6.5,5.46,5.46,0,0,0,6.5,12Z\"/>\n",
              "  </svg>\n",
              "    </button>\n",
              "    <script>\n",
              "      (() => {\n",
              "      const buttonEl =\n",
              "        document.querySelector('#id_00faff05-46e3-4c3e-8ebf-70c321774c26 button.colab-df-generate');\n",
              "      buttonEl.style.display =\n",
              "        google.colab.kernel.accessAllowed ? 'block' : 'none';\n",
              "\n",
              "      buttonEl.onclick = () => {\n",
              "        google.colab.notebook.generateWithVariable('df');\n",
              "      }\n",
              "      })();\n",
              "    </script>\n",
              "  </div>\n",
              "\n",
              "    </div>\n",
              "  </div>\n"
            ],
            "application/vnd.google.colaboratory.intrinsic+json": {
              "type": "dataframe",
              "variable_name": "df"
            }
          },
          "metadata": {},
          "execution_count": 19
        }
      ]
    },
    {
      "cell_type": "code",
      "source": [
        "df.boxplot(column='Gait_Speed')"
      ],
      "metadata": {
        "colab": {
          "base_uri": "https://localhost:8080/",
          "height": 448
        },
        "id": "aLrEZza0RYaY",
        "outputId": "a42cb3e8-1319-4782-f89c-75d763720166"
      },
      "execution_count": null,
      "outputs": [
        {
          "output_type": "execute_result",
          "data": {
            "text/plain": [
              "<Axes: >"
            ]
          },
          "metadata": {},
          "execution_count": 20
        },
        {
          "output_type": "display_data",
          "data": {
            "text/plain": [
              "<Figure size 640x480 with 1 Axes>"
            ],
            "image/png": "[encoded data removed]"
          },
          "metadata": {}
        }
      ]
    },
    {
      "cell_type": "code",
      "source": [
        "df.boxplot(column='STAR')"
      ],
      "metadata": {
        "colab": {
          "base_uri": "https://localhost:8080/",
          "height": 448
        },
        "id": "-IfXVauJSGa3",
        "outputId": "06491648-eb47-4170-aeb3-f267ff434faa"
      },
      "execution_count": null,
      "outputs": [
        {
          "output_type": "execute_result",
          "data": {
            "text/plain": [
              "<Axes: >"
            ]
          },
          "metadata": {},
          "execution_count": 15
        },
        {
          "output_type": "display_data",
          "data": {
            "text/plain": [
              "<Figure size 640x480 with 1 Axes>"
            ],
            "image/png": "[encoded data removed]"
          },
          "metadata": {}
        }
      ]
    },
    {
      "cell_type": "code",
      "source": [
        "cap_outliers_iqr(df, \"STAR\")"
      ],
      "metadata": {
        "colab": {
          "base_uri": "https://localhost:8080/",
          "height": 744
        },
        "id": "ok3KImQ0WRx8",
        "outputId": "0d920f4b-dbe3-4521-f0cc-b6d0aadb5aa2"
      },
      "execution_count": null,
      "outputs": [
        {
          "output_type": "stream",
          "name": "stdout",
          "text": [
            "--- Outlier Capping for 'STAR' ---\n",
            "Q1: 1.01\n",
            "Q3: 1.43\n",
            "IQR: 0.42\n",
            "Lower Bound (Q1 - 1.5*IQR): 0.38\n",
            "Upper Bound (Q3 + 1.5*IQR): 2.06\n"
          ]
        },
        {
          "output_type": "execute_result",
          "data": {
            "text/plain": [
              "      Unnamed: 0.1  Unnamed: 0        Name Gender   Age   Age_Group  Weight  \\\n",
              "0                0           0  beyzanur 0      M  74.0   AGE 60-80    88.0   \n",
              "1                1           1  beyzanur 1      M  62.0   AGE 60-80   105.0   \n",
              "2                2           2  beyzanur 2      M  65.0   AGE 60-80    89.0   \n",
              "3                3           3  beyzanur 3      F  71.0   AGE 60-80    68.0   \n",
              "4                4           4  beyzanur 4      F  61.0   AGE 60-80    80.0   \n",
              "...            ...         ...         ...    ...   ...         ...     ...   \n",
              "5011          5011        5011    ÖZDEN 77      F  70.0   AGE 60-80    73.0   \n",
              "5012          5012        5012    ÖZDEN 78      F  72.0   AGE 60-80    78.0   \n",
              "5013          5013        5013    ÖZDEN 79      M  79.0   AGE 60-80    95.0   \n",
              "5014          5014        5014    ÖZDEN 80      M  85.0  AGE 80-100    96.0   \n",
              "5015          5015        5015    ÖZDEN 81      F  83.0  AGE 80-100    78.0   \n",
              "\n",
              "      DM_Type2  DM_Type2_Duration  Insulin  ...    CST  Gait_Speed  Grip_Str  \\\n",
              "0            1               0.01        0  ...  12.50       1.210      32.0   \n",
              "1            0               0.00        0  ...  12.10       1.420      47.0   \n",
              "2            0               0.00        0  ...   8.70       1.180      33.0   \n",
              "3            0               0.00        0  ...   8.30       1.230      25.0   \n",
              "4            0               0.00        0  ...  11.00       1.310      31.0   \n",
              "...        ...                ...      ...  ...    ...         ...       ...   \n",
              "5011         1               3.11        0  ...  14.67       0.810      19.5   \n",
              "5012         0               0.00        0  ...   9.14       1.230      18.7   \n",
              "5013         0               0.00        0  ...  11.86       1.160      29.5   \n",
              "5014         0               0.00        0  ...  17.12       0.900      17.9   \n",
              "5015         0               0.00        0  ...  18.75       0.205      14.9   \n",
              "\n",
              "      STAR    BMI  MMSE  Sarcopenia  Number_of_HT   Chronic_Diseases  \\\n",
              "0     1.81  27.80    29           0             1      DM_Type2, KAH   \n",
              "1     1.38  35.50    30           1             0                NaN   \n",
              "2     1.20  31.20    28           0             0                NaN   \n",
              "3     1.11  26.60    29           0             3             Asthma   \n",
              "4     1.26  31.30    27           0             2             Asthma   \n",
              "...    ...    ...   ...         ...           ...                ...   \n",
              "5011  0.79  35.70    30           1             2           DM_Type2   \n",
              "5012  1.24  30.47    29           0             2       Dyslipidemia   \n",
              "5013  1.47  29.32    30           0             3  Dyslipidemia, KAH   \n",
              "5014  1.05  37.04    30           1             2       Dyslipidemia   \n",
              "5015  0.89  29.36    26           1             2                NaN   \n",
              "\n",
              "     Total_Number_of_Chronic_Diseases  \n",
              "0                                   2  \n",
              "1                                   0  \n",
              "2                                   0  \n",
              "3                                   1  \n",
              "4                                   1  \n",
              "...                               ...  \n",
              "5011                                1  \n",
              "5012                                1  \n",
              "5013                                2  \n",
              "5014                                1  \n",
              "5015                                0  \n",
              "\n",
              "[5016 rows x 38 columns]"
            ],
            "text/html": [
              "\n",
              "  <div id=\"df-a569d76b-e715-4320-913b-b6436a9c62f9\" class=\"colab-df-container\">\n",
              "    <div>\n",
              "<style scoped>\n",
              "    .dataframe tbody tr th:only-of-type {\n",
              "        vertical-align: middle;\n",
              "    }\n",
              "\n",
              "    .dataframe tbody tr th {\n",
              "        vertical-align: top;\n",
              "    }\n",
              "\n",
              "    .dataframe thead th {\n",
              "        text-align: right;\n",
              "    }\n",
              "</style>\n",
              "<table border=\"1\" class=\"dataframe\">\n",
              "  <thead>\n",
              "    <tr style=\"text-align: right;\">\n",
              "      <th></th>\n",
              "      <th>Unnamed: 0.1</th>\n",
              "      <th>Unnamed: 0</th>\n",
              "      <th>Name</th>\n",
              "      <th>Gender</th>\n",
              "      <th>Age</th>\n",
              "      <th>Age_Group</th>\n",
              "      <th>Weight</th>\n",
              "      <th>DM_Type2</th>\n",
              "      <th>DM_Type2_Duration</th>\n",
              "      <th>Insulin</th>\n",
              "      <th>...</th>\n",
              "      <th>CST</th>\n",
              "      <th>Gait_Speed</th>\n",
              "      <th>Grip_Str</th>\n",
              "      <th>STAR</th>\n",
              "      <th>BMI</th>\n",
              "      <th>MMSE</th>\n",
              "      <th>Sarcopenia</th>\n",
              "      <th>Number_of_HT</th>\n",
              "      <th>Chronic_Diseases</th>\n",
              "      <th>Total_Number_of_Chronic_Diseases</th>\n",
              "    </tr>\n",
              "  </thead>\n",
              "  <tbody>\n",
              "    <tr>\n",
              "      <th>0</th>\n",
              "      <td>0</td>\n",
              "      <td>0</td>\n",
              "      <td>beyzanur 0</td>\n",
              "      <td>M</td>\n",
              "      <td>74.0</td>\n",
              "      <td>AGE 60-80</td>\n",
              "      <td>88.0</td>\n",
              "      <td>1</td>\n",
              "      <td>0.01</td>\n",
              "      <td>0</td>\n",
              "      <td>...</td>\n",
              "      <td>12.50</td>\n",
              "      <td>1.210</td>\n",
              "      <td>32.0</td>\n",
              "      <td>1.81</td>\n",
              "      <td>27.80</td>\n",
              "      <td>29</td>\n",
              "      <td>0</td>\n",
              "      <td>1</td>\n",
              "      <td>DM_Type2, KAH</td>\n",
              "      <td>2</td>\n",
              "    </tr>\n",
              "    <tr>\n",
              "      <th>1</th>\n",
              "      <td>1</td>\n",
              "      <td>1</td>\n",
              "      <td>beyzanur 1</td>\n",
              "      <td>M</td>\n",
              "      <td>62.0</td>\n",
              "      <td>AGE 60-80</td>\n",
              "      <td>105.0</td>\n",
              "      <td>0</td>\n",
              "      <td>0.00</td>\n",
              "      <td>0</td>\n",
              "      <td>...</td>\n",
              "      <td>12.10</td>\n",
              "      <td>1.420</td>\n",
              "      <td>47.0</td>\n",
              "      <td>1.38</td>\n",
              "      <td>35.50</td>\n",
              "      <td>30</td>\n",
              "      <td>1</td>\n",
              "      <td>0</td>\n",
              "      <td>NaN</td>\n",
              "      <td>0</td>\n",
              "    </tr>\n",
              "    <tr>\n",
              "      <th>2</th>\n",
              "      <td>2</td>\n",
              "      <td>2</td>\n",
              "      <td>beyzanur 2</td>\n",
              "      <td>M</td>\n",
              "      <td>65.0</td>\n",
              "      <td>AGE 60-80</td>\n",
              "      <td>89.0</td>\n",
              "      <td>0</td>\n",
              "      <td>0.00</td>\n",
              "      <td>0</td>\n",
              "      <td>...</td>\n",
              "      <td>8.70</td>\n",
              "      <td>1.180</td>\n",
              "      <td>33.0</td>\n",
              "      <td>1.20</td>\n",
              "      <td>31.20</td>\n",
              "      <td>28</td>\n",
              "      <td>0</td>\n",
              "      <td>0</td>\n",
              "      <td>NaN</td>\n",
              "      <td>0</td>\n",
              "    </tr>\n",
              "    <tr>\n",
              "      <th>3</th>\n",
              "      <td>3</td>\n",
              "      <td>3</td>\n",
              "      <td>beyzanur 3</td>\n",
              "      <td>F</td>\n",
              "      <td>71.0</td>\n",
              "      <td>AGE 60-80</td>\n",
              "      <td>68.0</td>\n",
              "      <td>0</td>\n",
              "      <td>0.00</td>\n",
              "      <td>0</td>\n",
              "      <td>...</td>\n",
              "      <td>8.30</td>\n",
              "      <td>1.230</td>\n",
              "      <td>25.0</td>\n",
              "      <td>1.11</td>\n",
              "      <td>26.60</td>\n",
              "      <td>29</td>\n",
              "      <td>0</td>\n",
              "      <td>3</td>\n",
              "      <td>Asthma</td>\n",
              "      <td>1</td>\n",
              "    </tr>\n",
              "    <tr>\n",
              "      <th>4</th>\n",
              "      <td>4</td>\n",
              "      <td>4</td>\n",
              "      <td>beyzanur 4</td>\n",
              "      <td>F</td>\n",
              "      <td>61.0</td>\n",
              "      <td>AGE 60-80</td>\n",
              "      <td>80.0</td>\n",
              "      <td>0</td>\n",
              "      <td>0.00</td>\n",
              "      <td>0</td>\n",
              "      <td>...</td>\n",
              "      <td>11.00</td>\n",
              "      <td>1.310</td>\n",
              "      <td>31.0</td>\n",
              "      <td>1.26</td>\n",
              "      <td>31.30</td>\n",
              "      <td>27</td>\n",
              "      <td>0</td>\n",
              "      <td>2</td>\n",
              "      <td>Asthma</td>\n",
              "      <td>1</td>\n",
              "    </tr>\n",
              "    <tr>\n",
              "      <th>...</th>\n",
              "      <td>...</td>\n",
              "      <td>...</td>\n",
              "      <td>...</td>\n",
              "      <td>...</td>\n",
              "      <td>...</td>\n",
              "      <td>...</td>\n",
              "      <td>...</td>\n",
              "      <td>...</td>\n",
              "      <td>...</td>\n",
              "      <td>...</td>\n",
              "      <td>...</td>\n",
              "      <td>...</td>\n",
              "      <td>...</td>\n",
              "      <td>...</td>\n",
              "      <td>...</td>\n",
              "      <td>...</td>\n",
              "      <td>...</td>\n",
              "      <td>...</td>\n",
              "      <td>...</td>\n",
              "      <td>...</td>\n",
              "      <td>...</td>\n",
              "    </tr>\n",
              "    <tr>\n",
              "      <th>5011</th>\n",
              "      <td>5011</td>\n",
              "      <td>5011</td>\n",
              "      <td>ÖZDEN 77</td>\n",
              "      <td>F</td>\n",
              "      <td>70.0</td>\n",
              "      <td>AGE 60-80</td>\n",
              "      <td>73.0</td>\n",
              "      <td>1</td>\n",
              "      <td>3.11</td>\n",
              "      <td>0</td>\n",
              "      <td>...</td>\n",
              "      <td>14.67</td>\n",
              "      <td>0.810</td>\n",
              "      <td>19.5</td>\n",
              "      <td>0.79</td>\n",
              "      <td>35.70</td>\n",
              "      <td>30</td>\n",
              "      <td>1</td>\n",
              "      <td>2</td>\n",
              "      <td>DM_Type2</td>\n",
              "      <td>1</td>\n",
              "    </tr>\n",
              "    <tr>\n",
              "      <th>5012</th>\n",
              "      <td>5012</td>\n",
              "      <td>5012</td>\n",
              "      <td>ÖZDEN 78</td>\n",
              "      <td>F</td>\n",
              "      <td>72.0</td>\n",
              "      <td>AGE 60-80</td>\n",
              "      <td>78.0</td>\n",
              "      <td>0</td>\n",
              "      <td>0.00</td>\n",
              "      <td>0</td>\n",
              "      <td>...</td>\n",
              "      <td>9.14</td>\n",
              "      <td>1.230</td>\n",
              "      <td>18.7</td>\n",
              "      <td>1.24</td>\n",
              "      <td>30.47</td>\n",
              "      <td>29</td>\n",
              "      <td>0</td>\n",
              "      <td>2</td>\n",
              "      <td>Dyslipidemia</td>\n",
              "      <td>1</td>\n",
              "    </tr>\n",
              "    <tr>\n",
              "      <th>5013</th>\n",
              "      <td>5013</td>\n",
              "      <td>5013</td>\n",
              "      <td>ÖZDEN 79</td>\n",
              "      <td>M</td>\n",
              "      <td>79.0</td>\n",
              "      <td>AGE 60-80</td>\n",
              "      <td>95.0</td>\n",
              "      <td>0</td>\n",
              "      <td>0.00</td>\n",
              "      <td>0</td>\n",
              "      <td>...</td>\n",
              "      <td>11.86</td>\n",
              "      <td>1.160</td>\n",
              "      <td>29.5</td>\n",
              "      <td>1.47</td>\n",
              "      <td>29.32</td>\n",
              "      <td>30</td>\n",
              "      <td>0</td>\n",
              "      <td>3</td>\n",
              "      <td>Dyslipidemia, KAH</td>\n",
              "      <td>2</td>\n",
              "    </tr>\n",
              "    <tr>\n",
              "      <th>5014</th>\n",
              "      <td>5014</td>\n",
              "      <td>5014</td>\n",
              "      <td>ÖZDEN 80</td>\n",
              "      <td>M</td>\n",
              "      <td>85.0</td>\n",
              "      <td>AGE 80-100</td>\n",
              "      <td>96.0</td>\n",
              "      <td>0</td>\n",
              "      <td>0.00</td>\n",
              "      <td>0</td>\n",
              "      <td>...</td>\n",
              "      <td>17.12</td>\n",
              "      <td>0.900</td>\n",
              "      <td>17.9</td>\n",
              "      <td>1.05</td>\n",
              "      <td>37.04</td>\n",
              "      <td>30</td>\n",
              "      <td>1</td>\n",
              "      <td>2</td>\n",
              "      <td>Dyslipidemia</td>\n",
              "      <td>1</td>\n",
              "    </tr>\n",
              "    <tr>\n",
              "      <th>5015</th>\n",
              "      <td>5015</td>\n",
              "      <td>5015</td>\n",
              "      <td>ÖZDEN 81</td>\n",
              "      <td>F</td>\n",
              "      <td>83.0</td>\n",
              "      <td>AGE 80-100</td>\n",
              "      <td>78.0</td>\n",
              "      <td>0</td>\n",
              "      <td>0.00</td>\n",
              "      <td>0</td>\n",
              "      <td>...</td>\n",
              "      <td>18.75</td>\n",
              "      <td>0.205</td>\n",
              "      <td>14.9</td>\n",
              "      <td>0.89</td>\n",
              "      <td>29.36</td>\n",
              "      <td>26</td>\n",
              "      <td>1</td>\n",
              "      <td>2</td>\n",
              "      <td>NaN</td>\n",
              "      <td>0</td>\n",
              "    </tr>\n",
              "  </tbody>\n",
              "</table>\n",
              "<p>5016 rows × 38 columns</p>\n",
              "</div>\n",
              "    <div class=\"colab-df-buttons\">\n",
              "\n",
              "  <div class=\"colab-df-container\">\n",
              "    <button class=\"colab-df-convert\" onclick=\"convertToInteractive('df-a569d76b-e715-4320-913b-b6436a9c62f9')\"\n",
              "            title=\"Convert this dataframe to an interactive table.\"\n",
              "            style=\"display:none;\">\n",
              "\n",
              "  <svg xmlns=\"http://www.w3.org/2000/svg\" height=\"24px\" viewBox=\"0 -960 960 960\">\n",
              "    <path d=\"M120-120v-720h720v720H120Zm60-500h600v-160H180v160Zm220 220h160v-160H400v160Zm0 220h160v-160H400v160ZM180-400h160v-160H180v160Zm440 0h160v-160H620v160ZM180-180h160v-160H180v160Zm440 0h160v-160H620v160Z\"/>\n",
              "  </svg>\n",
              "    </button>\n",
              "\n",
              "  <style>\n",
              "    .colab-df-container {\n",
              "      display:flex;\n",
              "      gap: 12px;\n",
              "    }\n",
              "\n",
              "    .colab-df-convert {\n",
              "      background-color: #E8F0FE;\n",
              "      border: none;\n",
              "      border-radius: 50%;\n",
              "      cursor: pointer;\n",
              "      display: none;\n",
              "      fill: #1967D2;\n",
              "      height: 32px;\n",
              "      padding: 0 0 0 0;\n",
              "      width: 32px;\n",
              "    }\n",
              "\n",
              "    .colab-df-convert:hover {\n",
              "      background-color: #E2EBFA;\n",
              "      box-shadow: 0px 1px 2px rgba(60, 64, 67, 0.3), 0px 1px 3px 1px rgba(60, 64, 67, 0.15);\n",
              "      fill: #174EA6;\n",
              "    }\n",
              "\n",
              "    .colab-df-buttons div {\n",
              "      margin-bottom: 4px;\n",
              "    }\n",
              "\n",
              "    [theme=dark] .colab-df-convert {\n",
              "      background-color: #3B4455;\n",
              "      fill: #D2E3FC;\n",
              "    }\n",
              "\n",
              "    [theme=dark] .colab-df-convert:hover {\n",
              "      background-color: #434B5C;\n",
              "      box-shadow: 0px 1px 3px 1px rgba(0, 0, 0, 0.15);\n",
              "      filter: drop-shadow(0px 1px 2px rgba(0, 0, 0, 0.3));\n",
              "      fill: #FFFFFF;\n",
              "    }\n",
              "  </style>\n",
              "\n",
              "    <script>\n",
              "      const buttonEl =\n",
              "        document.querySelector('#df-a569d76b-e715-4320-913b-b6436a9c62f9 button.colab-df-convert');\n",
              "      buttonEl.style.display =\n",
              "        google.colab.kernel.accessAllowed ? 'block' : 'none';\n",
              "\n",
              "      async function convertToInteractive(key) {\n",
              "        const element = document.querySelector('#df-a569d76b-e715-4320-913b-b6436a9c62f9');\n",
              "        const dataTable =\n",
              "          await google.colab.kernel.invokeFunction('convertToInteractive',\n",
              "                                                    [key], {});\n",
              "        if (!dataTable) return;\n",
              "\n",
              "        const docLinkHtml = 'Like what you see? Visit the ' +\n",
              "          '<a target=\"_blank\" href=https://colab.research.google.com/notebooks/data_table.ipynb>data table notebook</a>'\n",
              "          + ' to learn more about interactive tables.';\n",
              "        element.innerHTML = '';\n",
              "        dataTable['output_type'] = 'display_data';\n",
              "        await google.colab.output.renderOutput(dataTable, element);\n",
              "        const docLink = document.createElement('div');\n",
              "        docLink.innerHTML = docLinkHtml;\n",
              "        element.appendChild(docLink);\n",
              "      }\n",
              "    </script>\n",
              "  </div>\n",
              "\n",
              "\n",
              "    <div id=\"df-d61996bb-8d9a-419b-88e3-80389eea6b10\">\n",
              "      <button class=\"colab-df-quickchart\" onclick=\"quickchart('df-d61996bb-8d9a-419b-88e3-80389eea6b10')\"\n",
              "                title=\"Suggest charts\"\n",
              "                style=\"display:none;\">\n",
              "\n",
              "<svg xmlns=\"http://www.w3.org/2000/svg\" height=\"24px\"viewBox=\"0 0 24 24\"\n",
              "     width=\"24px\">\n",
              "    <g>\n",
              "        <path d=\"M19 3H5c-1.1 0-2 .9-2 2v14c0 1.1.9 2 2 2h14c1.1 0 2-.9 2-2V5c0-1.1-.9-2-2-2zM9 17H7v-7h2v7zm4 0h-2V7h2v10zm4 0h-2v-4h2v4z\"/>\n",
              "    </g>\n",
              "</svg>\n",
              "      </button>\n",
              "\n",
              "<style>\n",
              "  .colab-df-quickchart {\n",
              "      --bg-color: #E8F0FE;\n",
              "      --fill-color: #1967D2;\n",
              "      --hover-bg-color: #E2EBFA;\n",
              "      --hover-fill-color: #174EA6;\n",
              "      --disabled-fill-color: #AAA;\n",
              "      --disabled-bg-color: #DDD;\n",
              "  }\n",
              "\n",
              "  [theme=dark] .colab-df-quickchart {\n",
              "      --bg-color: #3B4455;\n",
              "      --fill-color: #D2E3FC;\n",
              "      --hover-bg-color: #434B5C;\n",
              "      --hover-fill-color: #FFFFFF;\n",
              "      --disabled-bg-color: #3B4455;\n",
              "      --disabled-fill-color: #666;\n",
              "  }\n",
              "\n",
              "  .colab-df-quickchart {\n",
              "    background-color: var(--bg-color);\n",
              "    border: none;\n",
              "    border-radius: 50%;\n",
              "    cursor: pointer;\n",
              "    display: none;\n",
              "    fill: var(--fill-color);\n",
              "    height: 32px;\n",
              "    padding: 0;\n",
              "    width: 32px;\n",
              "  }\n",
              "\n",
              "  .colab-df-quickchart:hover {\n",
              "    background-color: var(--hover-bg-color);\n",
              "    box-shadow: 0 1px 2px rgba(60, 64, 67, 0.3), 0 1px 3px 1px rgba(60, 64, 67, 0.15);\n",
              "    fill: var(--button-hover-fill-color);\n",
              "  }\n",
              "\n",
              "  .colab-df-quickchart-complete:disabled,\n",
              "  .colab-df-quickchart-complete:disabled:hover {\n",
              "    background-color: var(--disabled-bg-color);\n",
              "    fill: var(--disabled-fill-color);\n",
              "    box-shadow: none;\n",
              "  }\n",
              "\n",
              "  .colab-df-spinner {\n",
              "    border: 2px solid var(--fill-color);\n",
              "    border-color: transparent;\n",
              "    border-bottom-color: var(--fill-color);\n",
              "    animation:\n",
              "      spin 1s steps(1) infinite;\n",
              "  }\n",
              "\n",
              "  @keyframes spin {\n",
              "    0% {\n",
              "      border-color: transparent;\n",
              "      border-bottom-color: var(--fill-color);\n",
              "      border-left-color: var(--fill-color);\n",
              "    }\n",
              "    20% {\n",
              "      border-color: transparent;\n",
              "      border-left-color: var(--fill-color);\n",
              "      border-top-color: var(--fill-color);\n",
              "    }\n",
              "    30% {\n",
              "      border-color: transparent;\n",
              "      border-left-color: var(--fill-color);\n",
              "      border-top-color: var(--fill-color);\n",
              "      border-right-color: var(--fill-color);\n",
              "    }\n",
              "    40% {\n",
              "      border-color: transparent;\n",
              "      border-right-color: var(--fill-color);\n",
              "      border-top-color: var(--fill-color);\n",
              "    }\n",
              "    60% {\n",
              "      border-color: transparent;\n",
              "      border-right-color: var(--fill-color);\n",
              "    }\n",
              "    80% {\n",
              "      border-color: transparent;\n",
              "      border-right-color: var(--fill-color);\n",
              "      border-bottom-color: var(--fill-color);\n",
              "    }\n",
              "    90% {\n",
              "      border-color: transparent;\n",
              "      border-bottom-color: var(--fill-color);\n",
              "    }\n",
              "  }\n",
              "</style>\n",
              "\n",
              "      <script>\n",
              "        async function quickchart(key) {\n",
              "          const quickchartButtonEl =\n",
              "            document.querySelector('#' + key + ' button');\n",
              "          quickchartButtonEl.disabled = true;  // To prevent multiple clicks.\n",
              "          quickchartButtonEl.classList.add('colab-df-spinner');\n",
              "          try {\n",
              "            const charts = await google.colab.kernel.invokeFunction(\n",
              "                'suggestCharts', [key], {});\n",
              "          } catch (error) {\n",
              "            console.error('Error during call to suggestCharts:', error);\n",
              "          }\n",
              "          quickchartButtonEl.classList.remove('colab-df-spinner');\n",
              "          quickchartButtonEl.classList.add('colab-df-quickchart-complete');\n",
              "        }\n",
              "        (() => {\n",
              "          let quickchartButtonEl =\n",
              "            document.querySelector('#df-d61996bb-8d9a-419b-88e3-80389eea6b10 button');\n",
              "          quickchartButtonEl.style.display =\n",
              "            google.colab.kernel.accessAllowed ? 'block' : 'none';\n",
              "        })();\n",
              "      </script>\n",
              "    </div>\n",
              "\n",
              "  <div id=\"id_8b582af6-2c8f-43c0-b8b4-0cbd6d9cb837\">\n",
              "    <style>\n",
              "      .colab-df-generate {\n",
              "        background-color: #E8F0FE;\n",
              "        border: none;\n",
              "        border-radius: 50%;\n",
              "        cursor: pointer;\n",
              "        display: none;\n",
              "        fill: #1967D2;\n",
              "        height: 32px;\n",
              "        padding: 0 0 0 0;\n",
              "        width: 32px;\n",
              "      }\n",
              "\n",
              "      .colab-df-generate:hover {\n",
              "        background-color: #E2EBFA;\n",
              "        box-shadow: 0px 1px 2px rgba(60, 64, 67, 0.3), 0px 1px 3px 1px rgba(60, 64, 67, 0.15);\n",
              "        fill: #174EA6;\n",
              "      }\n",
              "\n",
              "      [theme=dark] .colab-df-generate {\n",
              "        background-color: #3B4455;\n",
              "        fill: #D2E3FC;\n",
              "      }\n",
              "\n",
              "      [theme=dark] .colab-df-generate:hover {\n",
              "        background-color: #434B5C;\n",
              "        box-shadow: 0px 1px 3px 1px rgba(0, 0, 0, 0.15);\n",
              "        filter: drop-shadow(0px 1px 2px rgba(0, 0, 0, 0.3));\n",
              "        fill: #FFFFFF;\n",
              "      }\n",
              "    </style>\n",
              "    <button class=\"colab-df-generate\" onclick=\"generateWithVariable('df')\"\n",
              "            title=\"Generate code using this dataframe.\"\n",
              "            style=\"display:none;\">\n",
              "\n",
              "  <svg xmlns=\"http://www.w3.org/2000/svg\" height=\"24px\"viewBox=\"0 0 24 24\"\n",
              "       width=\"24px\">\n",
              "    <path d=\"M7,19H8.4L18.45,9,17,7.55,7,17.6ZM5,21V16.75L18.45,3.32a2,2,0,0,1,2.83,0l1.4,1.43a1.91,1.91,0,0,1,.58,1.4,1.91,1.91,0,0,1-.58,1.4L9.25,21ZM18.45,9,17,7.55Zm-12,3A5.31,5.31,0,0,0,4.9,8.1,5.31,5.31,0,0,0,1,6.5,5.31,5.31,0,0,0,4.9,4.9,5.31,5.31,0,0,0,6.5,1,5.31,5.31,0,0,0,8.1,4.9,5.31,5.31,0,0,0,12,6.5,5.46,5.46,0,0,0,6.5,12Z\"/>\n",
              "  </svg>\n",
              "    </button>\n",
              "    <script>\n",
              "      (() => {\n",
              "      const buttonEl =\n",
              "        document.querySelector('#id_8b582af6-2c8f-43c0-b8b4-0cbd6d9cb837 button.colab-df-generate');\n",
              "      buttonEl.style.display =\n",
              "        google.colab.kernel.accessAllowed ? 'block' : 'none';\n",
              "\n",
              "      buttonEl.onclick = () => {\n",
              "        google.colab.notebook.generateWithVariable('df');\n",
              "      }\n",
              "      })();\n",
              "    </script>\n",
              "  </div>\n",
              "\n",
              "    </div>\n",
              "  </div>\n"
            ],
            "application/vnd.google.colaboratory.intrinsic+json": {
              "type": "dataframe",
              "variable_name": "df"
            }
          },
          "metadata": {},
          "execution_count": 21
        }
      ]
    },
    {
      "cell_type": "code",
      "source": [
        "df.boxplot(column='STAR')"
      ],
      "metadata": {
        "colab": {
          "base_uri": "https://localhost:8080/",
          "height": 448
        },
        "id": "tw5LEJGWWWl-",
        "outputId": "0caf11a6-c9fb-4d02-a866-caf585de38cc"
      },
      "execution_count": null,
      "outputs": [
        {
          "output_type": "execute_result",
          "data": {
            "text/plain": [
              "<Axes: >"
            ]
          },
          "metadata": {},
          "execution_count": 22
        },
        {
          "output_type": "display_data",
          "data": {
            "text/plain": [
              "<Figure size 640x480 with 1 Axes>"
            ],
            "image/png": "[encoded data removed]"
          },
          "metadata": {}
        }
      ]
    },
    {
      "cell_type": "code",
      "source": [
        "sns.boxplot(x='Sarcopenia', y='MMSE', data=df, palette=['skyblue', 'orange'])\n",
        "\n",
        "plt.title('MMSE Distribution by Sarcopenia Status', fontsize=16)\n",
        "plt.xlabel('Sarcopenia Status', fontsize=12)\n",
        "plt.ylabel('MMSE Score', fontsize=12)\n",
        "\n",
        "plt.grid(axis='y', linestyle='--', alpha=0.7)\n",
        "\n",
        "plt.tight_layout()\n",
        "\n",
        "plt.show()"
      ],
      "metadata": {
        "colab": {
          "base_uri": "https://localhost:8080/",
          "height": 598
        },
        "id": "9XqR8z8pTcsD",
        "outputId": "66b5aaf2-1658-4e76-9ddc-73f65f45dacf"
      },
      "execution_count": null,
      "outputs": [
        {
          "output_type": "stream",
          "name": "stderr",
          "text": [
            "<ipython-input-24-3338941938>:1: FutureWarning: \n",
            "\n",
            "Passing `palette` without assigning `hue` is deprecated and will be removed in v0.14.0. Assign the `x` variable to `hue` and set `legend=False` for the same effect.\n",
            "\n",
            "  sns.boxplot(x='Sarcopenia', y='MMSE', data=df, palette=['skyblue', 'orange'])\n"
          ]
        },
        {
          "output_type": "display_data",
          "data": {
            "text/plain": [
              "<Figure size 640x480 with 1 Axes>"
            ],
            "image/png": "[encoded data removed]"
          },
          "metadata": {}
        }
      ]
    },
    {
      "cell_type": "code",
      "source": [
        "sns.boxplot(x='Age_Group', y='MMSE', data=df, palette=['skyblue', 'orange'])\n",
        "\n",
        "plt.title('MMSE Distribution by Age_Group', fontsize=16)\n",
        "plt.xlabel('Age Group', fontsize=12)\n",
        "plt.ylabel('MMSE Score', fontsize=12)\n",
        "\n",
        "plt.grid(axis='y', linestyle='--', alpha=0.7)\n",
        "\n",
        "plt.tight_layout()\n",
        "\n",
        "plt.show()"
      ],
      "metadata": {
        "colab": {
          "base_uri": "https://localhost:8080/",
          "height": 653
        },
        "id": "kTXjs5KedR0q",
        "outputId": "93229c05-1434-4b19-e4d9-e23ca3d9cb1c"
      },
      "execution_count": null,
      "outputs": [
        {
          "output_type": "stream",
          "name": "stderr",
          "text": [
            "<ipython-input-26-2855787354>:1: FutureWarning: \n",
            "\n",
            "Passing `palette` without assigning `hue` is deprecated and will be removed in v0.14.0. Assign the `x` variable to `hue` and set `legend=False` for the same effect.\n",
            "\n",
            "  sns.boxplot(x='Age_Group', y='MMSE', data=df, palette=['skyblue', 'orange'])\n",
            "<ipython-input-26-2855787354>:1: UserWarning: \n",
            "The palette list has fewer values (2) than needed (3) and will cycle, which may produce an uninterpretable plot.\n",
            "  sns.boxplot(x='Age_Group', y='MMSE', data=df, palette=['skyblue', 'orange'])\n"
          ]
        },
        {
          "output_type": "display_data",
          "data": {
            "text/plain": [
              "<Figure size 640x480 with 1 Axes>"
            ],
            "image/png": "[encoded data removed]"
          },
          "metadata": {}
        }
      ]
    },
    {
      "cell_type": "code",
      "source": [
        "df_temp = pd.read_excel(\"/content/drive/MyDrive/SARCOPENIA_PROJECT/Data_Set_Files/sarcopenia-data-set_columns_corrected_4.xlsx\")\n",
        "df['Waist'] = df_temp['Waist']\n",
        "df['Hip'] = df_temp['Hip']\n",
        "df.head(n=3)"
      ],
      "metadata": {
        "colab": {
          "base_uri": "https://localhost:8080/",
          "height": 262
        },
        "id": "PkSfs6XZePgI",
        "outputId": "d25931a3-9d72-43f2-801d-2c2e71a81793"
      },
      "execution_count": null,
      "outputs": [
        {
          "output_type": "execute_result",
          "data": {
            "text/plain": [
              "   Unnamed: 0.1  Unnamed: 0        Name Gender   Age  Age_Group  Weight  \\\n",
              "0             0           0  beyzanur 0      M  74.0  AGE 60-80    88.0   \n",
              "1             1           1  beyzanur 1      M  62.0  AGE 60-80   105.0   \n",
              "2             2           2  beyzanur 2      M  65.0  AGE 60-80    89.0   \n",
              "\n",
              "   DM_Type2  DM_Type2_Duration  Insulin  ... Grip_Str  STAR   BMI  MMSE  \\\n",
              "0         1               0.01        0  ...     32.0  1.81  27.8    29   \n",
              "1         0               0.00        0  ...     47.0  1.38  35.5    30   \n",
              "2         0               0.00        0  ...     33.0  1.20  31.2    28   \n",
              "\n",
              "   Sarcopenia  Number_of_HT  Chronic_Diseases  \\\n",
              "0           0             1     DM_Type2, KAH   \n",
              "1           1             0               NaN   \n",
              "2           0             0               NaN   \n",
              "\n",
              "   Total_Number_of_Chronic_Diseases  Waist    Hip  \n",
              "0                                 2  113.0  113.0  \n",
              "1                                 0  125.0  110.0  \n",
              "2                                 0  110.0  114.0  \n",
              "\n",
              "[3 rows x 40 columns]"
            ],
            "text/html": [
              "\n",
              "  <div id=\"df-d86abf9c-fddb-4418-95b4-b541cc8c7ad0\" class=\"colab-df-container\">\n",
              "    <div>\n",
              "<style scoped>\n",
              "    .dataframe tbody tr th:only-of-type {\n",
              "        vertical-align: middle;\n",
              "    }\n",
              "\n",
              "    .dataframe tbody tr th {\n",
              "        vertical-align: top;\n",
              "    }\n",
              "\n",
              "    .dataframe thead th {\n",
              "        text-align: right;\n",
              "    }\n",
              "</style>\n",
              "<table border=\"1\" class=\"dataframe\">\n",
              "  <thead>\n",
              "    <tr style=\"text-align: right;\">\n",
              "      <th></th>\n",
              "      <th>Unnamed: 0.1</th>\n",
              "      <th>Unnamed: 0</th>\n",
              "      <th>Name</th>\n",
              "      <th>Gender</th>\n",
              "      <th>Age</th>\n",
              "      <th>Age_Group</th>\n",
              "      <th>Weight</th>\n",
              "      <th>DM_Type2</th>\n",
              "      <th>DM_Type2_Duration</th>\n",
              "      <th>Insulin</th>\n",
              "      <th>...</th>\n",
              "      <th>Grip_Str</th>\n",
              "      <th>STAR</th>\n",
              "      <th>BMI</th>\n",
              "      <th>MMSE</th>\n",
              "      <th>Sarcopenia</th>\n",
              "      <th>Number_of_HT</th>\n",
              "      <th>Chronic_Diseases</th>\n",
              "      <th>Total_Number_of_Chronic_Diseases</th>\n",
              "      <th>Waist</th>\n",
              "      <th>Hip</th>\n",
              "    </tr>\n",
              "  </thead>\n",
              "  <tbody>\n",
              "    <tr>\n",
              "      <th>0</th>\n",
              "      <td>0</td>\n",
              "      <td>0</td>\n",
              "      <td>beyzanur 0</td>\n",
              "      <td>M</td>\n",
              "      <td>74.0</td>\n",
              "      <td>AGE 60-80</td>\n",
              "      <td>88.0</td>\n",
              "      <td>1</td>\n",
              "      <td>0.01</td>\n",
              "      <td>0</td>\n",
              "      <td>...</td>\n",
              "      <td>32.0</td>\n",
              "      <td>1.81</td>\n",
              "      <td>27.8</td>\n",
              "      <td>29</td>\n",
              "      <td>0</td>\n",
              "      <td>1</td>\n",
              "      <td>DM_Type2, KAH</td>\n",
              "      <td>2</td>\n",
              "      <td>113.0</td>\n",
              "      <td>113.0</td>\n",
              "    </tr>\n",
              "    <tr>\n",
              "      <th>1</th>\n",
              "      <td>1</td>\n",
              "      <td>1</td>\n",
              "      <td>beyzanur 1</td>\n",
              "      <td>M</td>\n",
              "      <td>62.0</td>\n",
              "      <td>AGE 60-80</td>\n",
              "      <td>105.0</td>\n",
              "      <td>0</td>\n",
              "      <td>0.00</td>\n",
              "      <td>0</td>\n",
              "      <td>...</td>\n",
              "      <td>47.0</td>\n",
              "      <td>1.38</td>\n",
              "      <td>35.5</td>\n",
              "      <td>30</td>\n",
              "      <td>1</td>\n",
              "      <td>0</td>\n",
              "      <td>NaN</td>\n",
              "      <td>0</td>\n",
              "      <td>125.0</td>\n",
              "      <td>110.0</td>\n",
              "    </tr>\n",
              "    <tr>\n",
              "      <th>2</th>\n",
              "      <td>2</td>\n",
              "      <td>2</td>\n",
              "      <td>beyzanur 2</td>\n",
              "      <td>M</td>\n",
              "      <td>65.0</td>\n",
              "      <td>AGE 60-80</td>\n",
              "      <td>89.0</td>\n",
              "      <td>0</td>\n",
              "      <td>0.00</td>\n",
              "      <td>0</td>\n",
              "      <td>...</td>\n",
              "      <td>33.0</td>\n",
              "      <td>1.20</td>\n",
              "      <td>31.2</td>\n",
              "      <td>28</td>\n",
              "      <td>0</td>\n",
              "      <td>0</td>\n",
              "      <td>NaN</td>\n",
              "      <td>0</td>\n",
              "      <td>110.0</td>\n",
              "      <td>114.0</td>\n",
              "    </tr>\n",
              "  </tbody>\n",
              "</table>\n",
              "<p>3 rows × 40 columns</p>\n",
              "</div>\n",
              "    <div class=\"colab-df-buttons\">\n",
              "\n",
              "  <div class=\"colab-df-container\">\n",
              "    <button class=\"colab-df-convert\" onclick=\"convertToInteractive('df-d86abf9c-fddb-4418-95b4-b541cc8c7ad0')\"\n",
              "            title=\"Convert this dataframe to an interactive table.\"\n",
              "            style=\"display:none;\">\n",
              "\n",
              "  <svg xmlns=\"http://www.w3.org/2000/svg\" height=\"24px\" viewBox=\"0 -960 960 960\">\n",
              "    <path d=\"M120-120v-720h720v720H120Zm60-500h600v-160H180v160Zm220 220h160v-160H400v160Zm0 220h160v-160H400v160ZM180-400h160v-160H180v160Zm440 0h160v-160H620v160ZM180-180h160v-160H180v160Zm440 0h160v-160H620v160Z\"/>\n",
              "  </svg>\n",
              "    </button>\n",
              "\n",
              "  <style>\n",
              "    .colab-df-container {\n",
              "      display:flex;\n",
              "      gap: 12px;\n",
              "    }\n",
              "\n",
              "    .colab-df-convert {\n",
              "      background-color: #E8F0FE;\n",
              "      border: none;\n",
              "      border-radius: 50%;\n",
              "      cursor: pointer;\n",
              "      display: none;\n",
              "      fill: #1967D2;\n",
              "      height: 32px;\n",
              "      padding: 0 0 0 0;\n",
              "      width: 32px;\n",
              "    }\n",
              "\n",
              "    .colab-df-convert:hover {\n",
              "      background-color: #E2EBFA;\n",
              "      box-shadow: 0px 1px 2px rgba(60, 64, 67, 0.3), 0px 1px 3px 1px rgba(60, 64, 67, 0.15);\n",
              "      fill: #174EA6;\n",
              "    }\n",
              "\n",
              "    .colab-df-buttons div {\n",
              "      margin-bottom: 4px;\n",
              "    }\n",
              "\n",
              "    [theme=dark] .colab-df-convert {\n",
              "      background-color: #3B4455;\n",
              "      fill: #D2E3FC;\n",
              "    }\n",
              "\n",
              "    [theme=dark] .colab-df-convert:hover {\n",
              "      background-color: #434B5C;\n",
              "      box-shadow: 0px 1px 3px 1px rgba(0, 0, 0, 0.15);\n",
              "      filter: drop-shadow(0px 1px 2px rgba(0, 0, 0, 0.3));\n",
              "      fill: #FFFFFF;\n",
              "    }\n",
              "  </style>\n",
              "\n",
              "    <script>\n",
              "      const buttonEl =\n",
              "        document.querySelector('#df-d86abf9c-fddb-4418-95b4-b541cc8c7ad0 button.colab-df-convert');\n",
              "      buttonEl.style.display =\n",
              "        google.colab.kernel.accessAllowed ? 'block' : 'none';\n",
              "\n",
              "      async function convertToInteractive(key) {\n",
              "        const element = document.querySelector('#df-d86abf9c-fddb-4418-95b4-b541cc8c7ad0');\n",
              "        const dataTable =\n",
              "          await google.colab.kernel.invokeFunction('convertToInteractive',\n",
              "                                                    [key], {});\n",
              "        if (!dataTable) return;\n",
              "\n",
              "        const docLinkHtml = 'Like what you see? Visit the ' +\n",
              "          '<a target=\"_blank\" href=https://colab.research.google.com/notebooks/data_table.ipynb>data table notebook</a>'\n",
              "          + ' to learn more about interactive tables.';\n",
              "        element.innerHTML = '';\n",
              "        dataTable['output_type'] = 'display_data';\n",
              "        await google.colab.output.renderOutput(dataTable, element);\n",
              "        const docLink = document.createElement('div');\n",
              "        docLink.innerHTML = docLinkHtml;\n",
              "        element.appendChild(docLink);\n",
              "      }\n",
              "    </script>\n",
              "  </div>\n",
              "\n",
              "\n",
              "    <div id=\"df-b9b10e23-d9d1-486a-a79f-603c7aed74b0\">\n",
              "      <button class=\"colab-df-quickchart\" onclick=\"quickchart('df-b9b10e23-d9d1-486a-a79f-603c7aed74b0')\"\n",
              "                title=\"Suggest charts\"\n",
              "                style=\"display:none;\">\n",
              "\n",
              "<svg xmlns=\"http://www.w3.org/2000/svg\" height=\"24px\"viewBox=\"0 0 24 24\"\n",
              "     width=\"24px\">\n",
              "    <g>\n",
              "        <path d=\"M19 3H5c-1.1 0-2 .9-2 2v14c0 1.1.9 2 2 2h14c1.1 0 2-.9 2-2V5c0-1.1-.9-2-2-2zM9 17H7v-7h2v7zm4 0h-2V7h2v10zm4 0h-2v-4h2v4z\"/>\n",
              "    </g>\n",
              "</svg>\n",
              "      </button>\n",
              "\n",
              "<style>\n",
              "  .colab-df-quickchart {\n",
              "      --bg-color: #E8F0FE;\n",
              "      --fill-color: #1967D2;\n",
              "      --hover-bg-color: #E2EBFA;\n",
              "      --hover-fill-color: #174EA6;\n",
              "      --disabled-fill-color: #AAA;\n",
              "      --disabled-bg-color: #DDD;\n",
              "  }\n",
              "\n",
              "  [theme=dark] .colab-df-quickchart {\n",
              "      --bg-color: #3B4455;\n",
              "      --fill-color: #D2E3FC;\n",
              "      --hover-bg-color: #434B5C;\n",
              "      --hover-fill-color: #FFFFFF;\n",
              "      --disabled-bg-color: #3B4455;\n",
              "      --disabled-fill-color: #666;\n",
              "  }\n",
              "\n",
              "  .colab-df-quickchart {\n",
              "    background-color: var(--bg-color);\n",
              "    border: none;\n",
              "    border-radius: 50%;\n",
              "    cursor: pointer;\n",
              "    display: none;\n",
              "    fill: var(--fill-color);\n",
              "    height: 32px;\n",
              "    padding: 0;\n",
              "    width: 32px;\n",
              "  }\n",
              "\n",
              "  .colab-df-quickchart:hover {\n",
              "    background-color: var(--hover-bg-color);\n",
              "    box-shadow: 0 1px 2px rgba(60, 64, 67, 0.3), 0 1px 3px 1px rgba(60, 64, 67, 0.15);\n",
              "    fill: var(--button-hover-fill-color);\n",
              "  }\n",
              "\n",
              "  .colab-df-quickchart-complete:disabled,\n",
              "  .colab-df-quickchart-complete:disabled:hover {\n",
              "    background-color: var(--disabled-bg-color);\n",
              "    fill: var(--disabled-fill-color);\n",
              "    box-shadow: none;\n",
              "  }\n",
              "\n",
              "  .colab-df-spinner {\n",
              "    border: 2px solid var(--fill-color);\n",
              "    border-color: transparent;\n",
              "    border-bottom-color: var(--fill-color);\n",
              "    animation:\n",
              "      spin 1s steps(1) infinite;\n",
              "  }\n",
              "\n",
              "  @keyframes spin {\n",
              "    0% {\n",
              "      border-color: transparent;\n",
              "      border-bottom-color: var(--fill-color);\n",
              "      border-left-color: var(--fill-color);\n",
              "    }\n",
              "    20% {\n",
              "      border-color: transparent;\n",
              "      border-left-color: var(--fill-color);\n",
              "      border-top-color: var(--fill-color);\n",
              "    }\n",
              "    30% {\n",
              "      border-color: transparent;\n",
              "      border-left-color: var(--fill-color);\n",
              "      border-top-color: var(--fill-color);\n",
              "      border-right-color: var(--fill-color);\n",
              "    }\n",
              "    40% {\n",
              "      border-color: transparent;\n",
              "      border-right-color: var(--fill-color);\n",
              "      border-top-color: var(--fill-color);\n",
              "    }\n",
              "    60% {\n",
              "      border-color: transparent;\n",
              "      border-right-color: var(--fill-color);\n",
              "    }\n",
              "    80% {\n",
              "      border-color: transparent;\n",
              "      border-right-color: var(--fill-color);\n",
              "      border-bottom-color: var(--fill-color);\n",
              "    }\n",
              "    90% {\n",
              "      border-color: transparent;\n",
              "      border-bottom-color: var(--fill-color);\n",
              "    }\n",
              "  }\n",
              "</style>\n",
              "\n",
              "      <script>\n",
              "        async function quickchart(key) {\n",
              "          const quickchartButtonEl =\n",
              "            document.querySelector('#' + key + ' button');\n",
              "          quickchartButtonEl.disabled = true;  // To prevent multiple clicks.\n",
              "          quickchartButtonEl.classList.add('colab-df-spinner');\n",
              "          try {\n",
              "            const charts = await google.colab.kernel.invokeFunction(\n",
              "                'suggestCharts', [key], {});\n",
              "          } catch (error) {\n",
              "            console.error('Error during call to suggestCharts:', error);\n",
              "          }\n",
              "          quickchartButtonEl.classList.remove('colab-df-spinner');\n",
              "          quickchartButtonEl.classList.add('colab-df-quickchart-complete');\n",
              "        }\n",
              "        (() => {\n",
              "          let quickchartButtonEl =\n",
              "            document.querySelector('#df-b9b10e23-d9d1-486a-a79f-603c7aed74b0 button');\n",
              "          quickchartButtonEl.style.display =\n",
              "            google.colab.kernel.accessAllowed ? 'block' : 'none';\n",
              "        })();\n",
              "      </script>\n",
              "    </div>\n",
              "\n",
              "    </div>\n",
              "  </div>\n"
            ],
            "application/vnd.google.colaboratory.intrinsic+json": {
              "type": "dataframe",
              "variable_name": "df"
            }
          },
          "metadata": {},
          "execution_count": 27
        }
      ]
    },
    {
      "cell_type": "code",
      "source": [
        "df['Waist_Hip_Ratio'] = df['Waist'] / df['Hip']"
      ],
      "metadata": {
        "id": "5z0vO3QUh0kd"
      },
      "execution_count": null,
      "outputs": []
    },
    {
      "cell_type": "code",
      "source": [
        "df.columns"
      ],
      "metadata": {
        "colab": {
          "base_uri": "https://localhost:8080/"
        },
        "id": "yX533Eq7iFlm",
        "outputId": "7b4c78c2-f0fd-4bb9-fad5-a21bba39db27"
      },
      "execution_count": null,
      "outputs": [
        {
          "output_type": "execute_result",
          "data": {
            "text/plain": [
              "Index(['Unnamed: 0.1', 'Unnamed: 0', 'Name', 'Gender', 'Age', 'Age_Group',\n",
              "       'Weight', 'DM_Type2', 'DM_Type2_Duration', 'Insulin', 'DM_Type2_Drug',\n",
              "       'Dyslipidemia', 'Dyslipidemia_duration', 'KAH', 'KAH_Duration',\n",
              "       'Hipotiroidi', 'Asthma', 'COPD', 'OP', 'HT_drugs',\n",
              "       'Total_Duration_of_HT', 'Education', 'Job', 'Status', 'Work_Status',\n",
              "       'Exercise', 'Exercise_Status', 'AT', 'CST', 'Gait_Speed', 'Grip_Str',\n",
              "       'STAR', 'BMI', 'MMSE', 'Sarcopenia', 'Number_of_HT', 'Chronic_Diseases',\n",
              "       'Total_Number_of_Chronic_Diseases', 'Waist', 'Hip', 'Waist_Hip_Ratio'],\n",
              "      dtype='object')"
            ]
          },
          "metadata": {},
          "execution_count": 29
        }
      ]
    },
    {
      "cell_type": "code",
      "source": [
        "df.Waist_Hip_Ratio.value_counts()"
      ],
      "metadata": {
        "colab": {
          "base_uri": "https://localhost:8080/",
          "height": 489
        },
        "id": "untCiptciHFD",
        "outputId": "072d9036-5212-460c-a087-f7f0f7ca8b42"
      },
      "execution_count": null,
      "outputs": [
        {
          "output_type": "execute_result",
          "data": {
            "text/plain": [
              "Waist_Hip_Ratio\n",
              "0.884335    109\n",
              "1.000000     72\n",
              "0.909091     60\n",
              "0.900000     56\n",
              "0.800000     50\n",
              "           ... \n",
              "0.796992      1\n",
              "1.044643      1\n",
              "0.853659      1\n",
              "1.021505      1\n",
              "1.136364      1\n",
              "Name: count, Length: 1374, dtype: int64"
            ],
            "text/html": [
              "<div>\n",
              "<style scoped>\n",
              "    .dataframe tbody tr th:only-of-type {\n",
              "        vertical-align: middle;\n",
              "    }\n",
              "\n",
              "    .dataframe tbody tr th {\n",
              "        vertical-align: top;\n",
              "    }\n",
              "\n",
              "    .dataframe thead th {\n",
              "        text-align: right;\n",
              "    }\n",
              "</style>\n",
              "<table border=\"1\" class=\"dataframe\">\n",
              "  <thead>\n",
              "    <tr style=\"text-align: right;\">\n",
              "      <th></th>\n",
              "      <th>count</th>\n",
              "    </tr>\n",
              "    <tr>\n",
              "      <th>Waist_Hip_Ratio</th>\n",
              "      <th></th>\n",
              "    </tr>\n",
              "  </thead>\n",
              "  <tbody>\n",
              "    <tr>\n",
              "      <th>0.884335</th>\n",
              "      <td>109</td>\n",
              "    </tr>\n",
              "    <tr>\n",
              "      <th>1.000000</th>\n",
              "      <td>72</td>\n",
              "    </tr>\n",
              "    <tr>\n",
              "      <th>0.909091</th>\n",
              "      <td>60</td>\n",
              "    </tr>\n",
              "    <tr>\n",
              "      <th>0.900000</th>\n",
              "      <td>56</td>\n",
              "    </tr>\n",
              "    <tr>\n",
              "      <th>0.800000</th>\n",
              "      <td>50</td>\n",
              "    </tr>\n",
              "    <tr>\n",
              "      <th>...</th>\n",
              "      <td>...</td>\n",
              "    </tr>\n",
              "    <tr>\n",
              "      <th>0.796992</th>\n",
              "      <td>1</td>\n",
              "    </tr>\n",
              "    <tr>\n",
              "      <th>1.044643</th>\n",
              "      <td>1</td>\n",
              "    </tr>\n",
              "    <tr>\n",
              "      <th>0.853659</th>\n",
              "      <td>1</td>\n",
              "    </tr>\n",
              "    <tr>\n",
              "      <th>1.021505</th>\n",
              "      <td>1</td>\n",
              "    </tr>\n",
              "    <tr>\n",
              "      <th>1.136364</th>\n",
              "      <td>1</td>\n",
              "    </tr>\n",
              "  </tbody>\n",
              "</table>\n",
              "<p>1374 rows × 1 columns</p>\n",
              "</div><br><label><b>dtype:</b> int64</label>"
            ]
          },
          "metadata": {},
          "execution_count": 30
        }
      ]
    },
    {
      "cell_type": "code",
      "source": [
        "df.Waist_Hip_Ratio.isnull().sum()"
      ],
      "metadata": {
        "colab": {
          "base_uri": "https://localhost:8080/"
        },
        "id": "BulF4aWViLGL",
        "outputId": "b401a2ff-e16e-44be-8c72-0bb11d9e9604"
      },
      "execution_count": null,
      "outputs": [
        {
          "output_type": "execute_result",
          "data": {
            "text/plain": [
              "np.int64(0)"
            ]
          },
          "metadata": {},
          "execution_count": 31
        }
      ]
    },
    {
      "cell_type": "code",
      "source": [
        "df.drop('Waist', axis=1, inplace=True)"
      ],
      "metadata": {
        "id": "jFj_4M1WiRVH"
      },
      "execution_count": null,
      "outputs": []
    },
    {
      "cell_type": "code",
      "source": [
        "df.drop('Hip', axis=1, inplace=True)"
      ],
      "metadata": {
        "id": "bAGQuodKiWDv"
      },
      "execution_count": null,
      "outputs": []
    },
    {
      "cell_type": "code",
      "source": [
        "df.insert(32, 'Waist_Hip_Ratio', df.pop('Waist_Hip_Ratio'))"
      ],
      "metadata": {
        "id": "LOPGfT2FiYj6"
      },
      "execution_count": null,
      "outputs": []
    },
    {
      "cell_type": "code",
      "source": [
        "df.to_excel('/content/drive/MyDrive/SARCOPENIA_PROJECT/Data_Set_Files/sarcopenia-data-set_columns_corrected_6.xlsx',index=False)"
      ],
      "metadata": {
        "id": "GmpHz7alimL6"
      },
      "execution_count": null,
      "outputs": []
    },
    {
      "cell_type": "code",
      "source": [
        "df = pd.read_excel(\"/content/drive/MyDrive/SARCOPENIA_PROJECT/Data_Set_Files/sarcopenia-data-set_columns_corrected_6.xlsx\",index_col=0)"
      ],
      "metadata": {
        "id": "MNK5qY3yip5k"
      },
      "execution_count": null,
      "outputs": []
    },
    {
      "cell_type": "code",
      "source": [
        "df.columns"
      ],
      "metadata": {
        "colab": {
          "base_uri": "https://localhost:8080/"
        },
        "id": "uLU3KofAkgl4",
        "outputId": "4c9f6e39-9e52-4a80-c2d8-487effee195b"
      },
      "execution_count": null,
      "outputs": [
        {
          "output_type": "execute_result",
          "data": {
            "text/plain": [
              "Index(['Name', 'Gender', 'Age', 'Age_Group', 'Weight', 'DM_Type2',\n",
              "       'DM_Type2_Duration', 'Insulin', 'DM_Type2_Drug', 'Dyslipidemia',\n",
              "       'Dyslipidemia_duration', 'KAH', 'KAH_Duration', 'Hipotiroidi', 'Asthma',\n",
              "       'COPD', 'OP', 'HT_drugs', 'Total_Duration_of_HT', 'Education', 'Job',\n",
              "       'Status', 'Work_Status', 'Exercise', 'Exercise_Status', 'AT', 'CST',\n",
              "       'Gait_Speed', 'Grip_Str', 'STAR', 'Waist_Hip_Ratio', 'BMI', 'MMSE',\n",
              "       'Sarcopenia', 'Number_of_HT', 'Chronic_Diseases',\n",
              "       'Total_Number_of_Chronic_Diseases'],\n",
              "      dtype='object')"
            ]
          },
          "metadata": {},
          "execution_count": 69
        }
      ]
    },
    {
      "cell_type": "code",
      "source": [
        "def highest_value_column(df: pd.DataFrame, columns_to_combine: list, new_column_name: str) -> pd.DataFrame:\n",
        "    \"\"\"\n",
        "    Creates a new column in the DataFrame containing the highest value among\n",
        "    specified columns for each row.\n",
        "\n",
        "    - If all values in the specified columns for a row are NaN, the new column\n",
        "      will have 0 for that row.\n",
        "    - NaN values are ignored during comparison.\n",
        "    - If all values are 0, the new column will have 0.\n",
        "\n",
        "    Args:\n",
        "        df (pd.DataFrame): The input pandas DataFrame.\n",
        "        columns_to_combine (list): A list of column names (strings) to compare.\n",
        "                                   These columns are expected to be of float type.\n",
        "        new_column_name (str): The name for the new column to be created.\n",
        "\n",
        "    Returns:\n",
        "        pd.DataFrame: The DataFrame with the new column added.\n",
        "    \"\"\"\n",
        "    if not all(col in df.columns for col in columns_to_combine):\n",
        "        missing_cols = [col for col in columns_to_combine if col not in df.columns]\n",
        "        print(f\"Warning: The following columns were not found in the DataFrame: {missing_cols}\")\n",
        "\n",
        "        columns_to_combine = [col for col in columns_to_combine if col in df.columns]\n",
        "        if not columns_to_combine:\n",
        "            print(\"Error: No valid columns to combine. Returning original DataFrame.\")\n",
        "            return df\n",
        "\n",
        "    # Ensure the columns are numeric, coercing errors to NaN\n",
        "    for col in columns_to_combine:\n",
        "        df[col] = pd.to_numeric(df[col], errors='coerce')\n",
        "\n",
        "    # Calculate the maximum value across the specified columns for each row.\n",
        "    # skipna=True ensures that NaN values are ignored in the comparison.\n",
        "    # If all values in a row are NaN, the result will be NaN.\n",
        "    df[new_column_name] = df[columns_to_combine].max(axis=1, skipna=True)\n",
        "\n",
        "    # Fill NaN values (which occur when all original values were NaN) with 0.\n",
        "    df[new_column_name] = df[new_column_name].fillna(0).astype(float)\n",
        "\n",
        "    return df"
      ],
      "metadata": {
        "id": "fclzlTlip0Ps"
      },
      "execution_count": null,
      "outputs": []
    },
    {
      "cell_type": "code",
      "source": [
        "columns_to_combine = ['DM_Type2_Duration', 'Dyslipidemia_duration', 'KAH_Duration', 'Total_Duration_of_HT']\n",
        "new_column_name = 'Total_Duration_of_Chronic_Diseases'\n",
        "\n",
        "df_result2 = highest_value_column(df.copy(), columns_to_combine, 'Total_Duration_of_Chronic_Diseases')"
      ],
      "metadata": {
        "id": "soz7_hZep0Pu"
      },
      "execution_count": null,
      "outputs": []
    },
    {
      "cell_type": "code",
      "source": [
        "df_result2.Total_Duration_of_Chronic_Diseases.value_counts()"
      ],
      "metadata": {
        "colab": {
          "base_uri": "https://localhost:8080/",
          "height": 1000
        },
        "outputId": "35fa6a21-d39d-41c5-8659-bf07ac368e14",
        "id": "uX5TXdlLp0Pv"
      },
      "execution_count": null,
      "outputs": [
        {
          "output_type": "execute_result",
          "data": {
            "text/plain": [
              "Total_Duration_of_Chronic_Diseases\n",
              "0.00     1691\n",
              "10.00     489\n",
              "5.00      312\n",
              "15.00     303\n",
              "0.01      276\n",
              "20.00     270\n",
              "2.00      243\n",
              "5.83      177\n",
              "3.00      168\n",
              "1.00      166\n",
              "6.00      153\n",
              "4.00      151\n",
              "8.00       92\n",
              "7.00       90\n",
              "12.00      54\n",
              "25.00      54\n",
              "3.11       35\n",
              "13.00      29\n",
              "9.00       27\n",
              "0.10       26\n",
              "17.00      26\n",
              "0.50       25\n",
              "16.00      25\n",
              "14.00      21\n",
              "0.30       19\n",
              "0.20       15\n",
              "11.00      13\n",
              "18.00      12\n",
              "1.50       11\n",
              "22.00       9\n",
              "21.00       9\n",
              "19.00       6\n",
              "23.00       5\n",
              "0.40        4\n",
              "0.80        3\n",
              "2.50        2\n",
              "24.00       2\n",
              "0.70        2\n",
              "3.50        1\n",
              "Name: count, dtype: int64"
            ],
            "text/html": [
              "<div>\n",
              "<style scoped>\n",
              "    .dataframe tbody tr th:only-of-type {\n",
              "        vertical-align: middle;\n",
              "    }\n",
              "\n",
              "    .dataframe tbody tr th {\n",
              "        vertical-align: top;\n",
              "    }\n",
              "\n",
              "    .dataframe thead th {\n",
              "        text-align: right;\n",
              "    }\n",
              "</style>\n",
              "<table border=\"1\" class=\"dataframe\">\n",
              "  <thead>\n",
              "    <tr style=\"text-align: right;\">\n",
              "      <th></th>\n",
              "      <th>count</th>\n",
              "    </tr>\n",
              "    <tr>\n",
              "      <th>Total_Duration_of_Chronic_Diseases</th>\n",
              "      <th></th>\n",
              "    </tr>\n",
              "  </thead>\n",
              "  <tbody>\n",
              "    <tr>\n",
              "      <th>0.00</th>\n",
              "      <td>1691</td>\n",
              "    </tr>\n",
              "    <tr>\n",
              "      <th>10.00</th>\n",
              "      <td>489</td>\n",
              "    </tr>\n",
              "    <tr>\n",
              "      <th>5.00</th>\n",
              "      <td>312</td>\n",
              "    </tr>\n",
              "    <tr>\n",
              "      <th>15.00</th>\n",
              "      <td>303</td>\n",
              "    </tr>\n",
              "    <tr>\n",
              "      <th>0.01</th>\n",
              "      <td>276</td>\n",
              "    </tr>\n",
              "    <tr>\n",
              "      <th>20.00</th>\n",
              "      <td>270</td>\n",
              "    </tr>\n",
              "    <tr>\n",
              "      <th>2.00</th>\n",
              "      <td>243</td>\n",
              "    </tr>\n",
              "    <tr>\n",
              "      <th>5.83</th>\n",
              "      <td>177</td>\n",
              "    </tr>\n",
              "    <tr>\n",
              "      <th>3.00</th>\n",
              "      <td>168</td>\n",
              "    </tr>\n",
              "    <tr>\n",
              "      <th>1.00</th>\n",
              "      <td>166</td>\n",
              "    </tr>\n",
              "    <tr>\n",
              "      <th>6.00</th>\n",
              "      <td>153</td>\n",
              "    </tr>\n",
              "    <tr>\n",
              "      <th>4.00</th>\n",
              "      <td>151</td>\n",
              "    </tr>\n",
              "    <tr>\n",
              "      <th>8.00</th>\n",
              "      <td>92</td>\n",
              "    </tr>\n",
              "    <tr>\n",
              "      <th>7.00</th>\n",
              "      <td>90</td>\n",
              "    </tr>\n",
              "    <tr>\n",
              "      <th>12.00</th>\n",
              "      <td>54</td>\n",
              "    </tr>\n",
              "    <tr>\n",
              "      <th>25.00</th>\n",
              "      <td>54</td>\n",
              "    </tr>\n",
              "    <tr>\n",
              "      <th>3.11</th>\n",
              "      <td>35</td>\n",
              "    </tr>\n",
              "    <tr>\n",
              "      <th>13.00</th>\n",
              "      <td>29</td>\n",
              "    </tr>\n",
              "    <tr>\n",
              "      <th>9.00</th>\n",
              "      <td>27</td>\n",
              "    </tr>\n",
              "    <tr>\n",
              "      <th>0.10</th>\n",
              "      <td>26</td>\n",
              "    </tr>\n",
              "    <tr>\n",
              "      <th>17.00</th>\n",
              "      <td>26</td>\n",
              "    </tr>\n",
              "    <tr>\n",
              "      <th>0.50</th>\n",
              "      <td>25</td>\n",
              "    </tr>\n",
              "    <tr>\n",
              "      <th>16.00</th>\n",
              "      <td>25</td>\n",
              "    </tr>\n",
              "    <tr>\n",
              "      <th>14.00</th>\n",
              "      <td>21</td>\n",
              "    </tr>\n",
              "    <tr>\n",
              "      <th>0.30</th>\n",
              "      <td>19</td>\n",
              "    </tr>\n",
              "    <tr>\n",
              "      <th>0.20</th>\n",
              "      <td>15</td>\n",
              "    </tr>\n",
              "    <tr>\n",
              "      <th>11.00</th>\n",
              "      <td>13</td>\n",
              "    </tr>\n",
              "    <tr>\n",
              "      <th>18.00</th>\n",
              "      <td>12</td>\n",
              "    </tr>\n",
              "    <tr>\n",
              "      <th>1.50</th>\n",
              "      <td>11</td>\n",
              "    </tr>\n",
              "    <tr>\n",
              "      <th>22.00</th>\n",
              "      <td>9</td>\n",
              "    </tr>\n",
              "    <tr>\n",
              "      <th>21.00</th>\n",
              "      <td>9</td>\n",
              "    </tr>\n",
              "    <tr>\n",
              "      <th>19.00</th>\n",
              "      <td>6</td>\n",
              "    </tr>\n",
              "    <tr>\n",
              "      <th>23.00</th>\n",
              "      <td>5</td>\n",
              "    </tr>\n",
              "    <tr>\n",
              "      <th>0.40</th>\n",
              "      <td>4</td>\n",
              "    </tr>\n",
              "    <tr>\n",
              "      <th>0.80</th>\n",
              "      <td>3</td>\n",
              "    </tr>\n",
              "    <tr>\n",
              "      <th>2.50</th>\n",
              "      <td>2</td>\n",
              "    </tr>\n",
              "    <tr>\n",
              "      <th>24.00</th>\n",
              "      <td>2</td>\n",
              "    </tr>\n",
              "    <tr>\n",
              "      <th>0.70</th>\n",
              "      <td>2</td>\n",
              "    </tr>\n",
              "    <tr>\n",
              "      <th>3.50</th>\n",
              "      <td>1</td>\n",
              "    </tr>\n",
              "  </tbody>\n",
              "</table>\n",
              "</div><br><label><b>dtype:</b> int64</label>"
            ]
          },
          "metadata": {},
          "execution_count": 72
        }
      ]
    },
    {
      "cell_type": "code",
      "source": [
        "df[\"Total_Duration_of_Chronic_Diseases\"] = df_result2[\"Total_Duration_of_Chronic_Diseases\"]"
      ],
      "metadata": {
        "id": "cKEXfd8Vpzqr"
      },
      "execution_count": null,
      "outputs": []
    },
    {
      "cell_type": "code",
      "source": [
        "df.columns"
      ],
      "metadata": {
        "colab": {
          "base_uri": "https://localhost:8080/"
        },
        "id": "j-9IzuA0pzRU",
        "outputId": "df00995d-7b60-4c57-c66a-406e8dbd1c30"
      },
      "execution_count": null,
      "outputs": [
        {
          "output_type": "execute_result",
          "data": {
            "text/plain": [
              "Index(['Name', 'Gender', 'Age', 'Age_Group', 'Weight', 'DM_Type2',\n",
              "       'DM_Type2_Duration', 'Insulin', 'DM_Type2_Drug', 'Dyslipidemia',\n",
              "       'Dyslipidemia_duration', 'KAH', 'KAH_Duration', 'Hipotiroidi', 'Asthma',\n",
              "       'COPD', 'OP', 'HT_drugs', 'Total_Duration_of_HT', 'Education', 'Job',\n",
              "       'Status', 'Work_Status', 'Exercise', 'Exercise_Status', 'AT', 'CST',\n",
              "       'Gait_Speed', 'Grip_Str', 'STAR', 'Waist_Hip_Ratio', 'BMI', 'MMSE',\n",
              "       'Sarcopenia', 'Number_of_HT', 'Chronic_Diseases',\n",
              "       'Total_Number_of_Chronic_Diseases',\n",
              "       'Total_Duration_of_Chronic_Diseases'],\n",
              "      dtype='object')"
            ]
          },
          "metadata": {},
          "execution_count": 74
        }
      ]
    },
    {
      "cell_type": "code",
      "source": [
        "df.drop(\"MMSE\", axis=1, inplace=True)"
      ],
      "metadata": {
        "id": "39mRhBSEkl6N"
      },
      "execution_count": null,
      "outputs": []
    },
    {
      "cell_type": "code",
      "source": [
        "df.drop(\"Hipotiroidi\", axis=1, inplace=True)"
      ],
      "metadata": {
        "id": "w06R0zmSl4Ds"
      },
      "execution_count": null,
      "outputs": []
    },
    {
      "cell_type": "code",
      "source": [
        "df.drop(\"Asthma\",axis=1, inplace=True)"
      ],
      "metadata": {
        "id": "VLs_B8jRmGpz"
      },
      "execution_count": null,
      "outputs": []
    },
    {
      "cell_type": "code",
      "source": [
        "df.drop(\"COPD\", axis=1, inplace=True)"
      ],
      "metadata": {
        "id": "GXdXarjXmOE-"
      },
      "execution_count": null,
      "outputs": []
    },
    {
      "cell_type": "code",
      "source": [
        "df.drop(\"KAH\", axis=1, inplace=True)"
      ],
      "metadata": {
        "id": "CTZC9Z6YmRgx"
      },
      "execution_count": null,
      "outputs": []
    },
    {
      "cell_type": "code",
      "source": [
        "df.drop(\"Insulin\", axis=1, inplace=True)"
      ],
      "metadata": {
        "id": "EXpd_9CxmhJx"
      },
      "execution_count": null,
      "outputs": []
    },
    {
      "cell_type": "code",
      "source": [
        "df.drop(\"Dyslipidemia\", axis=1, inplace=True)"
      ],
      "metadata": {
        "id": "1gePa1kMmjPC"
      },
      "execution_count": null,
      "outputs": []
    },
    {
      "cell_type": "code",
      "source": [
        "df.drop(\"DM_Type2_Duration\", axis=1, inplace=True)"
      ],
      "metadata": {
        "id": "qyRW7egCmrtU"
      },
      "execution_count": null,
      "outputs": []
    },
    {
      "cell_type": "code",
      "source": [
        "df.drop(\"Dyslipidemia_duration\", axis=1, inplace=True)"
      ],
      "metadata": {
        "id": "s4Wp8kmCm7g0"
      },
      "execution_count": null,
      "outputs": []
    },
    {
      "cell_type": "code",
      "source": [
        "df.drop(\"KAH_Duration\", axis=1, inplace=True)"
      ],
      "metadata": {
        "id": "3gtjSY53m_hf"
      },
      "execution_count": null,
      "outputs": []
    },
    {
      "cell_type": "code",
      "source": [
        "df.columns"
      ],
      "metadata": {
        "colab": {
          "base_uri": "https://localhost:8080/"
        },
        "id": "qrEWjKCEnDtJ",
        "outputId": "cfb682eb-e753-4db2-f05b-3c512f2c8909"
      },
      "execution_count": null,
      "outputs": [
        {
          "output_type": "execute_result",
          "data": {
            "text/plain": [
              "Index(['Name', 'Gender', 'Age', 'Age_Group', 'Weight', 'DM_Type2',\n",
              "       'DM_Type2_Drug', 'OP', 'Number_of_HT', 'HT_drugs',\n",
              "       'Total_Duration_of_HT', 'Chronic_Diseases',\n",
              "       'Total_Number_of_Chronic_Diseases',\n",
              "       'Total_Duration_of_Chronic_Diseases', 'Education', 'Job', 'Status',\n",
              "       'Work_Status', 'Exercise', 'Exercise_Status', 'AT', 'CST', 'Gait_Speed',\n",
              "       'Grip_Str', 'STAR', 'Waist_Hip_Ratio', 'BMI', 'Sarcopenia'],\n",
              "      dtype='object')"
            ]
          },
          "metadata": {},
          "execution_count": 96
        }
      ]
    },
    {
      "cell_type": "code",
      "source": [
        "df.insert(12, 'Total_Number_of_Chronic_Diseases', df.pop('Total_Number_of_Chronic_Diseases'))"
      ],
      "metadata": {
        "id": "NCIdjq-DnEyK"
      },
      "execution_count": null,
      "outputs": []
    },
    {
      "cell_type": "code",
      "source": [
        "df.insert(11, 'Chronic_Diseases', df.pop('Chronic_Diseases'))"
      ],
      "metadata": {
        "id": "MRiJ7bFknXGT"
      },
      "execution_count": null,
      "outputs": []
    },
    {
      "cell_type": "code",
      "source": [
        "df.insert(8, 'Number_of_HT', df.pop('Number_of_HT'))"
      ],
      "metadata": {
        "id": "Jao6t8uZnoGw"
      },
      "execution_count": null,
      "outputs": []
    },
    {
      "cell_type": "code",
      "source": [
        "df.insert(11, 'Total_Duration_of_Chronic_Diseases', df.pop('Total_Duration_of_Chronic_Diseases'))"
      ],
      "metadata": {
        "id": "LD2rOa-BpNtk"
      },
      "execution_count": null,
      "outputs": []
    },
    {
      "cell_type": "code",
      "source": [
        "df.drop(\"Used_Drugs\",axis=1, inplace=True)"
      ],
      "metadata": {
        "id": "EOu4mfGgpNhB"
      },
      "execution_count": null,
      "outputs": []
    },
    {
      "cell_type": "code",
      "source": [
        "cols_to_use = [\"DM_Type2_Drug\", \"HT_drugs\"]\n",
        "\n",
        "def custom_sum(row, cols_to_use):\n",
        "    # Access values using the provided column names\n",
        "    val1 = row[cols_to_use[0]]\n",
        "    val2 = row[cols_to_use[1]]\n",
        "\n",
        "    # Case 1: Both are numerical (or can be converted to numerical)\n",
        "    try:\n",
        "        num1 = float(val1) # Try to convert to float\n",
        "        num2 = float(val2) # Try to convert to float\n",
        "        # If both are numbers, and one is 0, keep the other's value if it's a string\n",
        "        # This logic for mixing strings and numbers might be complex and depend on exact data\n",
        "        # If the goal is simple numeric sum, remove this string handling part.\n",
        "        if isinstance(val1, str) and num2 == 0:\n",
        "            return val1 # This part seems unusual if you expect numeric results or concatenation\n",
        "        if isinstance(val2, str) and num1 == 0:\n",
        "            return val2 # This part seems unusual\n",
        "        return num1 + num2 # Assuming numeric sum is desired for numeric values\n",
        "    except ValueError: # One or both are truly non-numeric strings\n",
        "        # Case 2: One is a string and the other is 0 (number)\n",
        "        if isinstance(val1, str) and (isinstance(val2, (int, float)) and val2 == 0):\n",
        "            return val1 # Returns the string if the other value is 0\n",
        "        elif isinstance(val2, str) and (isinstance(val1, (int, float)) and val1 == 0):\n",
        "            return val2 # Returns the string if the other value is 0\n",
        "        # Case 3: Both are strings\n",
        "        elif isinstance(val1, str) and isinstance(val2, str):\n",
        "            # Concatenate strings with a space\n",
        "            return f\"{val1} {val2}\".strip() # .strip() to avoid leading/trailing space if one is empty\n",
        "        # Case 4: Other mixed types (e.g., string and non-zero number) - decide your logic\n",
        "        # For this problem, we assume non-zero numbers are not mixed with strings.\n",
        "        # If they are, you might need more specific handling.\n",
        "        return np.nan # Return NaN for unhandled or unexpected cases\n"
      ],
      "metadata": {
        "id": "7wG7rPTopNdq"
      },
      "execution_count": null,
      "outputs": []
    },
    {
      "cell_type": "code",
      "source": [
        "df['Used_Drugs'] = df.apply(custom_sum, axis=1, args=(cols_to_use,))"
      ],
      "metadata": {
        "id": "Lb5uG3VbxrNp"
      },
      "execution_count": null,
      "outputs": []
    },
    {
      "cell_type": "code",
      "source": [
        "df.Used_Drugs.value_counts()"
      ],
      "metadata": {
        "colab": {
          "base_uri": "https://localhost:8080/",
          "height": 489
        },
        "id": "aeD08w9EwzzT",
        "outputId": "2275c7a0-216d-4e68-d1e0-ae4919950d2d"
      },
      "execution_count": null,
      "outputs": [
        {
          "output_type": "execute_result",
          "data": {
            "text/plain": [
              "Used_Drugs\n",
              "0.0                                                                                 1989\n",
              "metformin                                                                            108\n",
              "amlodipin                                                                             72\n",
              "ramipril                                                                              63\n",
              "perindopril                                                                           39\n",
              "                                                                                    ... \n",
              "vildagliptin,metformin,empagliflozin,insülin aspart ARB+benipin, metoprolol, hct       1\n",
              "metformin ramipril/furosemid/karvedilolol                                              1\n",
              "insülin,metformin                                                                      1\n",
              "ALDACTONE,DESAL,bisoprolol                                                             1\n",
              "METFORMİN,EMPAGLİFLOZİN,İNSÜLİN                                                        1\n",
              "Name: count, Length: 1714, dtype: int64"
            ],
            "text/html": [
              "<div>\n",
              "<style scoped>\n",
              "    .dataframe tbody tr th:only-of-type {\n",
              "        vertical-align: middle;\n",
              "    }\n",
              "\n",
              "    .dataframe tbody tr th {\n",
              "        vertical-align: top;\n",
              "    }\n",
              "\n",
              "    .dataframe thead th {\n",
              "        text-align: right;\n",
              "    }\n",
              "</style>\n",
              "<table border=\"1\" class=\"dataframe\">\n",
              "  <thead>\n",
              "    <tr style=\"text-align: right;\">\n",
              "      <th></th>\n",
              "      <th>count</th>\n",
              "    </tr>\n",
              "    <tr>\n",
              "      <th>Used_Drugs</th>\n",
              "      <th></th>\n",
              "    </tr>\n",
              "  </thead>\n",
              "  <tbody>\n",
              "    <tr>\n",
              "      <th>0.0</th>\n",
              "      <td>1989</td>\n",
              "    </tr>\n",
              "    <tr>\n",
              "      <th>metformin</th>\n",
              "      <td>108</td>\n",
              "    </tr>\n",
              "    <tr>\n",
              "      <th>amlodipin</th>\n",
              "      <td>72</td>\n",
              "    </tr>\n",
              "    <tr>\n",
              "      <th>ramipril</th>\n",
              "      <td>63</td>\n",
              "    </tr>\n",
              "    <tr>\n",
              "      <th>perindopril</th>\n",
              "      <td>39</td>\n",
              "    </tr>\n",
              "    <tr>\n",
              "      <th>...</th>\n",
              "      <td>...</td>\n",
              "    </tr>\n",
              "    <tr>\n",
              "      <th>vildagliptin,metformin,empagliflozin,insülin aspart ARB+benipin, metoprolol, hct</th>\n",
              "      <td>1</td>\n",
              "    </tr>\n",
              "    <tr>\n",
              "      <th>metformin ramipril/furosemid/karvedilolol</th>\n",
              "      <td>1</td>\n",
              "    </tr>\n",
              "    <tr>\n",
              "      <th>insülin,metformin</th>\n",
              "      <td>1</td>\n",
              "    </tr>\n",
              "    <tr>\n",
              "      <th>ALDACTONE,DESAL,bisoprolol</th>\n",
              "      <td>1</td>\n",
              "    </tr>\n",
              "    <tr>\n",
              "      <th>METFORMİN,EMPAGLİFLOZİN,İNSÜLİN</th>\n",
              "      <td>1</td>\n",
              "    </tr>\n",
              "  </tbody>\n",
              "</table>\n",
              "<p>1714 rows × 1 columns</p>\n",
              "</div><br><label><b>dtype:</b> int64</label>"
            ]
          },
          "metadata": {},
          "execution_count": 107
        }
      ]
    },
    {
      "cell_type": "code",
      "source": [
        "df.insert(14, 'Used_Drugs', df.pop('Used_Drugs'))"
      ],
      "metadata": {
        "id": "sv6Xw-TTyUcI"
      },
      "execution_count": null,
      "outputs": []
    },
    {
      "cell_type": "code",
      "source": [
        "df.to_excel('/content/drive/MyDrive/SARCOPENIA_PROJECT/Data_Set_Files/sarcopenia-data-set_columns_corrected_7.xlsx')"
      ],
      "metadata": {
        "id": "JCR95lwGyd1X"
      },
      "execution_count": null,
      "outputs": []
    },
    {
      "cell_type": "code",
      "source": [],
      "metadata": {
        "id": "yT7klCzNyy60"
      },
      "execution_count": null,
      "outputs": []
    }
  ]
}