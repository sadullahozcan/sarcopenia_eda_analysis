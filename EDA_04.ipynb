{
  "nbformat": 4,
  "nbformat_minor": 0,
  "metadata": {
    "colab": {
      "provenance": [],
      "mount_file_id": "10ko2OJDDv--tDPxN1R2Hm9L_xspXP-sF",
      "authorship_tag": "ABX9TyNIm4ltaNtWopi3O4aoYmFb",
      "include_colab_link": true
    },
    "kernelspec": {
      "name": "python3",
      "display_name": "Python 3"
    },
    "language_info": {
      "name": "python"
    }
  },
  "cells": [
    {
      "cell_type": "markdown",
      "metadata": {
        "id": "view-in-github",
        "colab_type": "text"
      },
      "source": [
        "<a href=\"https://colab.research.google.com/github/sadullahozcan/sarcopenia_eda_analysis/blob/main/EDA_04.ipynb\" target=\"_parent\"><img src=\"https://colab.research.google.com/assets/colab-badge.svg\" alt=\"Open In Colab\"/></a>"
      ]
    },
    {
      "cell_type": "code",
      "execution_count": 26,
      "metadata": {
        "id": "mjB9mHEAI09V"
      },
      "outputs": [],
      "source": [
        "import pandas as pd\n",
        "import numpy as np\n",
        "import matplotlib.pyplot as plt\n",
        "import seaborn as sns"
      ]
    },
    {
      "cell_type": "code",
      "source": [
        "from google.colab import drive\n",
        "drive.mount('/content/drive')"
      ],
      "metadata": {
        "colab": {
          "base_uri": "https://localhost:8080/"
        },
        "id": "G7uQegsYJfgb",
        "outputId": "bd7da936-0a8f-4daf-e4d3-70e4850e1e04"
      },
      "execution_count": 25,
      "outputs": [
        {
          "output_type": "stream",
          "name": "stdout",
          "text": [
            "Drive already mounted at /content/drive; to attempt to forcibly remount, call drive.mount(\"/content/drive\", force_remount=True).\n"
          ]
        }
      ]
    },
    {
      "cell_type": "code",
      "source": [
        "df = pd.read_excel(\"/content/drive/MyDrive/SARCOPENIA_PROJECT/sarcopenia-data-set_columns_corrected_3_final.xlsx\")"
      ],
      "metadata": {
        "id": "AfVquYIzJr_D"
      },
      "execution_count": null,
      "outputs": []
    },
    {
      "cell_type": "code",
      "source": [
        "df.columns"
      ],
      "metadata": {
        "colab": {
          "base_uri": "https://localhost:8080/"
        },
        "id": "la2Y9qGSKyOE",
        "outputId": "4a568a19-8057-4090-b6f7-eff955b9ae27"
      },
      "execution_count": null,
      "outputs": [
        {
          "output_type": "execute_result",
          "data": {
            "text/plain": [
              "Index(['Unnamed: 0.2', 'Unnamed: 0.1', 'Unnamed: 0', 'Name', 'Order', 'Gender',\n",
              "       'Age', 'Weight', 'Height', 'Waist', 'Hip', 'Smoking',\n",
              "       'Smoking_packet_per_year', 'Alcohol', 'DM_Type2', 'DM_Type2_Duration',\n",
              "       'Insulin', 'DM_Type2_Drug', 'DM_Type2_Drug_Usage', 'Dyslipidemia',\n",
              "       'Dyslipidemia_duration', 'KAH', 'KAH_Duration', 'Hipotiroidi', 'Asthma',\n",
              "       'COPD', 'OP', 'HT', 'Duration_of_HT', 'N_HT', 'HT_drugs',\n",
              "       'HT_Drug_Usage', 'Duration_of_1HT', 'Education', 'Job', 'Status',\n",
              "       'Work_Status', 'Exercise', 'Exercise_Status', 'AT', 'CST', 'Gait_Speed',\n",
              "       'Grip_Str', 'STAR', 'BMI', 'MMSE', 'Sarcopenia'],\n",
              "      dtype='object')"
            ]
          },
          "metadata": {},
          "execution_count": 4
        }
      ]
    },
    {
      "cell_type": "code",
      "source": [
        "df.head(n=5)"
      ],
      "metadata": {
        "colab": {
          "base_uri": "https://localhost:8080/",
          "height": 359
        },
        "id": "q8YGE3-UK1ZH",
        "outputId": "01e4a2a3-c6c7-42f5-bd12-1588d1c51185"
      },
      "execution_count": null,
      "outputs": [
        {
          "output_type": "execute_result",
          "data": {
            "text/plain": [
              "   Unnamed: 0.2  Unnamed: 0.1  Unnamed: 0        Name  Order Gender   Age  \\\n",
              "0             0             0           0  beyzanur 0      1      M  74.0   \n",
              "1             1             1           1  beyzanur 1      2      M  62.0   \n",
              "2             2             2           2  beyzanur 2      3      M  65.0   \n",
              "3             3             3           3  beyzanur 3      4      F  71.0   \n",
              "4             4             4           4  beyzanur 4      5      F  61.0   \n",
              "\n",
              "   Weight  Height  Waist  ...  Exercise  Exercise_Status    AT   CST  \\\n",
              "0    88.0   178.0  113.0  ...  3-4/week                1  50.2  12.5   \n",
              "1   105.0   172.0  125.0  ...         0                0  49.0  12.1   \n",
              "2    89.0   169.0  110.0  ...  3-4/week                1  37.3   8.7   \n",
              "3    68.0   160.0  103.0  ...  1-2/week                1  29.5   8.3   \n",
              "4    80.0   160.0  102.0  ...  1-2/week                1  39.5  11.0   \n",
              "\n",
              "   Gait_Speed  Grip_Str  STAR   BMI  MMSE  Sarcopenia  \n",
              "0        1.21      32.0  1.81  27.8    29           0  \n",
              "1        1.42      47.0  1.38  35.5    30           1  \n",
              "2        1.18      33.0  1.20  31.2    28           0  \n",
              "3        1.23      25.0  1.11  26.6    29           0  \n",
              "4        1.31      31.0  1.26  31.3    27           0  \n",
              "\n",
              "[5 rows x 47 columns]"
            ],
            "text/html": [
              "\n",
              "  <div id=\"df-31fd2dd5-0d00-4f0f-a7cf-158b83517974\" class=\"colab-df-container\">\n",
              "    <div>\n",
              "<style scoped>\n",
              "    .dataframe tbody tr th:only-of-type {\n",
              "        vertical-align: middle;\n",
              "    }\n",
              "\n",
              "    .dataframe tbody tr th {\n",
              "        vertical-align: top;\n",
              "    }\n",
              "\n",
              "    .dataframe thead th {\n",
              "        text-align: right;\n",
              "    }\n",
              "</style>\n",
              "<table border=\"1\" class=\"dataframe\">\n",
              "  <thead>\n",
              "    <tr style=\"text-align: right;\">\n",
              "      <th></th>\n",
              "      <th>Unnamed: 0.2</th>\n",
              "      <th>Unnamed: 0.1</th>\n",
              "      <th>Unnamed: 0</th>\n",
              "      <th>Name</th>\n",
              "      <th>Order</th>\n",
              "      <th>Gender</th>\n",
              "      <th>Age</th>\n",
              "      <th>Weight</th>\n",
              "      <th>Height</th>\n",
              "      <th>Waist</th>\n",
              "      <th>...</th>\n",
              "      <th>Exercise</th>\n",
              "      <th>Exercise_Status</th>\n",
              "      <th>AT</th>\n",
              "      <th>CST</th>\n",
              "      <th>Gait_Speed</th>\n",
              "      <th>Grip_Str</th>\n",
              "      <th>STAR</th>\n",
              "      <th>BMI</th>\n",
              "      <th>MMSE</th>\n",
              "      <th>Sarcopenia</th>\n",
              "    </tr>\n",
              "  </thead>\n",
              "  <tbody>\n",
              "    <tr>\n",
              "      <th>0</th>\n",
              "      <td>0</td>\n",
              "      <td>0</td>\n",
              "      <td>0</td>\n",
              "      <td>beyzanur 0</td>\n",
              "      <td>1</td>\n",
              "      <td>M</td>\n",
              "      <td>74.0</td>\n",
              "      <td>88.0</td>\n",
              "      <td>178.0</td>\n",
              "      <td>113.0</td>\n",
              "      <td>...</td>\n",
              "      <td>3-4/week</td>\n",
              "      <td>1</td>\n",
              "      <td>50.2</td>\n",
              "      <td>12.5</td>\n",
              "      <td>1.21</td>\n",
              "      <td>32.0</td>\n",
              "      <td>1.81</td>\n",
              "      <td>27.8</td>\n",
              "      <td>29</td>\n",
              "      <td>0</td>\n",
              "    </tr>\n",
              "    <tr>\n",
              "      <th>1</th>\n",
              "      <td>1</td>\n",
              "      <td>1</td>\n",
              "      <td>1</td>\n",
              "      <td>beyzanur 1</td>\n",
              "      <td>2</td>\n",
              "      <td>M</td>\n",
              "      <td>62.0</td>\n",
              "      <td>105.0</td>\n",
              "      <td>172.0</td>\n",
              "      <td>125.0</td>\n",
              "      <td>...</td>\n",
              "      <td>0</td>\n",
              "      <td>0</td>\n",
              "      <td>49.0</td>\n",
              "      <td>12.1</td>\n",
              "      <td>1.42</td>\n",
              "      <td>47.0</td>\n",
              "      <td>1.38</td>\n",
              "      <td>35.5</td>\n",
              "      <td>30</td>\n",
              "      <td>1</td>\n",
              "    </tr>\n",
              "    <tr>\n",
              "      <th>2</th>\n",
              "      <td>2</td>\n",
              "      <td>2</td>\n",
              "      <td>2</td>\n",
              "      <td>beyzanur 2</td>\n",
              "      <td>3</td>\n",
              "      <td>M</td>\n",
              "      <td>65.0</td>\n",
              "      <td>89.0</td>\n",
              "      <td>169.0</td>\n",
              "      <td>110.0</td>\n",
              "      <td>...</td>\n",
              "      <td>3-4/week</td>\n",
              "      <td>1</td>\n",
              "      <td>37.3</td>\n",
              "      <td>8.7</td>\n",
              "      <td>1.18</td>\n",
              "      <td>33.0</td>\n",
              "      <td>1.20</td>\n",
              "      <td>31.2</td>\n",
              "      <td>28</td>\n",
              "      <td>0</td>\n",
              "    </tr>\n",
              "    <tr>\n",
              "      <th>3</th>\n",
              "      <td>3</td>\n",
              "      <td>3</td>\n",
              "      <td>3</td>\n",
              "      <td>beyzanur 3</td>\n",
              "      <td>4</td>\n",
              "      <td>F</td>\n",
              "      <td>71.0</td>\n",
              "      <td>68.0</td>\n",
              "      <td>160.0</td>\n",
              "      <td>103.0</td>\n",
              "      <td>...</td>\n",
              "      <td>1-2/week</td>\n",
              "      <td>1</td>\n",
              "      <td>29.5</td>\n",
              "      <td>8.3</td>\n",
              "      <td>1.23</td>\n",
              "      <td>25.0</td>\n",
              "      <td>1.11</td>\n",
              "      <td>26.6</td>\n",
              "      <td>29</td>\n",
              "      <td>0</td>\n",
              "    </tr>\n",
              "    <tr>\n",
              "      <th>4</th>\n",
              "      <td>4</td>\n",
              "      <td>4</td>\n",
              "      <td>4</td>\n",
              "      <td>beyzanur 4</td>\n",
              "      <td>5</td>\n",
              "      <td>F</td>\n",
              "      <td>61.0</td>\n",
              "      <td>80.0</td>\n",
              "      <td>160.0</td>\n",
              "      <td>102.0</td>\n",
              "      <td>...</td>\n",
              "      <td>1-2/week</td>\n",
              "      <td>1</td>\n",
              "      <td>39.5</td>\n",
              "      <td>11.0</td>\n",
              "      <td>1.31</td>\n",
              "      <td>31.0</td>\n",
              "      <td>1.26</td>\n",
              "      <td>31.3</td>\n",
              "      <td>27</td>\n",
              "      <td>0</td>\n",
              "    </tr>\n",
              "  </tbody>\n",
              "</table>\n",
              "<p>5 rows × 47 columns</p>\n",
              "</div>\n",
              "    <div class=\"colab-df-buttons\">\n",
              "\n",
              "  <div class=\"colab-df-container\">\n",
              "    <button class=\"colab-df-convert\" onclick=\"convertToInteractive('df-31fd2dd5-0d00-4f0f-a7cf-158b83517974')\"\n",
              "            title=\"Convert this dataframe to an interactive table.\"\n",
              "            style=\"display:none;\">\n",
              "\n",
              "  <svg xmlns=\"http://www.w3.org/2000/svg\" height=\"24px\" viewBox=\"0 -960 960 960\">\n",
              "    <path d=\"M120-120v-720h720v720H120Zm60-500h600v-160H180v160Zm220 220h160v-160H400v160Zm0 220h160v-160H400v160ZM180-400h160v-160H180v160Zm440 0h160v-160H620v160ZM180-180h160v-160H180v160Zm440 0h160v-160H620v160Z\"/>\n",
              "  </svg>\n",
              "    </button>\n",
              "\n",
              "  <style>\n",
              "    .colab-df-container {\n",
              "      display:flex;\n",
              "      gap: 12px;\n",
              "    }\n",
              "\n",
              "    .colab-df-convert {\n",
              "      background-color: #E8F0FE;\n",
              "      border: none;\n",
              "      border-radius: 50%;\n",
              "      cursor: pointer;\n",
              "      display: none;\n",
              "      fill: #1967D2;\n",
              "      height: 32px;\n",
              "      padding: 0 0 0 0;\n",
              "      width: 32px;\n",
              "    }\n",
              "\n",
              "    .colab-df-convert:hover {\n",
              "      background-color: #E2EBFA;\n",
              "      box-shadow: 0px 1px 2px rgba(60, 64, 67, 0.3), 0px 1px 3px 1px rgba(60, 64, 67, 0.15);\n",
              "      fill: #174EA6;\n",
              "    }\n",
              "\n",
              "    .colab-df-buttons div {\n",
              "      margin-bottom: 4px;\n",
              "    }\n",
              "\n",
              "    [theme=dark] .colab-df-convert {\n",
              "      background-color: #3B4455;\n",
              "      fill: #D2E3FC;\n",
              "    }\n",
              "\n",
              "    [theme=dark] .colab-df-convert:hover {\n",
              "      background-color: #434B5C;\n",
              "      box-shadow: 0px 1px 3px 1px rgba(0, 0, 0, 0.15);\n",
              "      filter: drop-shadow(0px 1px 2px rgba(0, 0, 0, 0.3));\n",
              "      fill: #FFFFFF;\n",
              "    }\n",
              "  </style>\n",
              "\n",
              "    <script>\n",
              "      const buttonEl =\n",
              "        document.querySelector('#df-31fd2dd5-0d00-4f0f-a7cf-158b83517974 button.colab-df-convert');\n",
              "      buttonEl.style.display =\n",
              "        google.colab.kernel.accessAllowed ? 'block' : 'none';\n",
              "\n",
              "      async function convertToInteractive(key) {\n",
              "        const element = document.querySelector('#df-31fd2dd5-0d00-4f0f-a7cf-158b83517974');\n",
              "        const dataTable =\n",
              "          await google.colab.kernel.invokeFunction('convertToInteractive',\n",
              "                                                    [key], {});\n",
              "        if (!dataTable) return;\n",
              "\n",
              "        const docLinkHtml = 'Like what you see? Visit the ' +\n",
              "          '<a target=\"_blank\" href=https://colab.research.google.com/notebooks/data_table.ipynb>data table notebook</a>'\n",
              "          + ' to learn more about interactive tables.';\n",
              "        element.innerHTML = '';\n",
              "        dataTable['output_type'] = 'display_data';\n",
              "        await google.colab.output.renderOutput(dataTable, element);\n",
              "        const docLink = document.createElement('div');\n",
              "        docLink.innerHTML = docLinkHtml;\n",
              "        element.appendChild(docLink);\n",
              "      }\n",
              "    </script>\n",
              "  </div>\n",
              "\n",
              "\n",
              "    <div id=\"df-82429815-b26c-4c93-9c30-cfb088b0fd1a\">\n",
              "      <button class=\"colab-df-quickchart\" onclick=\"quickchart('df-82429815-b26c-4c93-9c30-cfb088b0fd1a')\"\n",
              "                title=\"Suggest charts\"\n",
              "                style=\"display:none;\">\n",
              "\n",
              "<svg xmlns=\"http://www.w3.org/2000/svg\" height=\"24px\"viewBox=\"0 0 24 24\"\n",
              "     width=\"24px\">\n",
              "    <g>\n",
              "        <path d=\"M19 3H5c-1.1 0-2 .9-2 2v14c0 1.1.9 2 2 2h14c1.1 0 2-.9 2-2V5c0-1.1-.9-2-2-2zM9 17H7v-7h2v7zm4 0h-2V7h2v10zm4 0h-2v-4h2v4z\"/>\n",
              "    </g>\n",
              "</svg>\n",
              "      </button>\n",
              "\n",
              "<style>\n",
              "  .colab-df-quickchart {\n",
              "      --bg-color: #E8F0FE;\n",
              "      --fill-color: #1967D2;\n",
              "      --hover-bg-color: #E2EBFA;\n",
              "      --hover-fill-color: #174EA6;\n",
              "      --disabled-fill-color: #AAA;\n",
              "      --disabled-bg-color: #DDD;\n",
              "  }\n",
              "\n",
              "  [theme=dark] .colab-df-quickchart {\n",
              "      --bg-color: #3B4455;\n",
              "      --fill-color: #D2E3FC;\n",
              "      --hover-bg-color: #434B5C;\n",
              "      --hover-fill-color: #FFFFFF;\n",
              "      --disabled-bg-color: #3B4455;\n",
              "      --disabled-fill-color: #666;\n",
              "  }\n",
              "\n",
              "  .colab-df-quickchart {\n",
              "    background-color: var(--bg-color);\n",
              "    border: none;\n",
              "    border-radius: 50%;\n",
              "    cursor: pointer;\n",
              "    display: none;\n",
              "    fill: var(--fill-color);\n",
              "    height: 32px;\n",
              "    padding: 0;\n",
              "    width: 32px;\n",
              "  }\n",
              "\n",
              "  .colab-df-quickchart:hover {\n",
              "    background-color: var(--hover-bg-color);\n",
              "    box-shadow: 0 1px 2px rgba(60, 64, 67, 0.3), 0 1px 3px 1px rgba(60, 64, 67, 0.15);\n",
              "    fill: var(--button-hover-fill-color);\n",
              "  }\n",
              "\n",
              "  .colab-df-quickchart-complete:disabled,\n",
              "  .colab-df-quickchart-complete:disabled:hover {\n",
              "    background-color: var(--disabled-bg-color);\n",
              "    fill: var(--disabled-fill-color);\n",
              "    box-shadow: none;\n",
              "  }\n",
              "\n",
              "  .colab-df-spinner {\n",
              "    border: 2px solid var(--fill-color);\n",
              "    border-color: transparent;\n",
              "    border-bottom-color: var(--fill-color);\n",
              "    animation:\n",
              "      spin 1s steps(1) infinite;\n",
              "  }\n",
              "\n",
              "  @keyframes spin {\n",
              "    0% {\n",
              "      border-color: transparent;\n",
              "      border-bottom-color: var(--fill-color);\n",
              "      border-left-color: var(--fill-color);\n",
              "    }\n",
              "    20% {\n",
              "      border-color: transparent;\n",
              "      border-left-color: var(--fill-color);\n",
              "      border-top-color: var(--fill-color);\n",
              "    }\n",
              "    30% {\n",
              "      border-color: transparent;\n",
              "      border-left-color: var(--fill-color);\n",
              "      border-top-color: var(--fill-color);\n",
              "      border-right-color: var(--fill-color);\n",
              "    }\n",
              "    40% {\n",
              "      border-color: transparent;\n",
              "      border-right-color: var(--fill-color);\n",
              "      border-top-color: var(--fill-color);\n",
              "    }\n",
              "    60% {\n",
              "      border-color: transparent;\n",
              "      border-right-color: var(--fill-color);\n",
              "    }\n",
              "    80% {\n",
              "      border-color: transparent;\n",
              "      border-right-color: var(--fill-color);\n",
              "      border-bottom-color: var(--fill-color);\n",
              "    }\n",
              "    90% {\n",
              "      border-color: transparent;\n",
              "      border-bottom-color: var(--fill-color);\n",
              "    }\n",
              "  }\n",
              "</style>\n",
              "\n",
              "      <script>\n",
              "        async function quickchart(key) {\n",
              "          const quickchartButtonEl =\n",
              "            document.querySelector('#' + key + ' button');\n",
              "          quickchartButtonEl.disabled = true;  // To prevent multiple clicks.\n",
              "          quickchartButtonEl.classList.add('colab-df-spinner');\n",
              "          try {\n",
              "            const charts = await google.colab.kernel.invokeFunction(\n",
              "                'suggestCharts', [key], {});\n",
              "          } catch (error) {\n",
              "            console.error('Error during call to suggestCharts:', error);\n",
              "          }\n",
              "          quickchartButtonEl.classList.remove('colab-df-spinner');\n",
              "          quickchartButtonEl.classList.add('colab-df-quickchart-complete');\n",
              "        }\n",
              "        (() => {\n",
              "          let quickchartButtonEl =\n",
              "            document.querySelector('#df-82429815-b26c-4c93-9c30-cfb088b0fd1a button');\n",
              "          quickchartButtonEl.style.display =\n",
              "            google.colab.kernel.accessAllowed ? 'block' : 'none';\n",
              "        })();\n",
              "      </script>\n",
              "    </div>\n",
              "\n",
              "    </div>\n",
              "  </div>\n"
            ],
            "application/vnd.google.colaboratory.intrinsic+json": {
              "type": "dataframe",
              "variable_name": "df"
            }
          },
          "metadata": {},
          "execution_count": 5
        }
      ]
    },
    {
      "cell_type": "code",
      "source": [
        "df.drop('Unnamed: 0', axis=1, inplace=True)"
      ],
      "metadata": {
        "id": "QijokEG4OS8M"
      },
      "execution_count": null,
      "outputs": []
    },
    {
      "cell_type": "code",
      "source": [
        "df.drop('Unnamed: 0.1', axis=1, inplace=True)"
      ],
      "metadata": {
        "id": "pJ0nKU9pOSwv"
      },
      "execution_count": null,
      "outputs": []
    },
    {
      "cell_type": "code",
      "source": [
        "df.drop('Unnamed: 0.2', axis=1, inplace=True)"
      ],
      "metadata": {
        "id": "8gwtnnsDOo0W"
      },
      "execution_count": null,
      "outputs": []
    },
    {
      "cell_type": "code",
      "source": [
        "df.drop('Order',axis=1, inplace=True)"
      ],
      "metadata": {
        "colab": {
          "base_uri": "https://localhost:8080/",
          "height": 298
        },
        "id": "27BSwVypO4qV",
        "outputId": "ae760184-d6b2-4b06-a63e-3916790454d8"
      },
      "execution_count": null,
      "outputs": [
        {
          "output_type": "error",
          "ename": "KeyError",
          "evalue": "\"['Order'] not found in axis\"",
          "traceback": [
            "\u001b[0;31m---------------------------------------------------------------------------\u001b[0m",
            "\u001b[0;31mKeyError\u001b[0m                                  Traceback (most recent call last)",
            "\u001b[0;32m<ipython-input-22-1040869886>\u001b[0m in \u001b[0;36m<cell line: 0>\u001b[0;34m()\u001b[0m\n\u001b[0;32m----> 1\u001b[0;31m \u001b[0mdf\u001b[0m\u001b[0;34m.\u001b[0m\u001b[0mdrop\u001b[0m\u001b[0;34m(\u001b[0m\u001b[0;34m'Order'\u001b[0m\u001b[0;34m,\u001b[0m\u001b[0maxis\u001b[0m\u001b[0;34m=\u001b[0m\u001b[0;36m1\u001b[0m\u001b[0;34m,\u001b[0m \u001b[0minplace\u001b[0m\u001b[0;34m=\u001b[0m\u001b[0;32mTrue\u001b[0m\u001b[0;34m)\u001b[0m\u001b[0;34m\u001b[0m\u001b[0;34m\u001b[0m\u001b[0m\n\u001b[0m",
            "\u001b[0;32m/usr/local/lib/python3.11/dist-packages/pandas/core/frame.py\u001b[0m in \u001b[0;36mdrop\u001b[0;34m(self, labels, axis, index, columns, level, inplace, errors)\u001b[0m\n\u001b[1;32m   5579\u001b[0m                 \u001b[0mweight\u001b[0m  \u001b[0;36m1.0\u001b[0m     \u001b[0;36m0.8\u001b[0m\u001b[0;34m\u001b[0m\u001b[0;34m\u001b[0m\u001b[0m\n\u001b[1;32m   5580\u001b[0m         \"\"\"\n\u001b[0;32m-> 5581\u001b[0;31m         return super().drop(\n\u001b[0m\u001b[1;32m   5582\u001b[0m             \u001b[0mlabels\u001b[0m\u001b[0;34m=\u001b[0m\u001b[0mlabels\u001b[0m\u001b[0;34m,\u001b[0m\u001b[0;34m\u001b[0m\u001b[0;34m\u001b[0m\u001b[0m\n\u001b[1;32m   5583\u001b[0m             \u001b[0maxis\u001b[0m\u001b[0;34m=\u001b[0m\u001b[0maxis\u001b[0m\u001b[0;34m,\u001b[0m\u001b[0;34m\u001b[0m\u001b[0;34m\u001b[0m\u001b[0m\n",
            "\u001b[0;32m/usr/local/lib/python3.11/dist-packages/pandas/core/generic.py\u001b[0m in \u001b[0;36mdrop\u001b[0;34m(self, labels, axis, index, columns, level, inplace, errors)\u001b[0m\n\u001b[1;32m   4786\u001b[0m         \u001b[0;32mfor\u001b[0m \u001b[0maxis\u001b[0m\u001b[0;34m,\u001b[0m \u001b[0mlabels\u001b[0m \u001b[0;32min\u001b[0m \u001b[0maxes\u001b[0m\u001b[0;34m.\u001b[0m\u001b[0mitems\u001b[0m\u001b[0;34m(\u001b[0m\u001b[0;34m)\u001b[0m\u001b[0;34m:\u001b[0m\u001b[0;34m\u001b[0m\u001b[0;34m\u001b[0m\u001b[0m\n\u001b[1;32m   4787\u001b[0m             \u001b[0;32mif\u001b[0m \u001b[0mlabels\u001b[0m \u001b[0;32mis\u001b[0m \u001b[0;32mnot\u001b[0m \u001b[0;32mNone\u001b[0m\u001b[0;34m:\u001b[0m\u001b[0;34m\u001b[0m\u001b[0;34m\u001b[0m\u001b[0m\n\u001b[0;32m-> 4788\u001b[0;31m                 \u001b[0mobj\u001b[0m \u001b[0;34m=\u001b[0m \u001b[0mobj\u001b[0m\u001b[0;34m.\u001b[0m\u001b[0m_drop_axis\u001b[0m\u001b[0;34m(\u001b[0m\u001b[0mlabels\u001b[0m\u001b[0;34m,\u001b[0m \u001b[0maxis\u001b[0m\u001b[0;34m,\u001b[0m \u001b[0mlevel\u001b[0m\u001b[0;34m=\u001b[0m\u001b[0mlevel\u001b[0m\u001b[0;34m,\u001b[0m \u001b[0merrors\u001b[0m\u001b[0;34m=\u001b[0m\u001b[0merrors\u001b[0m\u001b[0;34m)\u001b[0m\u001b[0;34m\u001b[0m\u001b[0;34m\u001b[0m\u001b[0m\n\u001b[0m\u001b[1;32m   4789\u001b[0m \u001b[0;34m\u001b[0m\u001b[0m\n\u001b[1;32m   4790\u001b[0m         \u001b[0;32mif\u001b[0m \u001b[0minplace\u001b[0m\u001b[0;34m:\u001b[0m\u001b[0;34m\u001b[0m\u001b[0;34m\u001b[0m\u001b[0m\n",
            "\u001b[0;32m/usr/local/lib/python3.11/dist-packages/pandas/core/generic.py\u001b[0m in \u001b[0;36m_drop_axis\u001b[0;34m(self, labels, axis, level, errors, only_slice)\u001b[0m\n\u001b[1;32m   4828\u001b[0m                 \u001b[0mnew_axis\u001b[0m \u001b[0;34m=\u001b[0m \u001b[0maxis\u001b[0m\u001b[0;34m.\u001b[0m\u001b[0mdrop\u001b[0m\u001b[0;34m(\u001b[0m\u001b[0mlabels\u001b[0m\u001b[0;34m,\u001b[0m \u001b[0mlevel\u001b[0m\u001b[0;34m=\u001b[0m\u001b[0mlevel\u001b[0m\u001b[0;34m,\u001b[0m \u001b[0merrors\u001b[0m\u001b[0;34m=\u001b[0m\u001b[0merrors\u001b[0m\u001b[0;34m)\u001b[0m\u001b[0;34m\u001b[0m\u001b[0;34m\u001b[0m\u001b[0m\n\u001b[1;32m   4829\u001b[0m             \u001b[0;32melse\u001b[0m\u001b[0;34m:\u001b[0m\u001b[0;34m\u001b[0m\u001b[0;34m\u001b[0m\u001b[0m\n\u001b[0;32m-> 4830\u001b[0;31m                 \u001b[0mnew_axis\u001b[0m \u001b[0;34m=\u001b[0m \u001b[0maxis\u001b[0m\u001b[0;34m.\u001b[0m\u001b[0mdrop\u001b[0m\u001b[0;34m(\u001b[0m\u001b[0mlabels\u001b[0m\u001b[0;34m,\u001b[0m \u001b[0merrors\u001b[0m\u001b[0;34m=\u001b[0m\u001b[0merrors\u001b[0m\u001b[0;34m)\u001b[0m\u001b[0;34m\u001b[0m\u001b[0;34m\u001b[0m\u001b[0m\n\u001b[0m\u001b[1;32m   4831\u001b[0m             \u001b[0mindexer\u001b[0m \u001b[0;34m=\u001b[0m \u001b[0maxis\u001b[0m\u001b[0;34m.\u001b[0m\u001b[0mget_indexer\u001b[0m\u001b[0;34m(\u001b[0m\u001b[0mnew_axis\u001b[0m\u001b[0;34m)\u001b[0m\u001b[0;34m\u001b[0m\u001b[0;34m\u001b[0m\u001b[0m\n\u001b[1;32m   4832\u001b[0m \u001b[0;34m\u001b[0m\u001b[0m\n",
            "\u001b[0;32m/usr/local/lib/python3.11/dist-packages/pandas/core/indexes/base.py\u001b[0m in \u001b[0;36mdrop\u001b[0;34m(self, labels, errors)\u001b[0m\n\u001b[1;32m   7068\u001b[0m         \u001b[0;32mif\u001b[0m \u001b[0mmask\u001b[0m\u001b[0;34m.\u001b[0m\u001b[0many\u001b[0m\u001b[0;34m(\u001b[0m\u001b[0;34m)\u001b[0m\u001b[0;34m:\u001b[0m\u001b[0;34m\u001b[0m\u001b[0;34m\u001b[0m\u001b[0m\n\u001b[1;32m   7069\u001b[0m             \u001b[0;32mif\u001b[0m \u001b[0merrors\u001b[0m \u001b[0;34m!=\u001b[0m \u001b[0;34m\"ignore\"\u001b[0m\u001b[0;34m:\u001b[0m\u001b[0;34m\u001b[0m\u001b[0;34m\u001b[0m\u001b[0m\n\u001b[0;32m-> 7070\u001b[0;31m                 \u001b[0;32mraise\u001b[0m \u001b[0mKeyError\u001b[0m\u001b[0;34m(\u001b[0m\u001b[0;34mf\"{labels[mask].tolist()} not found in axis\"\u001b[0m\u001b[0;34m)\u001b[0m\u001b[0;34m\u001b[0m\u001b[0;34m\u001b[0m\u001b[0m\n\u001b[0m\u001b[1;32m   7071\u001b[0m             \u001b[0mindexer\u001b[0m \u001b[0;34m=\u001b[0m \u001b[0mindexer\u001b[0m\u001b[0;34m[\u001b[0m\u001b[0;34m~\u001b[0m\u001b[0mmask\u001b[0m\u001b[0;34m]\u001b[0m\u001b[0;34m\u001b[0m\u001b[0;34m\u001b[0m\u001b[0m\n\u001b[1;32m   7072\u001b[0m         \u001b[0;32mreturn\u001b[0m \u001b[0mself\u001b[0m\u001b[0;34m.\u001b[0m\u001b[0mdelete\u001b[0m\u001b[0;34m(\u001b[0m\u001b[0mindexer\u001b[0m\u001b[0;34m)\u001b[0m\u001b[0;34m\u001b[0m\u001b[0;34m\u001b[0m\u001b[0m\n",
            "\u001b[0;31mKeyError\u001b[0m: \"['Order'] not found in axis\""
          ]
        }
      ]
    },
    {
      "cell_type": "code",
      "source": [
        "df.Job.value_counts()"
      ],
      "metadata": {
        "colab": {
          "base_uri": "https://localhost:8080/",
          "height": 489
        },
        "id": "-TbaTz1GLD-e",
        "outputId": "d9a95935-e33d-4562-8333-212bb651dfc8"
      },
      "execution_count": null,
      "outputs": [
        {
          "output_type": "execute_result",
          "data": {
            "text/plain": [
              "Job\n",
              "housewife                 2256\n",
              "worker                     432\n",
              "public officer             315\n",
              "retired or not working     307\n",
              "retired                    163\n",
              "                          ... \n",
              "babysitter                   1\n",
              "modelist                     1\n",
              "general store                1\n",
              "pastry maker                 1\n",
              "printer                      1\n",
              "Name: count, Length: 141, dtype: int64"
            ],
            "text/html": [
              "<div>\n",
              "<style scoped>\n",
              "    .dataframe tbody tr th:only-of-type {\n",
              "        vertical-align: middle;\n",
              "    }\n",
              "\n",
              "    .dataframe tbody tr th {\n",
              "        vertical-align: top;\n",
              "    }\n",
              "\n",
              "    .dataframe thead th {\n",
              "        text-align: right;\n",
              "    }\n",
              "</style>\n",
              "<table border=\"1\" class=\"dataframe\">\n",
              "  <thead>\n",
              "    <tr style=\"text-align: right;\">\n",
              "      <th></th>\n",
              "      <th>count</th>\n",
              "    </tr>\n",
              "    <tr>\n",
              "      <th>Job</th>\n",
              "      <th></th>\n",
              "    </tr>\n",
              "  </thead>\n",
              "  <tbody>\n",
              "    <tr>\n",
              "      <th>housewife</th>\n",
              "      <td>2256</td>\n",
              "    </tr>\n",
              "    <tr>\n",
              "      <th>worker</th>\n",
              "      <td>432</td>\n",
              "    </tr>\n",
              "    <tr>\n",
              "      <th>public officer</th>\n",
              "      <td>315</td>\n",
              "    </tr>\n",
              "    <tr>\n",
              "      <th>retired or not working</th>\n",
              "      <td>307</td>\n",
              "    </tr>\n",
              "    <tr>\n",
              "      <th>retired</th>\n",
              "      <td>163</td>\n",
              "    </tr>\n",
              "    <tr>\n",
              "      <th>...</th>\n",
              "      <td>...</td>\n",
              "    </tr>\n",
              "    <tr>\n",
              "      <th>babysitter</th>\n",
              "      <td>1</td>\n",
              "    </tr>\n",
              "    <tr>\n",
              "      <th>modelist</th>\n",
              "      <td>1</td>\n",
              "    </tr>\n",
              "    <tr>\n",
              "      <th>general store</th>\n",
              "      <td>1</td>\n",
              "    </tr>\n",
              "    <tr>\n",
              "      <th>pastry maker</th>\n",
              "      <td>1</td>\n",
              "    </tr>\n",
              "    <tr>\n",
              "      <th>printer</th>\n",
              "      <td>1</td>\n",
              "    </tr>\n",
              "  </tbody>\n",
              "</table>\n",
              "<p>141 rows × 1 columns</p>\n",
              "</div><br><label><b>dtype:</b> int64</label>"
            ]
          },
          "metadata": {},
          "execution_count": 10
        }
      ]
    },
    {
      "cell_type": "code",
      "source": [
        "df.Status.value_counts()"
      ],
      "metadata": {
        "colab": {
          "base_uri": "https://localhost:8080/",
          "height": 209
        },
        "id": "EaYhrWKrLxB3",
        "outputId": "5b70c822-c72b-4716-e395-f271bef6038b"
      },
      "execution_count": null,
      "outputs": [
        {
          "output_type": "execute_result",
          "data": {
            "text/plain": [
              "Status\n",
              "not working    4046\n",
              "working         797\n",
              "unknown         173\n",
              "Name: count, dtype: int64"
            ],
            "text/html": [
              "<div>\n",
              "<style scoped>\n",
              "    .dataframe tbody tr th:only-of-type {\n",
              "        vertical-align: middle;\n",
              "    }\n",
              "\n",
              "    .dataframe tbody tr th {\n",
              "        vertical-align: top;\n",
              "    }\n",
              "\n",
              "    .dataframe thead th {\n",
              "        text-align: right;\n",
              "    }\n",
              "</style>\n",
              "<table border=\"1\" class=\"dataframe\">\n",
              "  <thead>\n",
              "    <tr style=\"text-align: right;\">\n",
              "      <th></th>\n",
              "      <th>count</th>\n",
              "    </tr>\n",
              "    <tr>\n",
              "      <th>Status</th>\n",
              "      <th></th>\n",
              "    </tr>\n",
              "  </thead>\n",
              "  <tbody>\n",
              "    <tr>\n",
              "      <th>not working</th>\n",
              "      <td>4046</td>\n",
              "    </tr>\n",
              "    <tr>\n",
              "      <th>working</th>\n",
              "      <td>797</td>\n",
              "    </tr>\n",
              "    <tr>\n",
              "      <th>unknown</th>\n",
              "      <td>173</td>\n",
              "    </tr>\n",
              "  </tbody>\n",
              "</table>\n",
              "</div><br><label><b>dtype:</b> int64</label>"
            ]
          },
          "metadata": {},
          "execution_count": 11
        }
      ]
    },
    {
      "cell_type": "markdown",
      "source": [
        "# **Feature Engineering**"
      ],
      "metadata": {
        "id": "AIVGJAIUMYv1"
      }
    },
    {
      "cell_type": "markdown",
      "source": [
        "**Age Column Binning**"
      ],
      "metadata": {
        "id": "n7ncOIaYMddk"
      }
    },
    {
      "cell_type": "code",
      "source": [
        "df['Age_Group'] = pd.cut(df['Age'], bins=[0,20, 40, 60, 80, 100], labels=['AGE 0-20', 'AGE 20-40', 'AGE 40-60', 'AGE 60-80','AGE 80-100'])"
      ],
      "metadata": {
        "id": "yfoudBJ3L_jj"
      },
      "execution_count": null,
      "outputs": []
    },
    {
      "cell_type": "code",
      "source": [
        "df.columns"
      ],
      "metadata": {
        "colab": {
          "base_uri": "https://localhost:8080/"
        },
        "id": "j2_ndlC7Psat",
        "outputId": "8b2562c8-5419-4441-ba9d-14ead447a9c2"
      },
      "execution_count": null,
      "outputs": [
        {
          "output_type": "execute_result",
          "data": {
            "text/plain": [
              "Index(['Name', 'Gender', 'Age', 'Age_Group', 'Weight', 'Height', 'Waist',\n",
              "       'Hip', 'Smoking', 'Smoking_packet_per_year', 'Alcohol', 'DM_Type2',\n",
              "       'DM_Type2_Duration', 'Insulin', 'DM_Type2_Drug', 'DM_Type2_Drug_Usage',\n",
              "       'Dyslipidemia', 'Dyslipidemia_duration', 'KAH', 'KAH_Duration',\n",
              "       'Hipotiroidi', 'Asthma', 'COPD', 'OP', 'HT', 'Duration_of_HT', 'N_HT',\n",
              "       'HT_drugs', 'HT_Drug_Usage', 'Duration_of_1HT', 'Education', 'Job',\n",
              "       'Status', 'Work_Status', 'Exercise', 'Exercise_Status', 'AT', 'CST',\n",
              "       'Gait_Speed', 'Grip_Str', 'STAR', 'BMI', 'MMSE', 'Sarcopenia'],\n",
              "      dtype='object')"
            ]
          },
          "metadata": {},
          "execution_count": 33
        }
      ]
    },
    {
      "cell_type": "code",
      "source": [
        "df.insert(3, 'Age_Group', df.pop('Age_Group'))"
      ],
      "metadata": {
        "id": "MK7AeunZOJkN"
      },
      "execution_count": null,
      "outputs": []
    },
    {
      "cell_type": "code",
      "source": [
        "df.columns"
      ],
      "metadata": {
        "colab": {
          "base_uri": "https://localhost:8080/"
        },
        "id": "ZwK4DWGxPvVe",
        "outputId": "a259d5a4-7be0-4876-b398-436cf424f5fa"
      },
      "execution_count": null,
      "outputs": [
        {
          "output_type": "execute_result",
          "data": {
            "text/plain": [
              "Index(['Name', 'Gender', 'Age', 'Age_Group', 'Weight', 'Height', 'Waist',\n",
              "       'Hip', 'Smoking', 'Smoking_packet_per_year', 'Alcohol', 'DM_Type2',\n",
              "       'DM_Type2_Duration', 'Insulin', 'DM_Type2_Drug', 'DM_Type2_Drug_Usage',\n",
              "       'Dyslipidemia', 'Dyslipidemia_duration', 'KAH', 'KAH_Duration',\n",
              "       'Hipotiroidi', 'Asthma', 'COPD', 'OP', 'HT', 'Duration_of_HT', 'N_HT',\n",
              "       'HT_drugs', 'HT_Drug_Usage', 'Duration_of_1HT', 'Education', 'Job',\n",
              "       'Status', 'Work_Status', 'Exercise', 'Exercise_Status', 'AT', 'CST',\n",
              "       'Gait_Speed', 'Grip_Str', 'STAR', 'BMI', 'MMSE', 'Sarcopenia'],\n",
              "      dtype='object')"
            ]
          },
          "metadata": {},
          "execution_count": 35
        }
      ]
    },
    {
      "cell_type": "code",
      "source": [
        "df.Age_Group.value_counts()"
      ],
      "metadata": {
        "colab": {
          "base_uri": "https://localhost:8080/",
          "height": 272
        },
        "id": "G4fYoZhAPwsP",
        "outputId": "d896bc4b-ff52-42a0-be7b-1daa04bdd2ab"
      },
      "execution_count": null,
      "outputs": [
        {
          "output_type": "execute_result",
          "data": {
            "text/plain": [
              "Age_Group\n",
              "AGE 60-80     2596\n",
              "AGE 40-60     2252\n",
              "AGE 80-100     168\n",
              "AGE 0-20         0\n",
              "AGE 20-40        0\n",
              "Name: count, dtype: int64"
            ],
            "text/html": [
              "<div>\n",
              "<style scoped>\n",
              "    .dataframe tbody tr th:only-of-type {\n",
              "        vertical-align: middle;\n",
              "    }\n",
              "\n",
              "    .dataframe tbody tr th {\n",
              "        vertical-align: top;\n",
              "    }\n",
              "\n",
              "    .dataframe thead th {\n",
              "        text-align: right;\n",
              "    }\n",
              "</style>\n",
              "<table border=\"1\" class=\"dataframe\">\n",
              "  <thead>\n",
              "    <tr style=\"text-align: right;\">\n",
              "      <th></th>\n",
              "      <th>count</th>\n",
              "    </tr>\n",
              "    <tr>\n",
              "      <th>Age_Group</th>\n",
              "      <th></th>\n",
              "    </tr>\n",
              "  </thead>\n",
              "  <tbody>\n",
              "    <tr>\n",
              "      <th>AGE 60-80</th>\n",
              "      <td>2596</td>\n",
              "    </tr>\n",
              "    <tr>\n",
              "      <th>AGE 40-60</th>\n",
              "      <td>2252</td>\n",
              "    </tr>\n",
              "    <tr>\n",
              "      <th>AGE 80-100</th>\n",
              "      <td>168</td>\n",
              "    </tr>\n",
              "    <tr>\n",
              "      <th>AGE 0-20</th>\n",
              "      <td>0</td>\n",
              "    </tr>\n",
              "    <tr>\n",
              "      <th>AGE 20-40</th>\n",
              "      <td>0</td>\n",
              "    </tr>\n",
              "  </tbody>\n",
              "</table>\n",
              "</div><br><label><b>dtype:</b> int64</label>"
            ]
          },
          "metadata": {},
          "execution_count": 36
        }
      ]
    },
    {
      "cell_type": "code",
      "source": [
        "df.loc[(df['Smoking'] == 0) & (df['Smoking_packet_per_year'] > 0), 'Smoking'] = 1"
      ],
      "metadata": {
        "id": "N9qYi2F2PyfM"
      },
      "execution_count": null,
      "outputs": []
    },
    {
      "cell_type": "code",
      "source": [
        "df.loc[(df['Smoking_packet_per_year'] == 0) & (df['Smoking'] == 1), 'Smoking'] = 0"
      ],
      "metadata": {
        "id": "OwkcVnRodTN_"
      },
      "execution_count": null,
      "outputs": []
    },
    {
      "cell_type": "code",
      "source": [
        "df.loc[(df['Smoking'] == 1) & (df['Smoking_packet_per_year'].isnull()), 'Smoking_packet_per_year'] = df.Smoking_packet_per_year.mean()"
      ],
      "metadata": {
        "id": "VDvxMIvQdrVS"
      },
      "execution_count": null,
      "outputs": []
    },
    {
      "cell_type": "code",
      "source": [
        "df.to_excel('/content/drive/MyDrive/SARCOPENIA_PROJECT/sarcopenia-data-set_columns_corrected_4.xlsx')"
      ],
      "metadata": {
        "id": "k-yENJkSaNuB"
      },
      "execution_count": null,
      "outputs": []
    },
    {
      "cell_type": "code",
      "source": [
        "df = pd.read_excel(\"/content/drive/MyDrive/SARCOPENIA_PROJECT/Data_Set_Files/sarcopenia-data-set_columns_corrected_4.xlsx\")"
      ],
      "metadata": {
        "id": "uoDFXrR6ahu-"
      },
      "execution_count": 27,
      "outputs": []
    },
    {
      "cell_type": "code",
      "source": [
        "def bivariate_crosstab (column1, column2):\n",
        "  # Categorical vs. Sarcopenia\n",
        "  # Calculate the cross-tabulation and normalize by index (rows)\n",
        "  crosstab_result = pd.crosstab(column1, column2, normalize='index')\n",
        "  # Plot the result as a stacked bar chart\n",
        "  crosstab_result.plot(kind='bar', stacked=True)\n",
        "\n",
        "  # Add titles and labels for clarity\n",
        "  plt.title(f'{column1.name} vs {column2.name} Distribution (Normalized by Sarcopenia Status)', fontsize=16)\n",
        "  plt.xlabel(f'{column1.name} Status', fontsize=12)\n",
        "  # Removed the redundant ylabel as normalize='index' implies proportion within the index categories\n",
        "  plt.ylabel('Proportion within Sarcopenia Status', fontsize=12)\n",
        "  plt.xticks(rotation=0) # Keep x-axis labels horizontal\n",
        "\n",
        "  # Display the plot\n",
        "  plt.show()"
      ],
      "metadata": {
        "id": "6bMlXUiwHJDr"
      },
      "execution_count": 6,
      "outputs": []
    },
    {
      "cell_type": "code",
      "source": [
        "bivariate_crosstab  (df.Sarcopenia,df.Smoking)"
      ],
      "metadata": {
        "id": "dqfO2hfUal1j",
        "colab": {
          "base_uri": "https://localhost:8080/",
          "height": 478
        },
        "outputId": "adaa1adb-1b0e-4cce-d2b3-82b9d39af99f"
      },
      "execution_count": 7,
      "outputs": [
        {
          "output_type": "display_data",
          "data": {
            "text/plain": [
              "<Figure size 640x480 with 1 Axes>"
            ],
            "image/png": "[encoded data removed]"
          },
          "metadata": {}
        }
      ]
    },
    {
      "cell_type": "code",
      "source": [
        "def bivariate (column1,column2):\n",
        "  # Use the .name attribute to get the column names as strings\n",
        "  sns.boxplot(x=column1.name, y=column2.name, data=df, hue='Sarcopenia', palette=['skyblue', 'orange'])\n",
        "  plt.title(f'{column1.name} vs {column2.name} Distribution', fontsize=16)\n",
        "  plt.xlabel(f'{column1.name} Durumu', fontsize=12)\n",
        "  plt.ylabel(f'{column2.name}', fontsize=12)\n",
        "\n",
        "  # Izgara ekleyelim\n",
        "  plt.grid(axis='y', linestyle='--', alpha=0.7)\n",
        "\n",
        "  # Grafiği göster\n",
        "  plt.tight_layout()\n",
        "  plt.show()"
      ],
      "metadata": {
        "id": "fBgPE9-CG-y6"
      },
      "execution_count": 9,
      "outputs": []
    },
    {
      "cell_type": "code",
      "source": [
        "bivariate (df.Sarcopenia,df.Smoking_packet_per_year)"
      ],
      "metadata": {
        "colab": {
          "base_uri": "https://localhost:8080/",
          "height": 487
        },
        "id": "JiK_XWLwHQZ3",
        "outputId": "00639d20-d867-426e-d305-080767efff11"
      },
      "execution_count": 10,
      "outputs": [
        {
          "output_type": "display_data",
          "data": {
            "text/plain": [
              "<Figure size 640x480 with 1 Axes>"
            ],
            "image/png": "[encoded data removed]"
          },
          "metadata": {}
        }
      ]
    },
    {
      "cell_type": "code",
      "source": [
        "bivariate (df.Sarcopenia,df.DM_Type2_Duration)"
      ],
      "metadata": {
        "colab": {
          "base_uri": "https://localhost:8080/",
          "height": 487
        },
        "id": "insExBNVHwG6",
        "outputId": "281c6c0d-00a7-410b-a336-9d9b2a89995f"
      },
      "execution_count": 11,
      "outputs": [
        {
          "output_type": "display_data",
          "data": {
            "text/plain": [
              "<Figure size 640x480 with 1 Axes>"
            ],
            "image/png": "[encoded data removed]"
          },
          "metadata": {}
        }
      ]
    },
    {
      "cell_type": "code",
      "source": [
        "bivariate_crosstab  (df.Sarcopenia,df.DM_Type2_Duration)"
      ],
      "metadata": {
        "colab": {
          "base_uri": "https://localhost:8080/",
          "height": 493
        },
        "id": "6_SPiUASK4W0",
        "outputId": "05be4c75-abec-45ba-80c8-485d40b4c075"
      },
      "execution_count": 12,
      "outputs": [
        {
          "output_type": "display_data",
          "data": {
            "text/plain": [
              "<Figure size 640x480 with 1 Axes>"
            ],
            "image/png": "[encoded data removed]"
          },
          "metadata": {}
        }
      ]
    },
    {
      "cell_type": "code",
      "source": [
        "bivariate (df.Sarcopenia,df.Duration_of_HT),bivariate (df.Sarcopenia,df.HT)"
      ],
      "metadata": {
        "colab": {
          "base_uri": "https://localhost:8080/",
          "height": 975
        },
        "id": "bDYVzaZdLFgD",
        "outputId": "d4ece99c-675a-4ab3-9f18-c356976ca402"
      },
      "execution_count": 22,
      "outputs": [
        {
          "output_type": "display_data",
          "data": {
            "text/plain": [
              "<Figure size 640x480 with 1 Axes>"
            ],
            "image/png": "[encoded data removed]"
          },
          "metadata": {}
        },
        {
          "output_type": "display_data",
          "data": {
            "text/plain": [
              "<Figure size 640x480 with 1 Axes>"
            ],
            "image/png": "[encoded data removed]"
          },
          "metadata": {}
        },
        {
          "output_type": "execute_result",
          "data": {
            "text/plain": [
              "(None, None)"
            ]
          },
          "metadata": {},
          "execution_count": 22
        }
      ]
    },
    {
      "cell_type": "code",
      "source": [
        "bivariate (df.Sarcopenia,df.N_HT)"
      ],
      "metadata": {
        "colab": {
          "base_uri": "https://localhost:8080/",
          "height": 487
        },
        "id": "dVN7_S9JPR07",
        "outputId": "fc5b0260-1540-41a9-f905-d1ed1112c68b"
      },
      "execution_count": 23,
      "outputs": [
        {
          "output_type": "display_data",
          "data": {
            "text/plain": [
              "<Figure size 640x480 with 1 Axes>"
            ],
            "image/png": "[encoded data removed]"
          },
          "metadata": {}
        }
      ]
    },
    {
      "cell_type": "code",
      "source": [
        "bivariate (df.Sarcopenia,df.Duration_of_1HT)"
      ],
      "metadata": {
        "colab": {
          "base_uri": "https://localhost:8080/",
          "height": 487
        },
        "id": "ngMt2B-qQfHQ",
        "outputId": "373f6517-4274-48f2-e5cf-de1b755a571e"
      },
      "execution_count": 24,
      "outputs": [
        {
          "output_type": "display_data",
          "data": {
            "text/plain": [
              "<Figure size 640x480 with 1 Axes>"
            ],
            "image/png": "[encoded data removed]"
          },
          "metadata": {}
        }
      ]
    },
    {
      "cell_type": "code",
      "source": [
        "df[\"Total_Duration_of_HT\"] = np.where(\n",
        "    df[\"Duration_of_HT\"] >= df[\"Duration_of_1HT\"],\n",
        "    df[\"Duration_of_HT\"],  # Value if True\n",
        "    df[\"Duration_of_1HT\"]   # Value if False (you can change this to something else)\n",
        ")"
      ],
      "metadata": {
        "id": "DcxQczkgRKBV"
      },
      "execution_count": 28,
      "outputs": []
    },
    {
      "cell_type": "code",
      "source": [
        "df.columns"
      ],
      "metadata": {
        "colab": {
          "base_uri": "https://localhost:8080/"
        },
        "id": "_8rV36xShCk4",
        "outputId": "2a551f88-b48f-45c0-b792-735be6c43860"
      },
      "execution_count": 29,
      "outputs": [
        {
          "output_type": "execute_result",
          "data": {
            "text/plain": [
              "Index(['Unnamed: 0.1', 'Unnamed: 0', 'Name', 'Gender', 'Age', 'Age_Group',\n",
              "       'Weight', 'Height', 'Waist', 'Hip', 'Smoking',\n",
              "       'Smoking_packet_per_year', 'Alcohol', 'DM_Type2', 'DM_Type2_Duration',\n",
              "       'Insulin', 'DM_Type2_Drug', 'DM_Type2_Drug_Usage', 'Dyslipidemia',\n",
              "       'Dyslipidemia_duration', 'KAH', 'KAH_Duration', 'Hipotiroidi', 'Asthma',\n",
              "       'COPD', 'OP', 'HT', 'Duration_of_HT', 'N_HT', 'HT_drugs',\n",
              "       'HT_Drug_Usage', 'Duration_of_1HT', 'Education', 'Job', 'Status',\n",
              "       'Work_Status', 'Exercise', 'Exercise_Status', 'AT', 'CST', 'Gait_Speed',\n",
              "       'Grip_Str', 'STAR', 'BMI', 'MMSE', 'Sarcopenia',\n",
              "       'Total_Duration_of_HT'],\n",
              "      dtype='object')"
            ]
          },
          "metadata": {},
          "execution_count": 29
        }
      ]
    },
    {
      "cell_type": "code",
      "source": [
        "df.Total_Duration_of_HT.value_counts()"
      ],
      "metadata": {
        "colab": {
          "base_uri": "https://localhost:8080/",
          "height": 1000
        },
        "id": "4HGUGbUXhDww",
        "outputId": "cdba035e-8ca0-4a6d-d706-574281266c14"
      },
      "execution_count": 30,
      "outputs": [
        {
          "output_type": "execute_result",
          "data": {
            "text/plain": [
              "Total_Duration_of_HT\n",
              "0.00     2151\n",
              "10.00     489\n",
              "15.00     303\n",
              "5.00      274\n",
              "20.00     270\n",
              "2.00      227\n",
              "5.83      180\n",
              "3.00      151\n",
              "1.00      148\n",
              "4.00      135\n",
              "6.00      119\n",
              "8.00       92\n",
              "7.00       77\n",
              "12.00      54\n",
              "25.00      54\n",
              "13.00      29\n",
              "9.00       27\n",
              "17.00      26\n",
              "0.10       25\n",
              "16.00      25\n",
              "0.50       25\n",
              "14.00      21\n",
              "0.30       18\n",
              "0.20       15\n",
              "11.00      13\n",
              "18.00      12\n",
              "1.50       10\n",
              "22.00       9\n",
              "21.00       9\n",
              "19.00       6\n",
              "23.00       5\n",
              "0.01        5\n",
              "0.40        3\n",
              "2.50        2\n",
              "0.80        2\n",
              "24.00       2\n",
              "0.70        2\n",
              "3.50        1\n",
              "Name: count, dtype: int64"
            ],
            "text/html": [
              "<div>\n",
              "<style scoped>\n",
              "    .dataframe tbody tr th:only-of-type {\n",
              "        vertical-align: middle;\n",
              "    }\n",
              "\n",
              "    .dataframe tbody tr th {\n",
              "        vertical-align: top;\n",
              "    }\n",
              "\n",
              "    .dataframe thead th {\n",
              "        text-align: right;\n",
              "    }\n",
              "</style>\n",
              "<table border=\"1\" class=\"dataframe\">\n",
              "  <thead>\n",
              "    <tr style=\"text-align: right;\">\n",
              "      <th></th>\n",
              "      <th>count</th>\n",
              "    </tr>\n",
              "    <tr>\n",
              "      <th>Total_Duration_of_HT</th>\n",
              "      <th></th>\n",
              "    </tr>\n",
              "  </thead>\n",
              "  <tbody>\n",
              "    <tr>\n",
              "      <th>0.00</th>\n",
              "      <td>2151</td>\n",
              "    </tr>\n",
              "    <tr>\n",
              "      <th>10.00</th>\n",
              "      <td>489</td>\n",
              "    </tr>\n",
              "    <tr>\n",
              "      <th>15.00</th>\n",
              "      <td>303</td>\n",
              "    </tr>\n",
              "    <tr>\n",
              "      <th>5.00</th>\n",
              "      <td>274</td>\n",
              "    </tr>\n",
              "    <tr>\n",
              "      <th>20.00</th>\n",
              "      <td>270</td>\n",
              "    </tr>\n",
              "    <tr>\n",
              "      <th>2.00</th>\n",
              "      <td>227</td>\n",
              "    </tr>\n",
              "    <tr>\n",
              "      <th>5.83</th>\n",
              "      <td>180</td>\n",
              "    </tr>\n",
              "    <tr>\n",
              "      <th>3.00</th>\n",
              "      <td>151</td>\n",
              "    </tr>\n",
              "    <tr>\n",
              "      <th>1.00</th>\n",
              "      <td>148</td>\n",
              "    </tr>\n",
              "    <tr>\n",
              "      <th>4.00</th>\n",
              "      <td>135</td>\n",
              "    </tr>\n",
              "    <tr>\n",
              "      <th>6.00</th>\n",
              "      <td>119</td>\n",
              "    </tr>\n",
              "    <tr>\n",
              "      <th>8.00</th>\n",
              "      <td>92</td>\n",
              "    </tr>\n",
              "    <tr>\n",
              "      <th>7.00</th>\n",
              "      <td>77</td>\n",
              "    </tr>\n",
              "    <tr>\n",
              "      <th>12.00</th>\n",
              "      <td>54</td>\n",
              "    </tr>\n",
              "    <tr>\n",
              "      <th>25.00</th>\n",
              "      <td>54</td>\n",
              "    </tr>\n",
              "    <tr>\n",
              "      <th>13.00</th>\n",
              "      <td>29</td>\n",
              "    </tr>\n",
              "    <tr>\n",
              "      <th>9.00</th>\n",
              "      <td>27</td>\n",
              "    </tr>\n",
              "    <tr>\n",
              "      <th>17.00</th>\n",
              "      <td>26</td>\n",
              "    </tr>\n",
              "    <tr>\n",
              "      <th>0.10</th>\n",
              "      <td>25</td>\n",
              "    </tr>\n",
              "    <tr>\n",
              "      <th>16.00</th>\n",
              "      <td>25</td>\n",
              "    </tr>\n",
              "    <tr>\n",
              "      <th>0.50</th>\n",
              "      <td>25</td>\n",
              "    </tr>\n",
              "    <tr>\n",
              "      <th>14.00</th>\n",
              "      <td>21</td>\n",
              "    </tr>\n",
              "    <tr>\n",
              "      <th>0.30</th>\n",
              "      <td>18</td>\n",
              "    </tr>\n",
              "    <tr>\n",
              "      <th>0.20</th>\n",
              "      <td>15</td>\n",
              "    </tr>\n",
              "    <tr>\n",
              "      <th>11.00</th>\n",
              "      <td>13</td>\n",
              "    </tr>\n",
              "    <tr>\n",
              "      <th>18.00</th>\n",
              "      <td>12</td>\n",
              "    </tr>\n",
              "    <tr>\n",
              "      <th>1.50</th>\n",
              "      <td>10</td>\n",
              "    </tr>\n",
              "    <tr>\n",
              "      <th>22.00</th>\n",
              "      <td>9</td>\n",
              "    </tr>\n",
              "    <tr>\n",
              "      <th>21.00</th>\n",
              "      <td>9</td>\n",
              "    </tr>\n",
              "    <tr>\n",
              "      <th>19.00</th>\n",
              "      <td>6</td>\n",
              "    </tr>\n",
              "    <tr>\n",
              "      <th>23.00</th>\n",
              "      <td>5</td>\n",
              "    </tr>\n",
              "    <tr>\n",
              "      <th>0.01</th>\n",
              "      <td>5</td>\n",
              "    </tr>\n",
              "    <tr>\n",
              "      <th>0.40</th>\n",
              "      <td>3</td>\n",
              "    </tr>\n",
              "    <tr>\n",
              "      <th>2.50</th>\n",
              "      <td>2</td>\n",
              "    </tr>\n",
              "    <tr>\n",
              "      <th>0.80</th>\n",
              "      <td>2</td>\n",
              "    </tr>\n",
              "    <tr>\n",
              "      <th>24.00</th>\n",
              "      <td>2</td>\n",
              "    </tr>\n",
              "    <tr>\n",
              "      <th>0.70</th>\n",
              "      <td>2</td>\n",
              "    </tr>\n",
              "    <tr>\n",
              "      <th>3.50</th>\n",
              "      <td>1</td>\n",
              "    </tr>\n",
              "  </tbody>\n",
              "</table>\n",
              "</div><br><label><b>dtype:</b> int64</label>"
            ]
          },
          "metadata": {},
          "execution_count": 30
        }
      ]
    },
    {
      "cell_type": "code",
      "source": [
        "bivariate (df.Sarcopenia,df.Total_Duration_of_HT)"
      ],
      "metadata": {
        "colab": {
          "base_uri": "https://localhost:8080/",
          "height": 487
        },
        "id": "O6LuHL6ohGsw",
        "outputId": "cb3f33fb-fa9a-4897-9abb-2b34bc9f2d11"
      },
      "execution_count": 33,
      "outputs": [
        {
          "output_type": "display_data",
          "data": {
            "text/plain": [
              "<Figure size 640x480 with 1 Axes>"
            ],
            "image/png": "[encoded data removed]"
          },
          "metadata": {}
        }
      ]
    },
    {
      "cell_type": "code",
      "source": [
        "df.drop('Duration_of_HT', axis=1, inplace=True)"
      ],
      "metadata": {
        "id": "4yvPyusWhPB9"
      },
      "execution_count": 34,
      "outputs": []
    },
    {
      "cell_type": "code",
      "source": [
        "df.drop('Duration_of_1HT', axis=1, inplace=True)"
      ],
      "metadata": {
        "id": "Ti_V_27lh2DY"
      },
      "execution_count": 35,
      "outputs": []
    },
    {
      "cell_type": "code",
      "source": [
        "df.drop('Unnamed: 0.1', axis=1, inplace=True)"
      ],
      "metadata": {
        "id": "P3IPU_nGh46p"
      },
      "execution_count": 39,
      "outputs": []
    },
    {
      "cell_type": "code",
      "source": [
        "df.columns"
      ],
      "metadata": {
        "colab": {
          "base_uri": "https://localhost:8080/"
        },
        "id": "p_Nq_m06h_jO",
        "outputId": "44cb26d7-5614-422e-b7a7-982be94dcacc"
      },
      "execution_count": 40,
      "outputs": [
        {
          "output_type": "execute_result",
          "data": {
            "text/plain": [
              "Index(['Name', 'Gender', 'Age', 'Age_Group', 'Weight', 'Height', 'Waist',\n",
              "       'Hip', 'Smoking', 'Smoking_packet_per_year', 'Alcohol', 'DM_Type2',\n",
              "       'DM_Type2_Duration', 'Insulin', 'DM_Type2_Drug', 'DM_Type2_Drug_Usage',\n",
              "       'Dyslipidemia', 'Dyslipidemia_duration', 'KAH', 'KAH_Duration',\n",
              "       'Hipotiroidi', 'Asthma', 'COPD', 'OP', 'HT', 'N_HT', 'HT_drugs',\n",
              "       'HT_Drug_Usage', 'Education', 'Job', 'Status', 'Work_Status',\n",
              "       'Exercise', 'Exercise_Status', 'AT', 'CST', 'Gait_Speed', 'Grip_Str',\n",
              "       'STAR', 'BMI', 'MMSE', 'Sarcopenia', 'Total_Duration_of_HT'],\n",
              "      dtype='object')"
            ]
          },
          "metadata": {},
          "execution_count": 40
        }
      ]
    },
    {
      "cell_type": "code",
      "source": [
        "df.insert(27, 'Total_Duration_of_HT', df.pop('Total_Duration_of_HT'))"
      ],
      "metadata": {
        "id": "M2ZNvNb4iAkD"
      },
      "execution_count": 41,
      "outputs": []
    },
    {
      "cell_type": "code",
      "source": [
        "df.columns"
      ],
      "metadata": {
        "colab": {
          "base_uri": "https://localhost:8080/"
        },
        "id": "v1PFod3TiUWp",
        "outputId": "6d074e50-7f3a-4e36-eb30-5bd6282638ea"
      },
      "execution_count": 42,
      "outputs": [
        {
          "output_type": "execute_result",
          "data": {
            "text/plain": [
              "Index(['Name', 'Gender', 'Age', 'Age_Group', 'Weight', 'Height', 'Waist',\n",
              "       'Hip', 'Smoking', 'Smoking_packet_per_year', 'Alcohol', 'DM_Type2',\n",
              "       'DM_Type2_Duration', 'Insulin', 'DM_Type2_Drug', 'DM_Type2_Drug_Usage',\n",
              "       'Dyslipidemia', 'Dyslipidemia_duration', 'KAH', 'KAH_Duration',\n",
              "       'Hipotiroidi', 'Asthma', 'COPD', 'OP', 'HT', 'N_HT', 'HT_drugs',\n",
              "       'Total_Duration_of_HT', 'HT_Drug_Usage', 'Education', 'Job', 'Status',\n",
              "       'Work_Status', 'Exercise', 'Exercise_Status', 'AT', 'CST', 'Gait_Speed',\n",
              "       'Grip_Str', 'STAR', 'BMI', 'MMSE', 'Sarcopenia'],\n",
              "      dtype='object')"
            ]
          },
          "metadata": {},
          "execution_count": 42
        }
      ]
    },
    {
      "cell_type": "code",
      "source": [
        "df.drop(\"Waist\", axis=1, inplace=True)"
      ],
      "metadata": {
        "id": "5B3Wtd3iindS"
      },
      "execution_count": null,
      "outputs": []
    },
    {
      "cell_type": "code",
      "source": [
        "df.drop(\"Hip\", axis=1, inplace=True)"
      ],
      "metadata": {
        "id": "5_aQX01ZjEqJ"
      },
      "execution_count": 45,
      "outputs": []
    },
    {
      "cell_type": "code",
      "source": [
        "df.drop(\"Height\", axis=1, inplace=True)"
      ],
      "metadata": {
        "id": "jFyXGZAOjGoK"
      },
      "execution_count": 46,
      "outputs": []
    },
    {
      "cell_type": "code",
      "source": [
        "df.drop(\"Smoking\", axis=1, inplace=True)"
      ],
      "metadata": {
        "id": "0qoiM2LFjJVi"
      },
      "execution_count": 47,
      "outputs": []
    },
    {
      "cell_type": "code",
      "source": [
        "df.drop(\"Smoking_packet_per_year\", axis=1, inplace=True)"
      ],
      "metadata": {
        "id": "EGNRd-AxjPLF"
      },
      "execution_count": 48,
      "outputs": []
    },
    {
      "cell_type": "code",
      "source": [
        "df.drop(\"DM_Type2_Drug_Usage\", axis=1, inplace=True)"
      ],
      "metadata": {
        "id": "s-6BGgzrjQ6S"
      },
      "execution_count": 49,
      "outputs": []
    },
    {
      "cell_type": "code",
      "source": [
        "df.drop(\"HT_Drug_Usage\", axis=1, inplace=True)"
      ],
      "metadata": {
        "id": "4Ehe5fUpjaP_"
      },
      "execution_count": 50,
      "outputs": []
    },
    {
      "cell_type": "code",
      "source": [
        "df.columns"
      ],
      "metadata": {
        "colab": {
          "base_uri": "https://localhost:8080/"
        },
        "id": "EisgKbCUjhBt",
        "outputId": "bbd59f2c-1b5b-4d6c-eab9-400baa50ce80"
      },
      "execution_count": 51,
      "outputs": [
        {
          "output_type": "execute_result",
          "data": {
            "text/plain": [
              "Index(['Name', 'Gender', 'Age', 'Age_Group', 'Weight', 'Alcohol', 'DM_Type2',\n",
              "       'DM_Type2_Duration', 'Insulin', 'DM_Type2_Drug', 'Dyslipidemia',\n",
              "       'Dyslipidemia_duration', 'KAH', 'KAH_Duration', 'Hipotiroidi', 'Asthma',\n",
              "       'COPD', 'OP', 'HT', 'N_HT', 'HT_drugs', 'Total_Duration_of_HT',\n",
              "       'Education', 'Job', 'Status', 'Work_Status', 'Exercise',\n",
              "       'Exercise_Status', 'AT', 'CST', 'Gait_Speed', 'Grip_Str', 'STAR', 'BMI',\n",
              "       'MMSE', 'Sarcopenia'],\n",
              "      dtype='object')"
            ]
          },
          "metadata": {},
          "execution_count": 51
        }
      ]
    },
    {
      "cell_type": "code",
      "source": [
        "df.HT.dtype, df.N_HT.dtype"
      ],
      "metadata": {
        "colab": {
          "base_uri": "https://localhost:8080/"
        },
        "id": "aGxPX6q6jiIk",
        "outputId": "9e511c51-fc4f-432c-ccc3-daa18413ed50"
      },
      "execution_count": 55,
      "outputs": [
        {
          "output_type": "execute_result",
          "data": {
            "text/plain": [
              "(dtype('int64'), dtype('int64'))"
            ]
          },
          "metadata": {},
          "execution_count": 55
        }
      ]
    },
    {
      "cell_type": "code",
      "source": [
        "df[\"Number_of_HT\"] = np.where(\n",
        "    df[\"N_HT\"] >= df[\"HT\"],\n",
        "    df[\"N_HT\"],  # Value if True\n",
        "    df[\"HT\"]   # Value if False (you can change this to something else)\n",
        ")"
      ],
      "metadata": {
        "id": "yu3hF_wukeBb"
      },
      "execution_count": 56,
      "outputs": []
    },
    {
      "cell_type": "code",
      "source": [
        "df.Number_of_HT.value_counts()"
      ],
      "metadata": {
        "colab": {
          "base_uri": "https://localhost:8080/",
          "height": 335
        },
        "id": "Tif1lE2K298G",
        "outputId": "bc563dd7-8003-4d2e-b335-5ef789d6396d"
      },
      "execution_count": 57,
      "outputs": [
        {
          "output_type": "execute_result",
          "data": {
            "text/plain": [
              "Number_of_HT\n",
              "0    2150\n",
              "1    1171\n",
              "2    1160\n",
              "3     388\n",
              "4     135\n",
              "5      11\n",
              "6       1\n",
              "Name: count, dtype: int64"
            ],
            "text/html": [
              "<div>\n",
              "<style scoped>\n",
              "    .dataframe tbody tr th:only-of-type {\n",
              "        vertical-align: middle;\n",
              "    }\n",
              "\n",
              "    .dataframe tbody tr th {\n",
              "        vertical-align: top;\n",
              "    }\n",
              "\n",
              "    .dataframe thead th {\n",
              "        text-align: right;\n",
              "    }\n",
              "</style>\n",
              "<table border=\"1\" class=\"dataframe\">\n",
              "  <thead>\n",
              "    <tr style=\"text-align: right;\">\n",
              "      <th></th>\n",
              "      <th>count</th>\n",
              "    </tr>\n",
              "    <tr>\n",
              "      <th>Number_of_HT</th>\n",
              "      <th></th>\n",
              "    </tr>\n",
              "  </thead>\n",
              "  <tbody>\n",
              "    <tr>\n",
              "      <th>0</th>\n",
              "      <td>2150</td>\n",
              "    </tr>\n",
              "    <tr>\n",
              "      <th>1</th>\n",
              "      <td>1171</td>\n",
              "    </tr>\n",
              "    <tr>\n",
              "      <th>2</th>\n",
              "      <td>1160</td>\n",
              "    </tr>\n",
              "    <tr>\n",
              "      <th>3</th>\n",
              "      <td>388</td>\n",
              "    </tr>\n",
              "    <tr>\n",
              "      <th>4</th>\n",
              "      <td>135</td>\n",
              "    </tr>\n",
              "    <tr>\n",
              "      <th>5</th>\n",
              "      <td>11</td>\n",
              "    </tr>\n",
              "    <tr>\n",
              "      <th>6</th>\n",
              "      <td>1</td>\n",
              "    </tr>\n",
              "  </tbody>\n",
              "</table>\n",
              "</div><br><label><b>dtype:</b> int64</label>"
            ]
          },
          "metadata": {},
          "execution_count": 57
        }
      ]
    },
    {
      "cell_type": "code",
      "source": [
        "df.Number_of_HT.isnull().sum()"
      ],
      "metadata": {
        "colab": {
          "base_uri": "https://localhost:8080/"
        },
        "id": "bImvx9gn3Cdn",
        "outputId": "e541829c-29f3-45f3-ae91-d42c00614a44"
      },
      "execution_count": 59,
      "outputs": [
        {
          "output_type": "execute_result",
          "data": {
            "text/plain": [
              "np.int64(0)"
            ]
          },
          "metadata": {},
          "execution_count": 59
        }
      ]
    },
    {
      "cell_type": "code",
      "source": [
        "df.drop(\"HT\", axis=1, inplace=True)"
      ],
      "metadata": {
        "id": "MwJzpopN3H4d"
      },
      "execution_count": 60,
      "outputs": []
    },
    {
      "cell_type": "code",
      "source": [
        "df.drop(\"N_HT\", axis=1, inplace=True)"
      ],
      "metadata": {
        "id": "qUalCILq3Yqs"
      },
      "execution_count": 61,
      "outputs": []
    },
    {
      "cell_type": "code",
      "source": [
        "df.drop('Alcohol', axis=1, inplace=True)"
      ],
      "metadata": {
        "id": "biORpkIO3bPQ"
      },
      "execution_count": 63,
      "outputs": []
    },
    {
      "cell_type": "code",
      "source": [
        "df.columns"
      ],
      "metadata": {
        "colab": {
          "base_uri": "https://localhost:8080/"
        },
        "id": "6_Kz6fh930bl",
        "outputId": "ff871103-3e76-4f99-ff06-bdb26933c96f"
      },
      "execution_count": 64,
      "outputs": [
        {
          "output_type": "execute_result",
          "data": {
            "text/plain": [
              "Index(['Name', 'Gender', 'Age', 'Age_Group', 'Weight', 'DM_Type2',\n",
              "       'DM_Type2_Duration', 'Insulin', 'DM_Type2_Drug', 'Dyslipidemia',\n",
              "       'Dyslipidemia_duration', 'KAH', 'KAH_Duration', 'Hipotiroidi', 'Asthma',\n",
              "       'COPD', 'OP', 'HT_drugs', 'Total_Duration_of_HT', 'Education', 'Job',\n",
              "       'Status', 'Work_Status', 'Exercise', 'Exercise_Status', 'AT', 'CST',\n",
              "       'Gait_Speed', 'Grip_Str', 'STAR', 'BMI', 'MMSE', 'Sarcopenia',\n",
              "       'Number_of_HT'],\n",
              "      dtype='object')"
            ]
          },
          "metadata": {},
          "execution_count": 64
        }
      ]
    },
    {
      "cell_type": "code",
      "source": [
        "columns_to_check = [\n",
        "    'DM_Type2',\n",
        "    'Insulin',\n",
        "    'Dyslipidemia',\n",
        "    'KAH',\n",
        "    'Hipotiroidi',\n",
        "    'Asthma',\n",
        "    'COPD'\n",
        "\n",
        "]\n",
        "\n",
        "df['Chronic_Diseases'] = df.apply(\n",
        "    lambda row: ', '.join([\n",
        "        col for col in columns_to_check\n",
        "        if pd.notna(row[col]) and row[col] != 0\n",
        "    ]),\n",
        "    axis=1\n",
        ")"
      ],
      "metadata": {
        "id": "1_vurElQ33NP"
      },
      "execution_count": 65,
      "outputs": []
    },
    {
      "cell_type": "code",
      "source": [
        "df.columns"
      ],
      "metadata": {
        "colab": {
          "base_uri": "https://localhost:8080/"
        },
        "id": "u9yK1Kfl70sK",
        "outputId": "c036f32f-2125-45fd-eea5-7757d054a951"
      },
      "execution_count": 66,
      "outputs": [
        {
          "output_type": "execute_result",
          "data": {
            "text/plain": [
              "Index(['Name', 'Gender', 'Age', 'Age_Group', 'Weight', 'DM_Type2',\n",
              "       'DM_Type2_Duration', 'Insulin', 'DM_Type2_Drug', 'Dyslipidemia',\n",
              "       'Dyslipidemia_duration', 'KAH', 'KAH_Duration', 'Hipotiroidi', 'Asthma',\n",
              "       'COPD', 'OP', 'HT_drugs', 'Total_Duration_of_HT', 'Education', 'Job',\n",
              "       'Status', 'Work_Status', 'Exercise', 'Exercise_Status', 'AT', 'CST',\n",
              "       'Gait_Speed', 'Grip_Str', 'STAR', 'BMI', 'MMSE', 'Sarcopenia',\n",
              "       'Number_of_HT', 'Chronic_Diseases'],\n",
              "      dtype='object')"
            ]
          },
          "metadata": {},
          "execution_count": 66
        }
      ]
    },
    {
      "cell_type": "code",
      "source": [
        "df.Chronic_Diseases.value_counts()"
      ],
      "metadata": {
        "colab": {
          "base_uri": "https://localhost:8080/",
          "height": 489
        },
        "id": "zZi_oEfn72JI",
        "outputId": "759c5bea-f249-487b-e68d-9984b249092e"
      },
      "execution_count": 67,
      "outputs": [
        {
          "output_type": "execute_result",
          "data": {
            "text/plain": [
              "Chronic_Diseases\n",
              "                                             2410\n",
              "DM_Type2                                      557\n",
              "Hipotiroidi                                   404\n",
              "DM_Type2, Dyslipidemia                        190\n",
              "Dyslipidemia                                  159\n",
              "                                             ... \n",
              "DM_Type2, KAH, COPD                             1\n",
              "DM_Type2, Dyslipidemia, Hipotiroidi, COPD       1\n",
              "DM_Type2, Dyslipidemia, KAH, COPD               1\n",
              "DM_Type2, KAH, Asthma                           1\n",
              "Dyslipidemia, Hipotiroidi, Asthma, COPD         1\n",
              "Name: count, Length: 63, dtype: int64"
            ],
            "text/html": [
              "<div>\n",
              "<style scoped>\n",
              "    .dataframe tbody tr th:only-of-type {\n",
              "        vertical-align: middle;\n",
              "    }\n",
              "\n",
              "    .dataframe tbody tr th {\n",
              "        vertical-align: top;\n",
              "    }\n",
              "\n",
              "    .dataframe thead th {\n",
              "        text-align: right;\n",
              "    }\n",
              "</style>\n",
              "<table border=\"1\" class=\"dataframe\">\n",
              "  <thead>\n",
              "    <tr style=\"text-align: right;\">\n",
              "      <th></th>\n",
              "      <th>count</th>\n",
              "    </tr>\n",
              "    <tr>\n",
              "      <th>Chronic_Diseases</th>\n",
              "      <th></th>\n",
              "    </tr>\n",
              "  </thead>\n",
              "  <tbody>\n",
              "    <tr>\n",
              "      <th></th>\n",
              "      <td>2410</td>\n",
              "    </tr>\n",
              "    <tr>\n",
              "      <th>DM_Type2</th>\n",
              "      <td>557</td>\n",
              "    </tr>\n",
              "    <tr>\n",
              "      <th>Hipotiroidi</th>\n",
              "      <td>404</td>\n",
              "    </tr>\n",
              "    <tr>\n",
              "      <th>DM_Type2, Dyslipidemia</th>\n",
              "      <td>190</td>\n",
              "    </tr>\n",
              "    <tr>\n",
              "      <th>Dyslipidemia</th>\n",
              "      <td>159</td>\n",
              "    </tr>\n",
              "    <tr>\n",
              "      <th>...</th>\n",
              "      <td>...</td>\n",
              "    </tr>\n",
              "    <tr>\n",
              "      <th>DM_Type2, KAH, COPD</th>\n",
              "      <td>1</td>\n",
              "    </tr>\n",
              "    <tr>\n",
              "      <th>DM_Type2, Dyslipidemia, Hipotiroidi, COPD</th>\n",
              "      <td>1</td>\n",
              "    </tr>\n",
              "    <tr>\n",
              "      <th>DM_Type2, Dyslipidemia, KAH, COPD</th>\n",
              "      <td>1</td>\n",
              "    </tr>\n",
              "    <tr>\n",
              "      <th>DM_Type2, KAH, Asthma</th>\n",
              "      <td>1</td>\n",
              "    </tr>\n",
              "    <tr>\n",
              "      <th>Dyslipidemia, Hipotiroidi, Asthma, COPD</th>\n",
              "      <td>1</td>\n",
              "    </tr>\n",
              "  </tbody>\n",
              "</table>\n",
              "<p>63 rows × 1 columns</p>\n",
              "</div><br><label><b>dtype:</b> int64</label>"
            ]
          },
          "metadata": {},
          "execution_count": 67
        }
      ]
    },
    {
      "cell_type": "code",
      "source": [
        "df.Chronic_Diseases.isnull().sum()"
      ],
      "metadata": {
        "colab": {
          "base_uri": "https://localhost:8080/"
        },
        "id": "Kif50DDz74QA",
        "outputId": "e2396759-f906-4e5f-e521-54d15b9b90e7"
      },
      "execution_count": 68,
      "outputs": [
        {
          "output_type": "execute_result",
          "data": {
            "text/plain": [
              "np.int64(0)"
            ]
          },
          "metadata": {},
          "execution_count": 68
        }
      ]
    },
    {
      "cell_type": "code",
      "source": [
        "df.Chronic_Diseases.replace(\"\", np.nan, inplace=True)"
      ],
      "metadata": {
        "id": "oWZUBqo67_x1"
      },
      "execution_count": 76,
      "outputs": []
    },
    {
      "cell_type": "code",
      "source": [
        "df.Chronic_Diseases.value_counts(dropna=False)"
      ],
      "metadata": {
        "colab": {
          "base_uri": "https://localhost:8080/",
          "height": 489
        },
        "id": "iFXFv3lL8XiD",
        "outputId": "69f376f5-4510-4530-d940-9f4c6a513a68"
      },
      "execution_count": 85,
      "outputs": [
        {
          "output_type": "execute_result",
          "data": {
            "text/plain": [
              "Chronic_Diseases\n",
              "NaN                                          2410\n",
              "DM_Type2                                      557\n",
              "Hipotiroidi                                   404\n",
              "DM_Type2, Dyslipidemia                        190\n",
              "Dyslipidemia                                  159\n",
              "                                             ... \n",
              "DM_Type2, KAH, COPD                             1\n",
              "DM_Type2, Dyslipidemia, Hipotiroidi, COPD       1\n",
              "DM_Type2, Dyslipidemia, KAH, COPD               1\n",
              "DM_Type2, KAH, Asthma                           1\n",
              "Dyslipidemia, Hipotiroidi, Asthma, COPD         1\n",
              "Name: count, Length: 63, dtype: int64"
            ],
            "text/html": [
              "<div>\n",
              "<style scoped>\n",
              "    .dataframe tbody tr th:only-of-type {\n",
              "        vertical-align: middle;\n",
              "    }\n",
              "\n",
              "    .dataframe tbody tr th {\n",
              "        vertical-align: top;\n",
              "    }\n",
              "\n",
              "    .dataframe thead th {\n",
              "        text-align: right;\n",
              "    }\n",
              "</style>\n",
              "<table border=\"1\" class=\"dataframe\">\n",
              "  <thead>\n",
              "    <tr style=\"text-align: right;\">\n",
              "      <th></th>\n",
              "      <th>count</th>\n",
              "    </tr>\n",
              "    <tr>\n",
              "      <th>Chronic_Diseases</th>\n",
              "      <th></th>\n",
              "    </tr>\n",
              "  </thead>\n",
              "  <tbody>\n",
              "    <tr>\n",
              "      <th>NaN</th>\n",
              "      <td>2410</td>\n",
              "    </tr>\n",
              "    <tr>\n",
              "      <th>DM_Type2</th>\n",
              "      <td>557</td>\n",
              "    </tr>\n",
              "    <tr>\n",
              "      <th>Hipotiroidi</th>\n",
              "      <td>404</td>\n",
              "    </tr>\n",
              "    <tr>\n",
              "      <th>DM_Type2, Dyslipidemia</th>\n",
              "      <td>190</td>\n",
              "    </tr>\n",
              "    <tr>\n",
              "      <th>Dyslipidemia</th>\n",
              "      <td>159</td>\n",
              "    </tr>\n",
              "    <tr>\n",
              "      <th>...</th>\n",
              "      <td>...</td>\n",
              "    </tr>\n",
              "    <tr>\n",
              "      <th>DM_Type2, KAH, COPD</th>\n",
              "      <td>1</td>\n",
              "    </tr>\n",
              "    <tr>\n",
              "      <th>DM_Type2, Dyslipidemia, Hipotiroidi, COPD</th>\n",
              "      <td>1</td>\n",
              "    </tr>\n",
              "    <tr>\n",
              "      <th>DM_Type2, Dyslipidemia, KAH, COPD</th>\n",
              "      <td>1</td>\n",
              "    </tr>\n",
              "    <tr>\n",
              "      <th>DM_Type2, KAH, Asthma</th>\n",
              "      <td>1</td>\n",
              "    </tr>\n",
              "    <tr>\n",
              "      <th>Dyslipidemia, Hipotiroidi, Asthma, COPD</th>\n",
              "      <td>1</td>\n",
              "    </tr>\n",
              "  </tbody>\n",
              "</table>\n",
              "<p>63 rows × 1 columns</p>\n",
              "</div><br><label><b>dtype:</b> int64</label>"
            ]
          },
          "metadata": {},
          "execution_count": 85
        }
      ]
    },
    {
      "cell_type": "code",
      "source": [
        "df.to_excel('/content/drive/MyDrive/SARCOPENIA_PROJECT/sarcopenia-data-set_columns_corrected_5.xlsx')"
      ],
      "metadata": {
        "id": "R7oxdnWH8xL4"
      },
      "execution_count": 86,
      "outputs": []
    },
    {
      "cell_type": "code",
      "source": [],
      "metadata": {
        "id": "_YhLD9mf-Yb0"
      },
      "execution_count": null,
      "outputs": []
    }
  ]
}